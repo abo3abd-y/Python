{
 "cells": [
  {
   "cell_type": "markdown",
   "id": "763460d7",
   "metadata": {},
   "source": [
    "# Tkinter and other things"
   ]
  },
  {
   "cell_type": "markdown",
   "id": "939a067b",
   "metadata": {},
   "source": [
    "Default value functions."
   ]
  },
  {
   "cell_type": "code",
   "execution_count": 11,
   "id": "d1b442ab",
   "metadata": {},
   "outputs": [
    {
     "name": "stdout",
     "output_type": "stream",
     "text": [
      "30\n",
      "50\n",
      "20\n"
     ]
    }
   ],
   "source": [
    "def add (x=10, y=20):\n",
    "    return x + y\n",
    "\n",
    "print(add()) # as you can see, it uses the default arguments\n",
    "\n",
    "print(add(y=40)) # it uses x default value but new y value\n",
    "print(add(10,10)) # changes both"
   ]
  },
  {
   "cell_type": "markdown",
   "id": "45ba5814",
   "metadata": {},
   "source": [
    "`*args` is defined below."
   ]
  },
  {
   "cell_type": "code",
   "execution_count": 15,
   "id": "a25cae86",
   "metadata": {},
   "outputs": [
    {
     "name": "stdout",
     "output_type": "stream",
     "text": [
      "<class 'tuple'>\n",
      "4\n",
      "12\n",
      "<class 'tuple'>\n",
      "2\n",
      "679\n"
     ]
    }
   ],
   "source": [
    "def add(*args): # *args (args can be any other name) is a tuple that can be of unlimited size when called upon\n",
    "    print(type(args)) # as you can see, it is tuple\n",
    "    print(args[1]) # as you can see, you can also access it because it is a tuple after all\n",
    "    sum = 0\n",
    "    for num in args:\n",
    "        sum += num\n",
    "    return sum\n",
    "\n",
    "print(add(3,4,5))\n",
    "print(add(1,2,3,4,5,6,100,12,546))"
   ]
  },
  {
   "cell_type": "markdown",
   "id": "1b29e14c",
   "metadata": {},
   "source": [
    "`**kwargs` is defined below."
   ]
  },
  {
   "cell_type": "code",
   "execution_count": 18,
   "id": "c2ee5723",
   "metadata": {},
   "outputs": [
    {
     "name": "stdout",
     "output_type": "stream",
     "text": [
      "{'add': 3, 'multiply': 5}\n",
      "<class 'dict'>\n",
      "add : 3\n",
      "multiply : 5\n",
      "25\n"
     ]
    }
   ],
   "source": [
    "def calculate(n, **kwargs): # known as keyword arguments\n",
    "    print(kwargs)\n",
    "    print(type(kwargs)) # it a dictionary!\n",
    "\n",
    "    for key, value in kwargs.items():\n",
    "        print(f\"{key} : {value}\")\n",
    "\n",
    "    n += kwargs[\"add\"]\n",
    "    n *= kwargs[\"multiply\"]\n",
    "    print(n)\n",
    "    \n",
    "\n",
    "calculate(2, add=3, multiply=5)\n"
   ]
  },
  {
   "cell_type": "code",
   "execution_count": 19,
   "id": "2db3e1f6",
   "metadata": {},
   "outputs": [
    {
     "name": "stdout",
     "output_type": "stream",
     "text": [
      "GT-R\n",
      "Nissan\n",
      "None\n"
     ]
    }
   ],
   "source": [
    "class Car:\n",
    "    def __init__(self, **kw): # as you can see, you can also do it with classes\n",
    "        self.make = kw.get(\"make\") # benefit of .get instead of classic [] is that .get returns None if key not found\n",
    "        self.model = kw.get(\"model\")\n",
    "        self.color = kw.get(\"color\")\n",
    "        self.seats = kw.get(\"seat\")\n",
    "\n",
    "\n",
    "my_car = Car(make = \"Nissan\", model = \"GT-R\")\n",
    "print(my_car.model)\n",
    "print(my_car.make)\n",
    "print(my_car.color)"
   ]
  },
  {
   "cell_type": "code",
   "execution_count": null,
   "id": "ae6f1b9c",
   "metadata": {},
   "outputs": [],
   "source": [
    "import tkinter as tk\n",
    "\n",
    "window = tk.Tk() # create a class in python\n",
    "\n",
    "\n",
    "window.title(\"My First GUI Program\")\n",
    "window.minsize(width=500, height=300)\n",
    "window.config(padx=20, pady=20) # add padding\n",
    "\n",
    "\n",
    "# label\n",
    "my_label = tk.Label(text=\"I am a label\", font=(\"Arial\", 24, \"bold\"))\n",
    "my_label[\"text\"] = \"New text\" \n",
    "my_label.config(text=\"New Text\")\n",
    "# my_label.pack() # place it and center it on screen\n",
    "# my_label.place(x=100, y=200) # very precise\n",
    "my_label.grid(column=0, row=0) # easiest one to understand; assumes everything as columns and rows\n",
    "my_label.config(padx=10, pady=10) # adds padding around this label\n",
    "\n",
    "def button_clicked():\n",
    "    new_text = input.get()\n",
    "    my_label[\"text\"] = new_text\n",
    "\n",
    "button = tk.Button(text=\"Click Me\", command=button_clicked) #when clicked, button_clicked will be trigerred\n",
    "button.grid(column=1, row=1)\n",
    "\n",
    "new_button = tk.Button(text=\"New button\")\n",
    "new_button.grid(column=2, row=0)\n",
    "# Entry\n",
    "\n",
    "input = tk.Entry(width=10)\n",
    "# input.pack() # again, pack() just means the thing will appear on screen\n",
    "input.grid(column=3, row=2)\n",
    "\n",
    "\n",
    "\n",
    "window.mainloop()\n",
    "\n"
   ]
  },
  {
   "cell_type": "markdown",
   "id": "e9e84549",
   "metadata": {},
   "source": [
    "This is a mini-project that converts miles to km."
   ]
  },
  {
   "cell_type": "code",
   "execution_count": 57,
   "id": "8297d2f6",
   "metadata": {},
   "outputs": [],
   "source": [
    "from tkinter import *\n",
    "\n",
    "\n",
    "def miles_to_km():\n",
    "    miles = float(input.get())\n",
    "    km = miles * 1.609\n",
    "    result_label.config(text=f\"{km}\")\n",
    "\n",
    "window = Tk()\n",
    "window.title(\"Mile to Km Converter\")\n",
    "window.minsize(width=300, height=150)\n",
    "\n",
    "window.config(padx=35, pady=70)\n",
    "\n",
    "equal_label = Label(text=\"is equal to\")\n",
    "equal_label.grid(column=0, row=1)\n",
    "\n",
    "mile_label = Label(text=\"Mile\")\n",
    "mile_label.grid(column=2, row=0)\n",
    "\n",
    "input = Entry(width=7)\n",
    "input.grid(column=1, row=0)\n",
    "\n",
    "\n",
    "result_label = Label(text=\"0\")\n",
    "result_label.grid(column=1, row=1)\n",
    "\n",
    "km_label = Label(text=\"Km\")\n",
    "km_label.grid(column=2, row=1)\n",
    "\n",
    "button = Button(text=\"Calculate\", command=miles_to_km)\n",
    "button.grid(column=1, row=2)\n",
    "\n",
    "\n",
    "window.mainloop()"
   ]
  },
  {
   "cell_type": "markdown",
   "id": "457661fa",
   "metadata": {},
   "source": [
    "Errors and Exceptions."
   ]
  },
  {
   "cell_type": "code",
   "execution_count": 12,
   "id": "ae5a1ed7",
   "metadata": {},
   "outputs": [
    {
     "name": "stdout",
     "output_type": "stream",
     "text": [
      "The key 'fdsfdsfs' does not exist\n",
      "File was closed.\n"
     ]
    },
    {
     "ename": "KeyError",
     "evalue": "'This is an error I made up'",
     "output_type": "error",
     "traceback": [
      "\u001b[31m---------------------------------------------------------------------------\u001b[39m",
      "\u001b[31mKeyError\u001b[39m                                  Traceback (most recent call last)",
      "\u001b[36mCell\u001b[39m\u001b[36m \u001b[39m\u001b[32mIn[12]\u001b[39m\u001b[32m, line 23\u001b[39m\n\u001b[32m     21\u001b[39m file.close()\n\u001b[32m     22\u001b[39m \u001b[38;5;28mprint\u001b[39m(\u001b[33m\"\u001b[39m\u001b[33mFile was closed.\u001b[39m\u001b[33m\"\u001b[39m)\n\u001b[32m---> \u001b[39m\u001b[32m23\u001b[39m \u001b[38;5;28;01mraise\u001b[39;00m \u001b[38;5;167;01mKeyError\u001b[39;00m(\u001b[33m\"\u001b[39m\u001b[33mThis is an error I made up\u001b[39m\u001b[33m\"\u001b[39m) \u001b[38;5;66;03m# i can even raise my own exception with or without a message\u001b[39;00m\n",
      "\u001b[31mKeyError\u001b[39m: 'This is an error I made up'"
     ]
    }
   ],
   "source": [
    "try: # something that might go wrong\n",
    "    file = open(\"Garbage_data/a_file.txt\")\n",
    "    a_dictionary = {\"key1\" : \"value1\"}\n",
    "    print(a_dictionary[\"fdsfdsfs\"]) # as you can see, does not exist\n",
    "except FileNotFoundError:\n",
    "    # if something DID go wrong, run the following\n",
    "    # YOU want the exception to catch a SPECIFIC kind of error\n",
    "    file = open(\"Garbage_data/a_file.txt\", \"w\")\n",
    "    file.write(\"something\")\n",
    "    print(\"right here\")\n",
    "except KeyError as error_message: \n",
    "    # you can have multiple exceptions\n",
    "    # you can also catch the message itself using the as keyword\n",
    "    print(f\"The key {error_message} does not exist\")\n",
    "else:\n",
    "    # the else keyword in this context means that there was no errors in try, then run the else keyword\n",
    "    content = file.read()\n",
    "    print(content)\n",
    "finally:\n",
    "    # THIS WILL RUN NO MATTER WHAT HAPPENS\n",
    "    file.close()\n",
    "    print(\"File was closed.\")\n",
    "    raise KeyError(\"This is an error I made up\") # i can even raise my own exception with or without a message"
   ]
  },
  {
   "cell_type": "markdown",
   "id": "12b8f549",
   "metadata": {},
   "source": [
    "Raising your own exceptions."
   ]
  },
  {
   "cell_type": "code",
   "execution_count": 14,
   "id": "45ac1081",
   "metadata": {},
   "outputs": [
    {
     "ename": "ValueError",
     "evalue": "Human height should not be over 3 meters. You entered '300.0' meters.",
     "output_type": "error",
     "traceback": [
      "\u001b[31m---------------------------------------------------------------------------\u001b[39m",
      "\u001b[31mValueError\u001b[39m                                Traceback (most recent call last)",
      "\u001b[36mCell\u001b[39m\u001b[36m \u001b[39m\u001b[32mIn[14]\u001b[39m\u001b[32m, line 6\u001b[39m\n\u001b[32m      2\u001b[39m weight = \u001b[38;5;28mint\u001b[39m(\u001b[38;5;28minput\u001b[39m(\u001b[33m\"\u001b[39m\u001b[33mWeight: \u001b[39m\u001b[33m\"\u001b[39m))\n\u001b[32m      5\u001b[39m \u001b[38;5;28;01mif\u001b[39;00m height > \u001b[32m3\u001b[39m:\n\u001b[32m----> \u001b[39m\u001b[32m6\u001b[39m     \u001b[38;5;28;01mraise\u001b[39;00m \u001b[38;5;167;01mValueError\u001b[39;00m(\u001b[33mf\u001b[39m\u001b[33m\"\u001b[39m\u001b[33mHuman height should not be over 3 meters. You entered \u001b[39m\u001b[33m'\u001b[39m\u001b[38;5;132;01m{\u001b[39;00mheight\u001b[38;5;132;01m}\u001b[39;00m\u001b[33m'\u001b[39m\u001b[33m meters.\u001b[39m\u001b[33m\"\u001b[39m)\n\u001b[32m      8\u001b[39m bmi = weight / height ** \u001b[32m2\u001b[39m\n\u001b[32m     10\u001b[39m \u001b[38;5;28mprint\u001b[39m(bmi)\n",
      "\u001b[31mValueError\u001b[39m: Human height should not be over 3 meters. You entered '300.0' meters."
     ]
    }
   ],
   "source": [
    "height = float(input(\"Height: \"))\n",
    "weight = int(input(\"Weight: \"))\n",
    "\n",
    "\n",
    "if height > 3:\n",
    "    raise ValueError(f\"Human height should not be over 3 meters. You entered '{height}' meters.\")\n",
    "\n",
    "bmi = weight / height ** 2\n",
    "\n",
    "print(bmi)"
   ]
  },
  {
   "cell_type": "markdown",
   "id": "d4032c1f",
   "metadata": {},
   "source": [
    "Json format."
   ]
  },
  {
   "cell_type": "code",
   "execution_count": null,
   "id": "fdebbcd7",
   "metadata": {},
   "outputs": [],
   "source": [
    "import json\n",
    "with open(\"Garbage_data/sample_data.json\", \"w\") as file:\n",
    "    new_data = {\n",
    "        \"Amazon\" : {\n",
    "            \"email\" : \"sample_email@gmail.com\",\n",
    "            \"password\" : \"my_password123\"\n",
    "        }\n",
    "    }\n",
    "    json.dump(new_data, file, indent=4) # accepts two args: data and the file. third_arg is optional and its to make json look better and easier to read\n",
    "\n",
    "\n"
   ]
  },
  {
   "cell_type": "code",
   "execution_count": null,
   "id": "2e023eb1",
   "metadata": {},
   "outputs": [
    {
     "name": "stdout",
     "output_type": "stream",
     "text": [
      "{'Amazon': {'email': 'sample_email@gmail.com', 'password': 'my_password123'}}\n",
      "<class 'dict'>\n"
     ]
    }
   ],
   "source": [
    "# read from json\n",
    "with open(\"Garbage_data/sample_data.json\", \"r\") as file:\n",
    "    data = json.load(file) # only one arg. so load func is just to read from the json file\n",
    "    print(data)\n",
    "    print(type(data)) # AS A DICT!\n"
   ]
  },
  {
   "cell_type": "code",
   "execution_count": 23,
   "id": "ff6f5681",
   "metadata": {},
   "outputs": [],
   "source": [
    "# Update json\n",
    "with open(\"Garbage_data/sample_data.json\", \"r\") as file:\n",
    "    data = json.load(file) # read old data\n",
    "    new_data = {\n",
    "        \"Ebay\" : {\n",
    "            \"email\" : \"ebay@gmail.com\",\n",
    "            \"password\" : \"password123\"\n",
    "        }\n",
    "    }\n",
    "    data.update(new_data) # update old with new data\n",
    "    \n",
    "    \n",
    "with open(\"Garbage_data/sample_data.json\", \"w\") as file:\n",
    "    json.dump(data, file, indent=4) # push data onto file"
   ]
  },
  {
   "cell_type": "markdown",
   "id": "a0965f47",
   "metadata": {},
   "source": [
    "Send email using python code. We'll be using the `smtplib` library to send emails to other people. SMTP stands for Simple Mail Transfer Protocol. You can read more about it right in this [wikipedia link](https://en.wikipedia.org/wiki/Simple_Mail_Transfer_Protocol). There is also this [youtube video](https://www.youtube.com/watch?v=PJo5yOtu7o8) here that clearly explains it."
   ]
  },
  {
   "cell_type": "code",
   "execution_count": 31,
   "id": "498d233b",
   "metadata": {},
   "outputs": [],
   "source": [
    "import smtplib\n",
    "\n",
    "my_email = \"frank.morbies@gmail.com\"\n",
    "password = \"kswd vdmh jnrv jyde\"\n",
    "\n",
    "connection = smtplib.SMTP(\"smtp.gmail.com\", port=587) # create object\n",
    "connection.starttls() # security purpose; makes it secure and hashed\n",
    "connection.login(user=my_email, password=password)\n",
    "connection.sendmail(from_addr=my_email,\n",
    "                    to_addrs=\"y_here_12@yahoo.com\",\n",
    "                    msg=\"Subject:Hello\\n\\nThis is the body of my email.\")\n",
    "connection.close()"
   ]
  },
  {
   "cell_type": "code",
   "execution_count": null,
   "id": "b0693c60",
   "metadata": {},
   "outputs": [],
   "source": [
    "# You can do this as well just like doing it with a file\n",
    "my_email = \"frank.morbies@gmail.com\"\n",
    "password = \"kswd vdmh jnrv jyde\"\n",
    "with smtplib.SMTP(\"smtp.gmail.com\", port=587) as connection:\n",
    "    connection.starttls() # security purpose; makes it secure and hashed\n",
    "    connection.login(user=my_email, password=password)\n",
    "    connection.sendmail(from_addr=my_email,\n",
    "                        to_addrs=\"y_here_12@yahoo.com\",\n",
    "                        msg=\"Subject:Hello\\n\\nThis is the body of my email.\")"
   ]
  },
  {
   "cell_type": "markdown",
   "id": "5093e925",
   "metadata": {},
   "source": [
    "Now, we are going to talk about the `datetime` module."
   ]
  },
  {
   "cell_type": "code",
   "execution_count": null,
   "id": "7f90dd81",
   "metadata": {},
   "outputs": [
    {
     "name": "stdout",
     "output_type": "stream",
     "text": [
      "2025-06-14 14:56:43.551282\n",
      "<class 'datetime.datetime'>\n"
     ]
    }
   ],
   "source": [
    "import datetime as dt\n",
    "\n",
    "now = dt.datetime.now() # datetime is a class, and now() is an method of datetime that returns the current time as an instance of datetime. now is a class method\n",
    "print(now)\n",
    "print(type(now))"
   ]
  },
  {
   "cell_type": "markdown",
   "id": "b5255411",
   "metadata": {},
   "source": [
    "Learn more about class methods in python and how they are different from other methods [here](https://www.youtube.com/watch?v=PIKiHq1O9HQ) and [here](https://www.youtube.com/watch?v=rq8cL2XMM5M) as well."
   ]
  },
  {
   "cell_type": "code",
   "execution_count": 35,
   "id": "f6d838d1",
   "metadata": {},
   "outputs": [
    {
     "name": "stdout",
     "output_type": "stream",
     "text": [
      "it is 2025\n",
      "2025\n"
     ]
    }
   ],
   "source": [
    "year = now.year # year is an attribute\n",
    "if year == 2025:\n",
    "    print(\"it is 2025\")\n",
    "print(year)"
   ]
  },
  {
   "cell_type": "code",
   "execution_count": null,
   "id": "464bbe61",
   "metadata": {},
   "outputs": [
    {
     "name": "stdout",
     "output_type": "stream",
     "text": [
      "5\n"
     ]
    }
   ],
   "source": [
    "month = now.month\n",
    "day_of_week = now.weekday()\n",
    "print(day_of_week) # remember computer starts couting from 0"
   ]
  },
  {
   "cell_type": "code",
   "execution_count": null,
   "id": "6b6fdcb0",
   "metadata": {},
   "outputs": [
    {
     "name": "stdout",
     "output_type": "stream",
     "text": [
      "2004-04-09 00:00:00\n"
     ]
    }
   ],
   "source": [
    "date_of_birth = dt.datetime(year=2004, month=4, day=9) # you can even create your own datetime objects\n",
    "print(date_of_birth)"
   ]
  },
  {
   "cell_type": "markdown",
   "id": "a724cbb7",
   "metadata": {},
   "source": [
    "Monday motivation code."
   ]
  },
  {
   "cell_type": "code",
   "execution_count": 50,
   "id": "6bca6493",
   "metadata": {},
   "outputs": [
    {
     "name": "stdout",
     "output_type": "stream",
     "text": [
      "\"One of the best pieces of advice I ever got was from a horse master. He told me to go slow to go fast. I think that applies to everything in life. We live as though there aren't enough hours in the day but if we do each thing calmly and carefully we will get it done quicker and with much less stress.\" - Viggo Mortensen\n",
      "\n"
     ]
    }
   ],
   "source": [
    "import datetime as dt\n",
    "import smtplib\n",
    "import random\n",
    "\n",
    "EMAIL = \"frank.morbies@gmail.com\"\n",
    "PW = \"qiut ldjq rsuy atmd\"\n",
    "\n",
    "now = dt.datetime.now()\n",
    "weekday = now.weekday()\n",
    "\n",
    "if weekday == 5:\n",
    "    with open(\"Garbage_data/quotes.txt\") as file:\n",
    "        all_q = file.readlines()\n",
    "        q = random.choice(all_q)\n",
    "\n",
    "    print(q)\n",
    "\n",
    "    with smtplib.SMTP(\"smtp.gmail.com\", port=587) as connection:\n",
    "        connection.starttls()\n",
    "        connection.login(EMAIL, PW)\n",
    "        connection.sendmail(from_addr = EMAIL, \n",
    "                        to_addrs = \"y_here_12@yahoo.com\", \n",
    "                        msg=f\"Subject:Monday Motivation\\n\\n{q}\")\n"
   ]
  },
  {
   "cell_type": "markdown",
   "id": "08408312",
   "metadata": {},
   "source": [
    "Now, the Automated Birthday Wisher."
   ]
  },
  {
   "cell_type": "code",
   "execution_count": 57,
   "id": "865271a7",
   "metadata": {},
   "outputs": [],
   "source": [
    "from datetime import datetime\n",
    "import pandas as pd\n",
    "import random\n",
    "import smtplib\n",
    "\n",
    "MY_EMAIL = \"frank.morbies@gmail.com\"\n",
    "MY_PW = \"qiut ldjq rsuy atmd\"\n",
    "\n",
    "today = (datetime.now().month, datetime.now().day)\n",
    "\n",
    "data = pd.read_csv(\"Garbage_data/birthdays.csv\") # now dataframe\n",
    "\n",
    "new_dict = {(data_row.month, data_row.day) : data_row for (index, data_row) in data.iterrows()}\n",
    "\n",
    "\n",
    "if today in new_dict:\n",
    "    birthday_person = new_dict[today]\n",
    "    file_path = f\"Garbage_data/letter_templates/letter_{random.randint(1,3)}.txt\"\n",
    "    with open(file_path) as file:\n",
    "        contents = file.read()\n",
    "        contents = contents.replace(\"[NAME]\", birthday_person[\"name\"])\n",
    "\n",
    "\n",
    "    with smtplib.SMTP(\"smtp.gmail.com\", port=587) as connection:\n",
    "        connection.starttls()\n",
    "        connection.login(MY_EMAIL, MY_PW)\n",
    "        connection.sendmail(\n",
    "            from_addr=MY_EMAIL,\n",
    "            to_addrs= birthday_person[\"email\"],\n",
    "            msg=f\"Subject:Happy Birthday!\\n\\n{contents}\"\n",
    "        )\n"
   ]
  },
  {
   "cell_type": "code",
   "execution_count": null,
   "id": "791db198",
   "metadata": {},
   "outputs": [],
   "source": []
  }
 ],
 "metadata": {
  "kernelspec": {
   "display_name": "Python 3",
   "language": "python",
   "name": "python3"
  },
  "language_info": {
   "codemirror_mode": {
    "name": "ipython",
    "version": 3
   },
   "file_extension": ".py",
   "mimetype": "text/x-python",
   "name": "python",
   "nbconvert_exporter": "python",
   "pygments_lexer": "ipython3",
   "version": "3.13.2"
  }
 },
 "nbformat": 4,
 "nbformat_minor": 5
}
