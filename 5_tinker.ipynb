{
 "cells": [
  {
   "cell_type": "markdown",
   "id": "763460d7",
   "metadata": {},
   "source": [
    "# Tkinter and other things"
   ]
  },
  {
   "cell_type": "markdown",
   "id": "939a067b",
   "metadata": {},
   "source": [
    "Default value functions."
   ]
  },
  {
   "cell_type": "code",
   "execution_count": 11,
   "id": "d1b442ab",
   "metadata": {},
   "outputs": [
    {
     "name": "stdout",
     "output_type": "stream",
     "text": [
      "30\n",
      "50\n",
      "20\n"
     ]
    }
   ],
   "source": [
    "def add (x=10, y=20):\n",
    "    return x + y\n",
    "\n",
    "print(add()) # as you can see, it uses the default arguments\n",
    "\n",
    "print(add(y=40)) # it uses x default value but new y value\n",
    "print(add(10,10)) # changes both"
   ]
  },
  {
   "cell_type": "markdown",
   "id": "45ba5814",
   "metadata": {},
   "source": [
    "`*args` is defined below."
   ]
  },
  {
   "cell_type": "code",
   "execution_count": 15,
   "id": "a25cae86",
   "metadata": {},
   "outputs": [
    {
     "name": "stdout",
     "output_type": "stream",
     "text": [
      "<class 'tuple'>\n",
      "4\n",
      "12\n",
      "<class 'tuple'>\n",
      "2\n",
      "679\n"
     ]
    }
   ],
   "source": [
    "def add(*args): # *args (args can be any other name) is a tuple that can be of unlimited size when called upon\n",
    "    print(type(args)) # as you can see, it is tuple\n",
    "    print(args[1]) # as you can see, you can also access it because it is a tuple after all\n",
    "    sum = 0\n",
    "    for num in args:\n",
    "        sum += num\n",
    "    return sum\n",
    "\n",
    "print(add(3,4,5))\n",
    "print(add(1,2,3,4,5,6,100,12,546))"
   ]
  },
  {
   "cell_type": "markdown",
   "id": "1b29e14c",
   "metadata": {},
   "source": [
    "`**kwargs` is defined below."
   ]
  },
  {
   "cell_type": "code",
   "execution_count": 18,
   "id": "c2ee5723",
   "metadata": {},
   "outputs": [
    {
     "name": "stdout",
     "output_type": "stream",
     "text": [
      "{'add': 3, 'multiply': 5}\n",
      "<class 'dict'>\n",
      "add : 3\n",
      "multiply : 5\n",
      "25\n"
     ]
    }
   ],
   "source": [
    "def calculate(n, **kwargs): # known as keyword arguments\n",
    "    print(kwargs)\n",
    "    print(type(kwargs)) # it a dictionary!\n",
    "\n",
    "    for key, value in kwargs.items():\n",
    "        print(f\"{key} : {value}\")\n",
    "\n",
    "    n += kwargs[\"add\"]\n",
    "    n *= kwargs[\"multiply\"]\n",
    "    print(n)\n",
    "    \n",
    "\n",
    "calculate(2, add=3, multiply=5)\n"
   ]
  },
  {
   "cell_type": "code",
   "execution_count": 19,
   "id": "2db3e1f6",
   "metadata": {},
   "outputs": [
    {
     "name": "stdout",
     "output_type": "stream",
     "text": [
      "GT-R\n",
      "Nissan\n",
      "None\n"
     ]
    }
   ],
   "source": [
    "class Car:\n",
    "    def __init__(self, **kw): # as you can see, you can also do it with classes\n",
    "        self.make = kw.get(\"make\") # benefit of .get instead of classic [] is that .get returns None if key not found\n",
    "        self.model = kw.get(\"model\")\n",
    "        self.color = kw.get(\"color\")\n",
    "        self.seats = kw.get(\"seat\")\n",
    "\n",
    "\n",
    "my_car = Car(make = \"Nissan\", model = \"GT-R\")\n",
    "print(my_car.model)\n",
    "print(my_car.make)\n",
    "print(my_car.color)"
   ]
  },
  {
   "cell_type": "code",
   "execution_count": null,
   "id": "ae6f1b9c",
   "metadata": {},
   "outputs": [],
   "source": [
    "import tkinter as tk\n",
    "\n",
    "window = tk.Tk() # create a class in python\n",
    "\n",
    "\n",
    "window.title(\"My First GUI Program\")\n",
    "window.minsize(width=500, height=300)\n",
    "window.config(padx=20, pady=20) # add padding\n",
    "\n",
    "\n",
    "# label\n",
    "my_label = tk.Label(text=\"I am a label\", font=(\"Arial\", 24, \"bold\"))\n",
    "my_label[\"text\"] = \"New text\" \n",
    "my_label.config(text=\"New Text\")\n",
    "# my_label.pack() # place it and center it on screen\n",
    "# my_label.place(x=100, y=200) # very precise\n",
    "my_label.grid(column=0, row=0) # easiest one to understand; assumes everything as columns and rows\n",
    "my_label.config(padx=10, pady=10) # adds padding around this label\n",
    "\n",
    "def button_clicked():\n",
    "    new_text = input.get()\n",
    "    my_label[\"text\"] = new_text\n",
    "\n",
    "button = tk.Button(text=\"Click Me\", command=button_clicked) #when clicked, button_clicked will be trigerred\n",
    "button.grid(column=1, row=1)\n",
    "\n",
    "new_button = tk.Button(text=\"New button\")\n",
    "new_button.grid(column=2, row=0)\n",
    "# Entry\n",
    "\n",
    "input = tk.Entry(width=10)\n",
    "# input.pack() # again, pack() just means the thing will appear on screen\n",
    "input.grid(column=3, row=2)\n",
    "\n",
    "\n",
    "\n",
    "window.mainloop()\n",
    "\n"
   ]
  },
  {
   "cell_type": "markdown",
   "id": "e9e84549",
   "metadata": {},
   "source": [
    "This is a mini-project that converts miles to km."
   ]
  },
  {
   "cell_type": "code",
   "execution_count": 57,
   "id": "8297d2f6",
   "metadata": {},
   "outputs": [],
   "source": [
    "from tkinter import *\n",
    "\n",
    "\n",
    "def miles_to_km():\n",
    "    miles = float(input.get())\n",
    "    km = miles * 1.609\n",
    "    result_label.config(text=f\"{km}\")\n",
    "\n",
    "window = Tk()\n",
    "window.title(\"Mile to Km Converter\")\n",
    "window.minsize(width=300, height=150)\n",
    "\n",
    "window.config(padx=35, pady=70)\n",
    "\n",
    "equal_label = Label(text=\"is equal to\")\n",
    "equal_label.grid(column=0, row=1)\n",
    "\n",
    "mile_label = Label(text=\"Mile\")\n",
    "mile_label.grid(column=2, row=0)\n",
    "\n",
    "input = Entry(width=7)\n",
    "input.grid(column=1, row=0)\n",
    "\n",
    "\n",
    "result_label = Label(text=\"0\")\n",
    "result_label.grid(column=1, row=1)\n",
    "\n",
    "km_label = Label(text=\"Km\")\n",
    "km_label.grid(column=2, row=1)\n",
    "\n",
    "button = Button(text=\"Calculate\", command=miles_to_km)\n",
    "button.grid(column=1, row=2)\n",
    "\n",
    "\n",
    "window.mainloop()"
   ]
  },
  {
   "cell_type": "code",
   "execution_count": null,
   "id": "ae5a1ed7",
   "metadata": {},
   "outputs": [],
   "source": []
  }
 ],
 "metadata": {
  "kernelspec": {
   "display_name": "Python 3",
   "language": "python",
   "name": "python3"
  },
  "language_info": {
   "codemirror_mode": {
    "name": "ipython",
    "version": 3
   },
   "file_extension": ".py",
   "mimetype": "text/x-python",
   "name": "python",
   "nbconvert_exporter": "python",
   "pygments_lexer": "ipython3",
   "version": "3.13.2"
  }
 },
 "nbformat": 4,
 "nbformat_minor": 5
}
