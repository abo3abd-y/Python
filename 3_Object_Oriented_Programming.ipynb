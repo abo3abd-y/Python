{
 "cells": [
  {
   "cell_type": "markdown",
   "id": "e605a20f",
   "metadata": {},
   "source": [
    "# 3. Object Oriented Programming (OOP)\n",
    "\n",
    "Object Oriented Programming is super important for computer science concepts and this is because it allows you to organize similar pieces of codes into one piece.\n",
    "\n",
    "We are first going to learn these concepts from the Youtube video found [here](https://www.youtube.com/watch?v=Ej_02ICOIgs) and then we are going to learn it from the Udemy course that we are learning from."
   ]
  },
  {
   "cell_type": "code",
   "execution_count": 1,
   "id": "42d70b8e",
   "metadata": {},
   "outputs": [
    {
     "data": {
      "text/plain": [
       "'4'"
      ]
     },
     "execution_count": 1,
     "metadata": {},
     "output_type": "execute_result"
    }
   ],
   "source": [
    "class Item:\n",
    "    pass # this means that the class is empty here\n",
    "\n",
    "item1 = Item()\n",
    "random_str = str(\"4\") # similar to this\n",
    "random_str"
   ]
  },
  {
   "cell_type": "code",
   "execution_count": 2,
   "id": "f453bdf3",
   "metadata": {},
   "outputs": [
    {
     "name": "stdout",
     "output_type": "stream",
     "text": [
      "2500\n"
     ]
    }
   ],
   "source": [
    "class Item:\n",
    "    def calculate_total_price(self, x, y): # you always have to provide one argument to these methods here\n",
    "        # self is basically the object itself that you can pass to this function\n",
    "        return x * y\n",
    "    \n",
    "item1 = Item()\n",
    "item1.price = 500 # we can define attributes here which is cool\n",
    "item1.quantity = 5\n",
    "print(item1.calculate_total_price(item1.price, item1.quantity))"
   ]
  },
  {
   "cell_type": "code",
   "execution_count": null,
   "id": "7b3954d8",
   "metadata": {},
   "outputs": [
    {
     "name": "stdout",
     "output_type": "stream",
     "text": [
      "An instance created: Phone\n",
      "An instance created: Laptop\n",
      "Phone 100 5\n",
      "Laptop 1000 7\n",
      "500\n",
      "7000\n",
      "{'__module__': '__main__', 'pay_rate': 0.8, '__init__': <function Item.__init__ at 0x00000295CBF93420>, 'calculate_total_price': <function Item.calculate_total_price at 0x00000295CBF939C0>, 'apply_discount': <function Item.apply_discount at 0x00000295CBFBC7C0>, '__dict__': <attribute '__dict__' of 'Item' objects>, '__weakref__': <attribute '__weakref__' of 'Item' objects>, '__doc__': None}\n",
      "{'name': 'Phone', 'price': 100, 'quantity': 5}\n",
      "80.0\n",
      "700.0\n",
      "{'name': 'Phone', 'price': 80.0, 'quantity': 5}\n",
      "{'name': 'Laptop', 'price': 700.0, 'quantity': 7, 'has_numpad': False, 'pay_rate': 0.7}\n"
     ]
    }
   ],
   "source": [
    "class Item:\n",
    "    pay_rate = 0.8 # pay are after 20 percent\n",
    "    def __init__(self, name : str, price : float, quantity = 0): # intializer or constructor that gets called when creating a new object. as you can see, we also put quantrity equal to 0 in case we do not put quantity here\n",
    "        \n",
    "        print(f\"An instance created: {name}\")\n",
    "        # run validations to the received arguments\n",
    "        assert price >= 0, f\"Price {price} is not greater than or equal to zero\" # these statements make sure that those attributes are bigger than or wqual to zero, otherwise it produces an AssertionError\n",
    "        # as you can see, you can also provide an error message next to the assert statewment\n",
    "        assert quantity >= 0, f\"Quantity {quantity} is not greater than or equal to zero\"\n",
    "        \n",
    "        \n",
    "        self.name = name # as you can see, we created the variable name for this object\n",
    "        self.price = price\n",
    "        self.quantity = quantity\n",
    "\n",
    "    def calculate_total_price(self): # no more arguments here\n",
    "        return self.price * self.quantity\n",
    "    \n",
    "    def apply_discount(self):\n",
    "        self.price = self.price * self.pay_rate # we are using the class level attribute because pay_rate is not part of instance level attributes, so we cannot use self in this case\n",
    "\n",
    "# also, for the quantity part, the reason why we havent provided a data type is because we already provided it with a number to initialize and python knows this gotta be an integer\n",
    "\n",
    "item1 = Item(\"Phone\", 100, 5) # as you can see, it worked\n",
    "\n",
    "item2 = Item(\"Laptop\", 1000, 7)\n",
    "item2.has_numpad = False # as you can see, we can add attributes even though we defined some inside the constructor\n",
    "\n",
    "print(item1.name, item1.price, item1.quantity)\n",
    "print(item2.name, item2.price, item2.quantity)\n",
    "print(item1.calculate_total_price())\n",
    "print(item2.calculate_total_price())\n",
    "\n",
    "\n",
    "print(Item.__dict__) # shows attributes in class level\n",
    "print(item1.__dict__) # shows you the attributes of the class, but not the pay_rate? this shows the attributes in instance level\n",
    "item1.apply_discount()\n",
    "print(item1.price)\n",
    "\n",
    "item2.pay_rate = 0.7 # look for in instance level, then go outward\n",
    "item2.apply_discount()\n",
    "print(item2.price)\n",
    "\n",
    "\n",
    "\n",
    "print(item1.__dict__) # pay_rate not found here\n",
    "print(item2.__dict__) # pay_rate found here\n"
   ]
  },
  {
   "cell_type": "code",
   "execution_count": 49,
   "id": "5acb20e0",
   "metadata": {},
   "outputs": [
    {
     "name": "stdout",
     "output_type": "stream",
     "text": [
      "An instance created: Phone\n",
      "An instance created: Laptop\n",
      "An instance created: Cable\n",
      "An instance created: Mouse\n",
      "An instance created: Keyboard\n",
      "[Item('Phone', 100, 1), Item('Laptop', 1000, 3), Item('Cable', 10, 5), Item('Mouse', 50, 5), Item('Keyboard', 75, 5)]\n",
      "Phone\n",
      "Laptop\n",
      "Cable\n",
      "Mouse\n",
      "Keyboard\n"
     ]
    }
   ],
   "source": [
    "import csv\n",
    "\n",
    "class Item:\n",
    "    pay_rate = 0.8 \n",
    "    all = [] \n",
    "    def __init__(self, name : str, price : float, quantity = 0):\n",
    "        \n",
    "        print(f\"An instance created: {name}\")\n",
    "        assert price >= 0, f\"Price {price} is not greater than or equal to zero\"\n",
    "        \n",
    "        assert quantity >= 0, f\"Quantity {quantity} is not greater than or equal to zero\"\n",
    "        \n",
    "        \n",
    "        self.name = name \n",
    "        self.price = price\n",
    "        self.quantity = quantity\n",
    "\n",
    "        # Actions to execute, add the instance to the all list that we created above\n",
    "        Item.all.append(self) # we add this instance to the all list that we created above\n",
    "    def calculate_total_price(self): \n",
    "        return self.price * self.quantity\n",
    "    \n",
    "    def apply_discount(self):\n",
    "        self.price = self.price * self.pay_rate\n",
    "\n",
    "    @classmethod\n",
    "    def instantiate_from_csv(cls): # it says that this method is a class method and not an instance method. The class itself is passed here as the first argument\n",
    "        with open('3_data_example_1.csv', 'r') as f:\n",
    "            reader = csv.DictReader(f) # this reads the content as list of dictionaries\n",
    "            items = list(reader) # conver to list\n",
    "        \n",
    "        for item in items:\n",
    "            print(item)\n",
    "            Item( # constructor will be called and so these will be stored in the all list\n",
    "                name=item.get('name'),\n",
    "                price=float(item.get('price')),\n",
    "                quantity=int(item.get('quantity'))\n",
    "            )\n",
    "\n",
    "    def __repr__(self): # not sure what this does. basically, when you call Item.all, it calls this function\n",
    "        return f\"{self.__class__.__name__}('{self.name}', {self.price}, {self.quantity})\"\n",
    "    \n",
    "    @staticmethod\n",
    "    def is_integer(num): # what is static method? why doesnt accept the self as the first argument like others\n",
    "        # We will count out the floats that are point zero or .0\n",
    "        # Ex. 5.0, 10.0\n",
    "        if isinstance(num, float): # checks if num is float or not\n",
    "            # count out the floats that are .0 or whole numbers\n",
    "            return num.is_integer()\n",
    "        elif isinstance(num, int):\n",
    "            return True\n",
    "        else:\n",
    "            return False\n",
    "\n",
    "\n",
    "\n",
    "\n",
    "\n",
    "item1 = Item(\"Phone\", 100, 1)\n",
    "item2 = Item(\"Laptop\", 1000, 3)\n",
    "item3 = Item(\"Cable\", 10, 5)\n",
    "item4 = Item(\"Mouse\", 50, 5)\n",
    "item5 = Item(\"Keyboard\", 75, 5)\n",
    "\n",
    "\n",
    "print(Item.all) # It will be useful to know how many instances we have created\n",
    "\n",
    "for instance in Item.all:\n",
    "    print(instance.name)\n",
    "\n",
    "\n",
    "\n"
   ]
  },
  {
   "cell_type": "markdown",
   "id": "f0378268",
   "metadata": {},
   "source": [
    "Using CSV."
   ]
  },
  {
   "cell_type": "code",
   "execution_count": 38,
   "id": "b6891a2d",
   "metadata": {},
   "outputs": [
    {
     "name": "stdout",
     "output_type": "stream",
     "text": [
      "{'name': 'Phone', 'price': '100', 'quantity': '1'}\n",
      "An instance created: Phone\n",
      "{'name': 'Laptop', 'price': '1000', 'quantity': '3'}\n",
      "An instance created: Laptop\n",
      "{'name': 'Cable', 'price': '10', 'quantity': '5'}\n",
      "An instance created: Cable\n",
      "{'name': 'Mouse', 'price': '50', 'quantity': '5'}\n",
      "An instance created: Mouse\n",
      "{'name': 'Keyboard', 'price': '75.1', 'quantity': '5'}\n",
      "An instance created: Keyboard\n",
      "True\n"
     ]
    }
   ],
   "source": [
    "Item.instantiate_from_csv() # prints the list of dictionaries\n",
    "\n",
    "print(Item.is_integer(10.00))"
   ]
  },
  {
   "cell_type": "code",
   "execution_count": null,
   "id": "b0b69bda",
   "metadata": {},
   "outputs": [
    {
     "name": "stdout",
     "output_type": "stream",
     "text": [
      "An instance created: jscPhonev10\n",
      "2500\n",
      "[Item('Phone', 100, 1), Item('Laptop', 1000, 3), Item('Cable', 10, 5), Item('Mouse', 50, 5), Item('Keyboard', 75, 5), Phone('jscPhonev10', 500, 5), Phone('jscPhonev10', 500, 5)]\n",
      "[Item('Phone', 100, 1), Item('Laptop', 1000, 3), Item('Cable', 10, 5), Item('Mouse', 50, 5), Item('Keyboard', 75, 5), Phone('jscPhonev10', 500, 5), Phone('jscPhonev10', 500, 5)]\n"
     ]
    }
   ],
   "source": [
    "import csv\n",
    "\n",
    "\n",
    "class Phone(Item): # Inheritance: you can create a class that inherits the functionality of other classes\n",
    "\n",
    "    def __init__(self,name:str, price:float, quantity=0,  broken_phones = 0): # in herits stuff from init so we do not have to duplicate using the super thing\n",
    "        super().__init__( # super() basically returns a proxy object of the parent class so you can use their functions. in this case, we are calling the parent's init function and calling it on this child's instance\n",
    "            name, price, quantity\n",
    "        )\n",
    "        assert broken_phones >= 0, f\"Quantity {broken_phones} is not greater than or equal to zero\"\n",
    "        \n",
    "        self.broken_phones = broken_phones\n",
    "        \n",
    "        # Phone.all.append(self) \n",
    "\n",
    "phone1 = Phone(\"jscPhonev10\", 500, 5, 1)\n",
    "print(phone1.calculate_total_price()) # look, it inherits stuff from Item\n",
    "\n",
    "print(Item.all)\n",
    "print(Phone.all)\n",
    "# as you can see, we see this phone is inside item and also inside phone\n",
    "# we changed the item function so that it prints phone instead of item for phone\n",
    "\n",
    "\n",
    "# notice that all is the same for sort of both classes because phone is also appended to parent's all\n",
    "# this is because of super().__init__() and so we will comment it out\n",
    "\n",
    "\n",
    "# now, phone has access to both classes\n"
   ]
  },
  {
   "cell_type": "markdown",
   "id": "72f263ea",
   "metadata": {},
   "source": [
    "Now the process of learning Object Oriented Programming from the Udemy Course that we have been learning from. Let's import and use a module called `turtle`."
   ]
  },
  {
   "cell_type": "code",
   "execution_count": 13,
   "id": "696e7f90",
   "metadata": {},
   "outputs": [
    {
     "name": "stdout",
     "output_type": "stream",
     "text": [
      "<turtle.Turtle object at 0x00000248CCDCAC00>\n",
      "300\n"
     ]
    }
   ],
   "source": [
    "from turtle import Turtle, Screen\n",
    "\n",
    "timmy = Turtle() # we created an object called timmy from a class called Turtle imported from the turtle module\n",
    "my_screen = Screen() # create an instance or object from the screen class\n",
    "timmy.shape(\"turtle\") # these methods allow you to change the value of those attribnutes that belong to the object\n",
    "timmy.color(\"coral\")\n",
    "timmy.forward(50)\n",
    "\n",
    "print(timmy)\n",
    "print(my_screen.canvheight)\n",
    "\n",
    "my_screen.exitonclick() # this shows a pop up that exits when the screen detects a click from the user\n"
   ]
  },
  {
   "cell_type": "code",
   "execution_count": 21,
   "id": "2e01f4d8",
   "metadata": {},
   "outputs": [
    {
     "name": "stdout",
     "output_type": "stream",
     "text": [
      "{'base_align_value': 'c', 'Pokemon Name': 'l', 'Type': 'l'}\n",
      "+--------------+----------+\n",
      "| Pokemon Name | Type     |\n",
      "+--------------+----------+\n",
      "| Pickachu     | Electric |\n",
      "| Squirtle     | Water    |\n",
      "| Charmander   | Fire     |\n",
      "+--------------+----------+\n"
     ]
    }
   ],
   "source": [
    "from prettytable import PrettyTable\n",
    "table = PrettyTable()\n",
    "table.add_column(\"Pokemon Name\", [\"Pickachu\", \"Squirtle\", \"Charmander\"])\n",
    "table.add_column(\"Type\", [\"Electric\", \"Water\", \"Fire\"])\n",
    "\n",
    "table.align = \"l\" # as you can see, we are changing the value of the attributes as such\n",
    "\n",
    "print(table.align) \n",
    "print(table)"
   ]
  },
  {
   "cell_type": "markdown",
   "id": "2f7e1bbc",
   "metadata": {},
   "source": [
    "Now, we can create those classes in python."
   ]
  },
  {
   "cell_type": "code",
   "execution_count": null,
   "id": "90e23981",
   "metadata": {},
   "outputs": [
    {
     "name": "stdout",
     "output_type": "stream",
     "text": [
      "abdullah\n",
      "Jack\n",
      "0\n",
      "1\n",
      "1\n",
      "0\n"
     ]
    },
    {
     "ename": "",
     "evalue": "",
     "output_type": "error",
     "traceback": [
      "\u001b[1;31mThe Kernel crashed while executing code in the current cell or a previous cell. \n",
      "\u001b[1;31mPlease review the code in the cell(s) to identify a possible cause of the failure. \n",
      "\u001b[1;31mClick <a href='https://aka.ms/vscodeJupyterKernelCrash'>here</a> for more info. \n",
      "\u001b[1;31mView Jupyter <a href='command:jupyter.viewOutput'>log</a> for further details."
     ]
    }
   ],
   "source": [
    "class User:\n",
    "    def __init__(self, user_id, username): # this will be called everytime a new object is created from this class\n",
    "        self.id = user_id\n",
    "        self.username = username\n",
    "        self.followers = 0\n",
    "        self.following = 0\n",
    "\n",
    "    def follow(self, user): # always needs self as the first argument here\n",
    "        user.followers += 1\n",
    "        self.following += 1\n",
    "\n",
    "user_1 = User(\"001\", \"abdullah\")\n",
    "# user_1.id = \"001\"\n",
    "# user_1.username = \"abdullah\"\n",
    "\n",
    "print(user_1.username)\n",
    "\n",
    "user_2 = User(\"002\", \"Jack\")\n",
    "\n",
    "print(user_2.username)\n",
    "\n",
    "user_1.follow(user_2)\n",
    "print(user_1.followers)\n",
    "print(user_1.following)\n",
    "print(user_2.followers)\n",
    "print(user_2.following)\n"
   ]
  },
  {
   "cell_type": "markdown",
   "id": "436a5e44",
   "metadata": {},
   "source": [
    "Let's do a little bit of project here that is practical as well."
   ]
  },
  {
   "cell_type": "code",
   "execution_count": null,
   "id": "6df8f7aa",
   "metadata": {},
   "outputs": [],
   "source": [
    "class Question():\n",
    "    def __init__(self, text, answer):\n",
    "        self.text = text \n",
    "        self.answer = answer\n",
    "        \n"
   ]
  }
 ],
 "metadata": {
  "kernelspec": {
   "display_name": "base",
   "language": "python",
   "name": "python3"
  },
  "language_info": {
   "codemirror_mode": {
    "name": "ipython",
    "version": 3
   },
   "file_extension": ".py",
   "mimetype": "text/x-python",
   "name": "python",
   "nbconvert_exporter": "python",
   "pygments_lexer": "ipython3",
   "version": "3.12.3"
  }
 },
 "nbformat": 4,
 "nbformat_minor": 5
}
