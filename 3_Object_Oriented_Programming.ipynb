{
 "cells": [
  {
   "cell_type": "markdown",
   "id": "e605a20f",
   "metadata": {},
   "source": [
    "# 3. Object Oriented Programming (OOP)\n",
    "\n",
    "Object Oriented Programming is super important for computer science concepts and this is because it allows you to organize similar pieces of codes into one piece.\n",
    "\n",
    "We are first going to learn these concepts from the Youtube video found [here](https://www.youtube.com/watch?v=Ej_02ICOIgs) and then we are going to learn it from the Udemy course that we are learning from."
   ]
  },
  {
   "cell_type": "code",
   "execution_count": 1,
   "id": "42d70b8e",
   "metadata": {},
   "outputs": [
    {
     "data": {
      "text/plain": [
       "'4'"
      ]
     },
     "execution_count": 1,
     "metadata": {},
     "output_type": "execute_result"
    }
   ],
   "source": [
    "class Item:\n",
    "    pass # this means that the class is empty here\n",
    "\n",
    "item1 = Item()\n",
    "random_str = str(\"4\") # similar to this\n",
    "random_str"
   ]
  },
  {
   "cell_type": "code",
   "execution_count": 2,
   "id": "f453bdf3",
   "metadata": {},
   "outputs": [
    {
     "name": "stdout",
     "output_type": "stream",
     "text": [
      "2500\n"
     ]
    }
   ],
   "source": [
    "class Item:\n",
    "    def calculate_total_price(self, x, y): # you always have to provide one argument to these methods here\n",
    "        # self is basically the object itself that you can pass to this function\n",
    "        return x * y\n",
    "    \n",
    "item1 = Item()\n",
    "item1.price = 500 # we can define attributes here which is cool\n",
    "item1.quantity = 5\n",
    "print(item1.calculate_total_price(item1.price, item1.quantity))"
   ]
  },
  {
   "cell_type": "code",
   "execution_count": 3,
   "id": "7b3954d8",
   "metadata": {},
   "outputs": [
    {
     "name": "stdout",
     "output_type": "stream",
     "text": [
      "An instance created: Phone\n",
      "An instance created: Laptop\n",
      "Phone 100 5\n",
      "Laptop 1000 7\n",
      "500\n",
      "7000\n",
      "{'__module__': '__main__', 'pay_rate': 0.8, '__init__': <function Item.__init__ at 0x000001D77EB90400>, 'calculate_total_price': <function Item.calculate_total_price at 0x000001D77EB904A0>, 'apply_discount': <function Item.apply_discount at 0x000001D77EB90540>, '__dict__': <attribute '__dict__' of 'Item' objects>, '__weakref__': <attribute '__weakref__' of 'Item' objects>, '__doc__': None}\n",
      "{'name': 'Phone', 'price': 100, 'quantity': 5}\n",
      "80.0\n",
      "700.0\n",
      "{'name': 'Phone', 'price': 80.0, 'quantity': 5}\n",
      "{'name': 'Laptop', 'price': 700.0, 'quantity': 7, 'has_numpad': False, 'pay_rate': 0.7}\n"
     ]
    }
   ],
   "source": [
    "class Item:\n",
    "    pay_rate = 0.8 # pay are after 20 percent\n",
    "    def __init__(self, name : str, price : float, quantity = 0): # intializer or constructor that gets called when creating a new object. as you can see, we also put quantrity equal to 0 in case we do not put quantity here\n",
    "        \n",
    "        print(f\"An instance created: {name}\")\n",
    "        # run validations to the received arguments\n",
    "        assert price >= 0, f\"Price {price} is not greater than or equal to zero\" # these statements make sure that those attributes are bigger than or wqual to zero, otherwise it produces an AssertionError\n",
    "        # as you can see, you can also provide an error message next to the assert statewment\n",
    "        assert quantity >= 0, f\"Quantity {quantity} is not greater than or equal to zero\"\n",
    "        \n",
    "        \n",
    "        self.name = name # as you can see, we created the variable name for this object\n",
    "        self.price = price\n",
    "        self.quantity = quantity\n",
    "\n",
    "    def calculate_total_price(self): # no more arguments here\n",
    "        return self.price * self.quantity\n",
    "    \n",
    "    def apply_discount(self):\n",
    "        self.price = self.price * self.pay_rate # we are using the class level attribute because pay_rate is not part of instance level attributes, so we cannot use self in this case\n",
    "\n",
    "# also, for the quantity part, the reason why we havent provided a data type is because we already provided it with a number to initialize and python knows this gotta be an integer\n",
    "\n",
    "item1 = Item(\"Phone\", 100, 5) # as you can see, it worked\n",
    "\n",
    "item2 = Item(\"Laptop\", 1000, 7)\n",
    "item2.has_numpad = False # as you can see, we can add attributes even though we defined some inside the constructor\n",
    "\n",
    "print(item1.name, item1.price, item1.quantity)\n",
    "print(item2.name, item2.price, item2.quantity)\n",
    "print(item1.calculate_total_price())\n",
    "print(item2.calculate_total_price())\n",
    "\n",
    "\n",
    "print(Item.__dict__) # shows attributes in class level\n",
    "print(item1.__dict__) # shows you the attributes of the class, but not the pay_rate? this shows the attributes in instance level\n",
    "item1.apply_discount()\n",
    "print(item1.price)\n",
    "\n",
    "item2.pay_rate = 0.7 # look for in instance level, then go outward\n",
    "item2.apply_discount()\n",
    "print(item2.price)\n",
    "\n",
    "\n",
    "\n",
    "print(item1.__dict__) # pay_rate not found here\n",
    "print(item2.__dict__) # pay_rate found here\n"
   ]
  },
  {
   "cell_type": "code",
   "execution_count": 4,
   "id": "5acb20e0",
   "metadata": {},
   "outputs": [
    {
     "name": "stdout",
     "output_type": "stream",
     "text": [
      "An instance created: Phone\n",
      "An instance created: Laptop\n",
      "An instance created: Cable\n",
      "An instance created: Mouse\n",
      "An instance created: Keyboard\n",
      "[Item('Phone', 100, 1), Item('Laptop', 1000, 3), Item('Cable', 10, 5), Item('Mouse', 50, 5), Item('Keyboard', 75, 5)]\n",
      "Phone\n",
      "Laptop\n",
      "Cable\n",
      "Mouse\n",
      "Keyboard\n"
     ]
    }
   ],
   "source": [
    "import csv\n",
    "\n",
    "class Item:\n",
    "    pay_rate = 0.8 \n",
    "    all = [] \n",
    "    def __init__(self, name : str, price : float, quantity = 0):\n",
    "        \n",
    "        print(f\"An instance created: {name}\")\n",
    "        assert price >= 0, f\"Price {price} is not greater than or equal to zero\"\n",
    "        \n",
    "        assert quantity >= 0, f\"Quantity {quantity} is not greater than or equal to zero\"\n",
    "        \n",
    "        \n",
    "        self.name = name \n",
    "        self.price = price\n",
    "        self.quantity = quantity\n",
    "\n",
    "        # Actions to execute, add the instance to the all list that we created above\n",
    "        Item.all.append(self) # we add this instance to the all list that we created above\n",
    "    def calculate_total_price(self): \n",
    "        return self.price * self.quantity\n",
    "    \n",
    "    def apply_discount(self):\n",
    "        self.price = self.price * self.pay_rate\n",
    "\n",
    "    @classmethod\n",
    "    def instantiate_from_csv(cls): # it says that this method is a class method and not an instance method. The class itself is passed here as the first argument\n",
    "        with open('3_data_example_1.csv', 'r') as f:\n",
    "            reader = csv.DictReader(f) # this reads the content as list of dictionaries\n",
    "            items = list(reader) # conver to list\n",
    "        \n",
    "        for item in items:\n",
    "            print(item)\n",
    "            Item( # constructor will be called and so these will be stored in the all list\n",
    "                name=item.get('name'),\n",
    "                price=float(item.get('price')),\n",
    "                quantity=int(item.get('quantity'))\n",
    "            )\n",
    "\n",
    "    def __repr__(self): # not sure what this does. basically, when you call Item.all, it calls this function\n",
    "        return f\"{self.__class__.__name__}('{self.name}', {self.price}, {self.quantity})\"\n",
    "    \n",
    "    @staticmethod\n",
    "    def is_integer(num): # what is static method? why doesnt accept the self as the first argument like others\n",
    "        # We will count out the floats that are point zero or .0\n",
    "        # Ex. 5.0, 10.0\n",
    "        if isinstance(num, float): # checks if num is float or not\n",
    "            # count out the floats that are .0 or whole numbers\n",
    "            return num.is_integer()\n",
    "        elif isinstance(num, int):\n",
    "            return True\n",
    "        else:\n",
    "            return False\n",
    "\n",
    "\n",
    "\n",
    "\n",
    "\n",
    "item1 = Item(\"Phone\", 100, 1)\n",
    "item2 = Item(\"Laptop\", 1000, 3)\n",
    "item3 = Item(\"Cable\", 10, 5)\n",
    "item4 = Item(\"Mouse\", 50, 5)\n",
    "item5 = Item(\"Keyboard\", 75, 5)\n",
    "\n",
    "\n",
    "print(Item.all) # It will be useful to know how many instances we have created\n",
    "\n",
    "for instance in Item.all:\n",
    "    print(instance.name)\n",
    "\n",
    "\n",
    "\n"
   ]
  },
  {
   "cell_type": "markdown",
   "id": "f0378268",
   "metadata": {},
   "source": [
    "Using CSV."
   ]
  },
  {
   "cell_type": "code",
   "execution_count": 5,
   "id": "b6891a2d",
   "metadata": {},
   "outputs": [
    {
     "name": "stdout",
     "output_type": "stream",
     "text": [
      "{'name': 'Phone', 'price': '100', 'quantity': '1'}\n",
      "An instance created: Phone\n",
      "{'name': 'Laptop', 'price': '1000', 'quantity': '3'}\n",
      "An instance created: Laptop\n",
      "{'name': 'Cable', 'price': '10', 'quantity': '5'}\n",
      "An instance created: Cable\n",
      "{'name': 'Mouse', 'price': '50', 'quantity': '5'}\n",
      "An instance created: Mouse\n",
      "{'name': 'Keyboard', 'price': '75.1', 'quantity': '5'}\n",
      "An instance created: Keyboard\n",
      "True\n"
     ]
    }
   ],
   "source": [
    "Item.instantiate_from_csv() # prints the list of dictionaries\n",
    "\n",
    "print(Item.is_integer(10.00))"
   ]
  },
  {
   "cell_type": "code",
   "execution_count": 6,
   "id": "b0b69bda",
   "metadata": {},
   "outputs": [
    {
     "name": "stdout",
     "output_type": "stream",
     "text": [
      "An instance created: jscPhonev10\n",
      "2500\n",
      "[Item('Phone', 100, 1), Item('Laptop', 1000, 3), Item('Cable', 10, 5), Item('Mouse', 50, 5), Item('Keyboard', 75, 5), Item('Phone', 100.0, 1), Item('Laptop', 1000.0, 3), Item('Cable', 10.0, 5), Item('Mouse', 50.0, 5), Item('Keyboard', 75.1, 5), Phone('jscPhonev10', 500, 5)]\n",
      "[Item('Phone', 100, 1), Item('Laptop', 1000, 3), Item('Cable', 10, 5), Item('Mouse', 50, 5), Item('Keyboard', 75, 5), Item('Phone', 100.0, 1), Item('Laptop', 1000.0, 3), Item('Cable', 10.0, 5), Item('Mouse', 50.0, 5), Item('Keyboard', 75.1, 5), Phone('jscPhonev10', 500, 5)]\n"
     ]
    }
   ],
   "source": [
    "import csv\n",
    "\n",
    "\n",
    "class Phone(Item): # Inheritance: you can create a class that inherits the functionality of other classes\n",
    "\n",
    "    def __init__(self,name:str, price:float, quantity=0,  broken_phones = 0): # in herits stuff from init so we do not have to duplicate using the super thing\n",
    "        super().__init__( # super() basically returns a proxy object of the parent class so you can use their functions. in this case, we are calling the parent's init function and calling it on this child's instance\n",
    "            name, price, quantity\n",
    "        )\n",
    "        assert broken_phones >= 0, f\"Quantity {broken_phones} is not greater than or equal to zero\"\n",
    "        \n",
    "        self.broken_phones = broken_phones\n",
    "        \n",
    "        # Phone.all.append(self) \n",
    "\n",
    "phone1 = Phone(\"jscPhonev10\", 500, 5, 1)\n",
    "print(phone1.calculate_total_price()) # look, it inherits stuff from Item\n",
    "\n",
    "print(Item.all)\n",
    "print(Phone.all)\n",
    "# as you can see, we see this phone is inside item and also inside phone\n",
    "# we changed the item function so that it prints phone instead of item for phone\n",
    "\n",
    "\n",
    "# notice that all is the same for sort of both classes because phone is also appended to parent's all\n",
    "# this is because of super().__init__() and so we will comment it out\n",
    "\n",
    "\n",
    "# now, phone has access to both classes\n"
   ]
  },
  {
   "cell_type": "markdown",
   "id": "72f263ea",
   "metadata": {},
   "source": [
    "Now the process of learning Object Oriented Programming from the Udemy Course that we have been learning from. Let's import and use a module called `turtle`."
   ]
  },
  {
   "cell_type": "code",
   "execution_count": 7,
   "id": "696e7f90",
   "metadata": {},
   "outputs": [
    {
     "name": "stdout",
     "output_type": "stream",
     "text": [
      "<turtle.Turtle object at 0x000001D77E832A50>\n",
      "300\n"
     ]
    }
   ],
   "source": [
    "from turtle import Turtle, Screen\n",
    "\n",
    "timmy = Turtle() # we created an object called timmy from a class called Turtle imported from the turtle module\n",
    "my_screen = Screen() # create an instance or object from the screen class\n",
    "timmy.shape(\"turtle\") # these methods allow you to change the value of those attribnutes that belong to the object\n",
    "timmy.color(\"coral\")\n",
    "timmy.forward(50)\n",
    "\n",
    "print(timmy)\n",
    "print(my_screen.canvheight)\n",
    "\n",
    "my_screen.exitonclick() # this shows a pop up that exits when the screen detects a click from the user\n"
   ]
  },
  {
   "cell_type": "code",
   "execution_count": 8,
   "id": "2e01f4d8",
   "metadata": {},
   "outputs": [
    {
     "name": "stdout",
     "output_type": "stream",
     "text": [
      "{'base_align_value': 'c', 'Pokemon Name': 'l', 'Type': 'l'}\n",
      "+--------------+----------+\n",
      "| Pokemon Name | Type     |\n",
      "+--------------+----------+\n",
      "| Pickachu     | Electric |\n",
      "| Squirtle     | Water    |\n",
      "| Charmander   | Fire     |\n",
      "+--------------+----------+\n"
     ]
    }
   ],
   "source": [
    "from prettytable import PrettyTable\n",
    "table = PrettyTable()\n",
    "table.add_column(\"Pokemon Name\", [\"Pickachu\", \"Squirtle\", \"Charmander\"])\n",
    "table.add_column(\"Type\", [\"Electric\", \"Water\", \"Fire\"])\n",
    "\n",
    "table.align = \"l\" # as you can see, we are changing the value of the attributes as such\n",
    "\n",
    "print(table.align) \n",
    "print(table)"
   ]
  },
  {
   "cell_type": "markdown",
   "id": "2f7e1bbc",
   "metadata": {},
   "source": [
    "Now, we can create those classes in python."
   ]
  },
  {
   "cell_type": "code",
   "execution_count": 9,
   "id": "90e23981",
   "metadata": {},
   "outputs": [
    {
     "name": "stdout",
     "output_type": "stream",
     "text": [
      "abdullah\n",
      "Jack\n",
      "0\n",
      "1\n",
      "1\n",
      "0\n"
     ]
    }
   ],
   "source": [
    "class User:\n",
    "    def __init__(self, user_id, username): # this will be called everytime a new object is created from this class\n",
    "        self.id = user_id\n",
    "        self.username = username\n",
    "        self.followers = 0\n",
    "        self.following = 0\n",
    "\n",
    "    def follow(self, user): # always needs self as the first argument here\n",
    "        user.followers += 1\n",
    "        self.following += 1\n",
    "\n",
    "user_1 = User(\"001\", \"abdullah\")\n",
    "# user_1.id = \"001\"\n",
    "# user_1.username = \"abdullah\"\n",
    "\n",
    "print(user_1.username)\n",
    "\n",
    "user_2 = User(\"002\", \"Jack\")\n",
    "\n",
    "print(user_2.username)\n",
    "\n",
    "user_1.follow(user_2)\n",
    "print(user_1.followers)\n",
    "print(user_1.following)\n",
    "print(user_2.followers)\n",
    "print(user_2.following)\n"
   ]
  },
  {
   "cell_type": "markdown",
   "id": "436a5e44",
   "metadata": {},
   "source": [
    "Let's do a little bit of project here that is practical as well.\n",
    "\n",
    "We will be using a folder called `mp_quiz_3` which has some code that we will be using in this mini project that we will working with."
   ]
  },
  {
   "cell_type": "code",
   "execution_count": 10,
   "id": "6df8f7aa",
   "metadata": {},
   "outputs": [
    {
     "name": "stdout",
     "output_type": "stream",
     "text": [
      "[{'text': \"A slug's blood is green.\", 'answer': 'True'}, {'text': 'The loudest animal is the African Elephant.', 'answer': 'False'}, {'text': 'Approximately one quarter of human bones are in the feet.', 'answer': 'True'}, {'text': 'The total surface area of a human lungs is the size of a football pitch.', 'answer': 'True'}, {'text': 'In West Virginia, USA, if you accidentally hit an animal with your car, you are free to take it home to eat.', 'answer': 'True'}, {'text': 'In London, UK, if you happen to die in the House of Parliament, you are entitled to a state funeral.', 'answer': 'False'}, {'text': 'It is illegal to pee in the Ocean in Portugal.', 'answer': 'True'}, {'text': 'You can lead a cow down stairs but not up stairs.', 'answer': 'False'}, {'text': \"Google was originally called 'Backrub'.\", 'answer': 'True'}, {'text': \"Buzz Aldrin's mother's maiden name was 'Moon'.\", 'answer': 'True'}, {'text': 'No piece of square dry paper can be folded in half more than 7 times.', 'answer': 'False'}, {'text': 'A few ounces of chocolate can to kill a small dog.', 'answer': 'True'}]\n"
     ]
    }
   ],
   "source": [
    "class Question():\n",
    "    def __init__(self, text, answer):\n",
    "        self.text = text \n",
    "        self.answer = answer\n",
    "        \n",
    "\n",
    "from mp_quiz_3.data import question_data\n",
    "\n",
    "print(question_data)"
   ]
  },
  {
   "cell_type": "markdown",
   "id": "6f5ca295",
   "metadata": {},
   "source": [
    "Use the list of dictionaries in the python file located in the folder to create those objects."
   ]
  },
  {
   "cell_type": "code",
   "execution_count": 11,
   "id": "3bd76ecd",
   "metadata": {},
   "outputs": [
    {
     "name": "stdout",
     "output_type": "stream",
     "text": [
      "[<__main__.Question object at 0x000001D77EB6BEF0>, <__main__.Question object at 0x000001D77EC7FE60>, <__main__.Question object at 0x000001D77EB6B530>, <__main__.Question object at 0x000001D77EB69AC0>, <__main__.Question object at 0x000001D77EB6B740>, <__main__.Question object at 0x000001D77EB6A150>, <__main__.Question object at 0x000001D77ECCB530>, <__main__.Question object at 0x000001D77ECCB7A0>, <__main__.Question object at 0x000001D77ECCB080>, <__main__.Question object at 0x000001D77ECCAEA0>, <__main__.Question object at 0x000001D77ECCAD20>, <__main__.Question object at 0x000001D77ECCAD80>]\n"
     ]
    }
   ],
   "source": [
    "question_objects = []\n",
    "\n",
    "for question in question_data:\n",
    "    question_text = question[\"text\"]\n",
    "    question_answer = question[\"answer\"]\n",
    "    new_question = Question(question_text, question_answer)\n",
    "    question_objects.append(new_question)\n",
    "\n",
    "\n",
    "print(question_objects)"
   ]
  },
  {
   "cell_type": "markdown",
   "id": "3667d597",
   "metadata": {},
   "source": [
    "Now, let's create a new object for keeping up with the user questions, answer, and score."
   ]
  },
  {
   "cell_type": "code",
   "execution_count": 12,
   "id": "cb81e5da",
   "metadata": {},
   "outputs": [],
   "source": [
    "class QuizBrain:\n",
    "\n",
    "    def __init__(self, question_list):\n",
    "        self.question_number = 0\n",
    "        self.question_list = question_list # contains list of questions\n",
    "        self.score = 0\n",
    "\n",
    "    def next_question(self):\n",
    "        current_question = self.question_list[self.question_number]\n",
    "        self.question_number += 1\n",
    "        user_answer = input(f\"Q.{self.question_number}: {current_question.text} (True or False)\")\n",
    "        self.check_answer(user_answer, current_question.answer)\n",
    "\n",
    "    def still_has_questions(self):\n",
    "        return self.question_number < len(self.question_list) # sees if there are remaining questions or not\n",
    "    \n",
    "    def check_answer(self, user_answer, correct_answer):\n",
    "        if user_answer.lower() == correct_answer.lower():\n",
    "            print(\"You got it right!\")\n",
    "            self.score += 1\n",
    "\n",
    "        else:\n",
    "            print(\"That's wrong.\")\n",
    "        print(f\"The correct answer was: {correct_answer}\")\n",
    "        print(f\"Your correct score is {self.score}/{self.question_number}\")\n",
    "        print(\"\\n\")"
   ]
  },
  {
   "cell_type": "code",
   "execution_count": 13,
   "id": "68dc475e",
   "metadata": {},
   "outputs": [
    {
     "name": "stdout",
     "output_type": "stream",
     "text": [
      "That's wrong.\n",
      "The correct answer was: True\n",
      "Your correct score is 0/1\n",
      "\n",
      "\n",
      "That's wrong.\n",
      "The correct answer was: False\n",
      "Your correct score is 0/2\n",
      "\n",
      "\n",
      "That's wrong.\n",
      "The correct answer was: True\n",
      "Your correct score is 0/3\n",
      "\n",
      "\n",
      "That's wrong.\n",
      "The correct answer was: True\n",
      "Your correct score is 0/4\n",
      "\n",
      "\n",
      "That's wrong.\n",
      "The correct answer was: True\n",
      "Your correct score is 0/5\n",
      "\n",
      "\n",
      "That's wrong.\n",
      "The correct answer was: False\n",
      "Your correct score is 0/6\n",
      "\n",
      "\n",
      "That's wrong.\n",
      "The correct answer was: True\n",
      "Your correct score is 0/7\n",
      "\n",
      "\n",
      "That's wrong.\n",
      "The correct answer was: False\n",
      "Your correct score is 0/8\n",
      "\n",
      "\n",
      "That's wrong.\n",
      "The correct answer was: True\n",
      "Your correct score is 0/9\n",
      "\n",
      "\n",
      "That's wrong.\n",
      "The correct answer was: True\n",
      "Your correct score is 0/10\n",
      "\n",
      "\n",
      "That's wrong.\n",
      "The correct answer was: False\n",
      "Your correct score is 0/11\n",
      "\n",
      "\n",
      "That's wrong.\n",
      "The correct answer was: True\n",
      "Your correct score is 0/12\n",
      "\n",
      "\n",
      "You've completed the quiz.\n",
      "Your final score was: 0/12\n"
     ]
    }
   ],
   "source": [
    "quiz = QuizBrain(question_objects)\n",
    "\n",
    "while quiz.still_has_questions() :\n",
    "    quiz.next_question()\n",
    "print(f\"You've completed the quiz.\")\n",
    "print(f\"Your final score was: {quiz.score}/{quiz.question_number}\")"
   ]
  },
  {
   "cell_type": "markdown",
   "id": "2d62f543",
   "metadata": {},
   "source": [
    "## Turtle & the Graphical User Interface\n",
    "\n",
    "We will be learning teh GUI and deep dive into the `Turtle` model."
   ]
  },
  {
   "cell_type": "code",
   "execution_count": null,
   "id": "07fb8dea",
   "metadata": {},
   "outputs": [
    {
     "ename": "Terminator",
     "evalue": "",
     "output_type": "error",
     "traceback": [
      "\u001b[31m---------------------------------------------------------------------------\u001b[39m",
      "\u001b[31mTerminator\u001b[39m                                Traceback (most recent call last)",
      "\u001b[36mCell\u001b[39m\u001b[36m \u001b[39m\u001b[32mIn[14]\u001b[39m\u001b[32m, line 3\u001b[39m\n\u001b[32m      1\u001b[39m \u001b[38;5;28;01mfrom\u001b[39;00m\u001b[38;5;250m \u001b[39m\u001b[34;01mturtle\u001b[39;00m\u001b[38;5;250m \u001b[39m\u001b[38;5;28;01mimport\u001b[39;00m Turtle, Screen\n\u001b[32m----> \u001b[39m\u001b[32m3\u001b[39m timmy_the_turtle = \u001b[43mTurtle\u001b[49m\u001b[43m(\u001b[49m\u001b[43m)\u001b[49m\n\u001b[32m      4\u001b[39m timmy_the_turtle.shape(\u001b[33m\"\u001b[39m\u001b[33mturtle\u001b[39m\u001b[33m\"\u001b[39m)\n\u001b[32m      5\u001b[39m timmy_the_turtle.color(\u001b[33m\"\u001b[39m\u001b[33mred\u001b[39m\u001b[33m\"\u001b[39m)\n",
      "\u001b[36mFile \u001b[39m\u001b[32mc:\\Users\\Adullah\\miniconda3\\Lib\\turtle.py:3876\u001b[39m, in \u001b[36mTurtle.__init__\u001b[39m\u001b[34m(self, shape, undobuffersize, visible)\u001b[39m\n\u001b[32m   3874\u001b[39m \u001b[38;5;28;01mif\u001b[39;00m Turtle._screen \u001b[38;5;129;01mis\u001b[39;00m \u001b[38;5;28;01mNone\u001b[39;00m:\n\u001b[32m   3875\u001b[39m     Turtle._screen = Screen()\n\u001b[32m-> \u001b[39m\u001b[32m3876\u001b[39m \u001b[43mRawTurtle\u001b[49m\u001b[43m.\u001b[49m\u001b[34;43m__init__\u001b[39;49m\u001b[43m(\u001b[49m\u001b[38;5;28;43mself\u001b[39;49m\u001b[43m,\u001b[49m\u001b[43m \u001b[49m\u001b[43mTurtle\u001b[49m\u001b[43m.\u001b[49m\u001b[43m_screen\u001b[49m\u001b[43m,\u001b[49m\n\u001b[32m   3877\u001b[39m \u001b[43m                   \u001b[49m\u001b[43mshape\u001b[49m\u001b[43m=\u001b[49m\u001b[43mshape\u001b[49m\u001b[43m,\u001b[49m\n\u001b[32m   3878\u001b[39m \u001b[43m                   \u001b[49m\u001b[43mundobuffersize\u001b[49m\u001b[43m=\u001b[49m\u001b[43mundobuffersize\u001b[49m\u001b[43m,\u001b[49m\n\u001b[32m   3879\u001b[39m \u001b[43m                   \u001b[49m\u001b[43mvisible\u001b[49m\u001b[43m=\u001b[49m\u001b[43mvisible\u001b[49m\u001b[43m)\u001b[49m\n",
      "\u001b[36mFile \u001b[39m\u001b[32mc:\\Users\\Adullah\\miniconda3\\Lib\\turtle.py:2565\u001b[39m, in \u001b[36mRawTurtle.__init__\u001b[39m\u001b[34m(self, canvas, shape, undobuffersize, visible)\u001b[39m\n\u001b[32m   2563\u001b[39m \u001b[38;5;28mself\u001b[39m._undobuffersize = undobuffersize\n\u001b[32m   2564\u001b[39m \u001b[38;5;28mself\u001b[39m.undobuffer = Tbuffer(undobuffersize)\n\u001b[32m-> \u001b[39m\u001b[32m2565\u001b[39m \u001b[38;5;28;43mself\u001b[39;49m\u001b[43m.\u001b[49m\u001b[43m_update\u001b[49m\u001b[43m(\u001b[49m\u001b[43m)\u001b[49m\n",
      "\u001b[36mFile \u001b[39m\u001b[32mc:\\Users\\Adullah\\miniconda3\\Lib\\turtle.py:2668\u001b[39m, in \u001b[36mRawTurtle._update\u001b[39m\u001b[34m(self)\u001b[39m\n\u001b[32m   2666\u001b[39m     \u001b[38;5;28;01mreturn\u001b[39;00m\n\u001b[32m   2667\u001b[39m \u001b[38;5;28;01melif\u001b[39;00m screen._tracing == \u001b[32m1\u001b[39m:\n\u001b[32m-> \u001b[39m\u001b[32m2668\u001b[39m     \u001b[38;5;28;43mself\u001b[39;49m\u001b[43m.\u001b[49m\u001b[43m_update_data\u001b[49m\u001b[43m(\u001b[49m\u001b[43m)\u001b[49m\n\u001b[32m   2669\u001b[39m     \u001b[38;5;28mself\u001b[39m._drawturtle()\n\u001b[32m   2670\u001b[39m     screen._update()                  \u001b[38;5;66;03m# TurtleScreenBase\u001b[39;00m\n",
      "\u001b[36mFile \u001b[39m\u001b[32mc:\\Users\\Adullah\\miniconda3\\Lib\\turtle.py:2654\u001b[39m, in \u001b[36mRawTurtle._update_data\u001b[39m\u001b[34m(self)\u001b[39m\n\u001b[32m   2653\u001b[39m \u001b[38;5;28;01mdef\u001b[39;00m\u001b[38;5;250m \u001b[39m\u001b[34m_update_data\u001b[39m(\u001b[38;5;28mself\u001b[39m):\n\u001b[32m-> \u001b[39m\u001b[32m2654\u001b[39m     \u001b[38;5;28;43mself\u001b[39;49m\u001b[43m.\u001b[49m\u001b[43mscreen\u001b[49m\u001b[43m.\u001b[49m\u001b[43m_incrementudc\u001b[49m\u001b[43m(\u001b[49m\u001b[43m)\u001b[49m\n\u001b[32m   2655\u001b[39m     \u001b[38;5;28;01mif\u001b[39;00m \u001b[38;5;28mself\u001b[39m.screen._updatecounter != \u001b[32m0\u001b[39m:\n\u001b[32m   2656\u001b[39m         \u001b[38;5;28;01mreturn\u001b[39;00m\n",
      "\u001b[36mFile \u001b[39m\u001b[32mc:\\Users\\Adullah\\miniconda3\\Lib\\turtle.py:1284\u001b[39m, in \u001b[36mTurtleScreen._incrementudc\u001b[39m\u001b[34m(self)\u001b[39m\n\u001b[32m   1282\u001b[39m \u001b[38;5;28;01mif\u001b[39;00m \u001b[38;5;129;01mnot\u001b[39;00m TurtleScreen._RUNNING:\n\u001b[32m   1283\u001b[39m     TurtleScreen._RUNNING = \u001b[38;5;28;01mTrue\u001b[39;00m\n\u001b[32m-> \u001b[39m\u001b[32m1284\u001b[39m     \u001b[38;5;28;01mraise\u001b[39;00m Terminator\n\u001b[32m   1285\u001b[39m \u001b[38;5;28;01mif\u001b[39;00m \u001b[38;5;28mself\u001b[39m._tracing > \u001b[32m0\u001b[39m:\n\u001b[32m   1286\u001b[39m     \u001b[38;5;28mself\u001b[39m._updatecounter += \u001b[32m1\u001b[39m\n",
      "\u001b[31mTerminator\u001b[39m: "
     ]
    },
    {
     "ename": "",
     "evalue": "",
     "output_type": "error",
     "traceback": [
      "\u001b[1;31mThe Kernel crashed while executing code in the current cell or a previous cell. \n",
      "\u001b[1;31mPlease review the code in the cell(s) to identify a possible cause of the failure. \n",
      "\u001b[1;31mClick <a href='https://aka.ms/vscodeJupyterKernelCrash'>here</a> for more info. \n",
      "\u001b[1;31mView Jupyter <a href='command:jupyter.viewOutput'>log</a> for further details."
     ]
    }
   ],
   "source": [
    "from turtle import Turtle, Screen\n",
    "\n",
    "timmy_the_turtle = Turtle()\n",
    "timmy_the_turtle.shape(\"turtle\")\n",
    "timmy_the_turtle.color(\"red\")\n",
    "timmy_the_turtle.forward(100)\n",
    "timmy_the_turtle.right(90)\n",
    "\n",
    "screen = Screen()\n",
    "screen.exitonclick()"
   ]
  },
  {
   "cell_type": "code",
   "execution_count": null,
   "id": "6e753bc8",
   "metadata": {},
   "outputs": [],
   "source": [
    "# draw a square\n",
    "\n",
    "from turtle import Turtle, Screen\n",
    "timmy_the_turtle =Turtle()\n",
    "for _ in range(4):\n",
    "    timmy_the_turtle.forward(100)\n",
    "    timmy_the_turtle.left(90)\n",
    "\n",
    "screen_1 = Screen()\n",
    "screen_1.exitonclick()"
   ]
  },
  {
   "cell_type": "markdown",
   "id": "f20a96e7",
   "metadata": {},
   "source": [
    "As for the modules, you can use the following that might make your programming life a little bit easier. For instance:\n",
    "- `from turtle import *` - it imports everything from turtle as if it was in your code.\n",
    "- `import turtle as t` - use an alias so that instead of referencing `turtle` all the time, you can just use `t` as an alias for `turtle`.\n",
    "- If you want to install new packages in python because those packages are not part of the standard packages, use `pip install <package_name>` to install any package you want."
   ]
  },
  {
   "cell_type": "code",
   "execution_count": null,
   "id": "b7707a8f",
   "metadata": {},
   "outputs": [],
   "source": [
    "# draw a dashed line\n",
    "timmy_the_turtle = Turtle()\n",
    "\n",
    "for _ in range(15):\n",
    "    timmy_the_turtle.forward(10)\n",
    "    timmy_the_turtle.penup()\n",
    "    timmy_the_turtle.forward(10)\n",
    "    timmy_the_turtle.pendown()\n",
    "\n",
    "screen = Screen()\n",
    "screen.exitonclick()\n",
    "\n"
   ]
  },
  {
   "cell_type": "code",
   "execution_count": null,
   "id": "b33b88cb",
   "metadata": {},
   "outputs": [],
   "source": [
    "# drawing different shapes\n",
    "import random\n",
    "tim = Turtle()\n",
    "\n",
    "colors = [\"CornflowerBlue\", \"DarkOrchid\", \"IndianRed\", \"DeepSkyBlue\", \"LightSeaGreen\", \"wheat\"]\n",
    "def draw_shape(num_sides):\n",
    "    for _ in range(num_sides):\n",
    "        angle = 360 / num_sides\n",
    "        tim.forward(100)\n",
    "        tim.right(angle)\n",
    "\n",
    "for shape_side_n in range(3, 11):\n",
    "    tim.color(random.choice(colors))\n",
    "    draw_shape(shape_side_n)\n",
    "\n",
    "screen = Screen()\n",
    "screen.exitonclick()"
   ]
  },
  {
   "cell_type": "code",
   "execution_count": null,
   "id": "868eee6d",
   "metadata": {},
   "outputs": [],
   "source": [
    "# draw the random walk\n",
    "import turtle as t\n",
    "tim = t.Turtle()\n",
    "directions = [0, 90, 180, 270]\n",
    "\n",
    "t.colormode(255)\n",
    "\n",
    "def random_color():\n",
    "    r = random.randint(0, 255)\n",
    "    g = random.randint(0, 255)\n",
    "    b = random.randint(0, 255)\n",
    "\n",
    "    return (r, g, b)\n",
    "\n",
    "tim.pensize(15)\n",
    "tim.speed(\"fastest\")\n",
    "\n",
    "for _ in range(200):\n",
    "    tim.color(random_color())\n",
    "    tim.forward(30)\n",
    "    tim.setheading(random.choice(directions))\n",
    "\n",
    "screen = t.Screen()\n",
    "screen.exitonclick()"
   ]
  },
  {
   "cell_type": "code",
   "execution_count": null,
   "id": "b76ca7d9",
   "metadata": {},
   "outputs": [],
   "source": [
    "# draw the spirograph\n",
    "import turtle as t\n",
    "\n",
    "tim  = t.Turtle()\n",
    "t.colormode(255)\n",
    "tim.speed(\"fastest\")\n",
    "\n",
    "def draw_spirograph(size_of_gap):\n",
    "    for _ in range(int(360 / size_of_gap)):  \n",
    "        tim.color(random_color())\n",
    "        tim.circle(100)\n",
    "        tim.setheading(tim.heading() + 10)\n",
    "\n",
    "\n",
    "draw_spirograph(5)\n",
    "screen = t.Screen()\n",
    "screen.exitonclick()"
   ]
  },
  {
   "cell_type": "code",
   "execution_count": null,
   "id": "0abadbcd",
   "metadata": {},
   "outputs": [
    {
     "name": "stdout",
     "output_type": "stream",
     "text": [
      "Requirement already satisfied: colorgram.py in c:\\users\\adullah\\miniconda3\\lib\\site-packages (1.2.0)\n",
      "Requirement already satisfied: pillow>=3.3.1 in c:\\users\\adullah\\miniconda3\\lib\\site-packages (from colorgram.py) (11.2.1)\n"
     ]
    }
   ],
   "source": [
    "# install colorgram \n",
    "import sys\n",
    "!{sys.executable} -m pip install colorgram.py"
   ]
  },
  {
   "cell_type": "code",
   "execution_count": null,
   "id": "1cead0d0",
   "metadata": {},
   "outputs": [
    {
     "name": "stdout",
     "output_type": "stream",
     "text": [
      "[<colorgram.py Color: Rgb(r=233, g=233, b=232), 69.91558636360996%>, <colorgram.py Color: Rgb(r=231, g=233, b=237), 6.202274815091816%>, <colorgram.py Color: Rgb(r=236, g=232, b=234), 6.06588179047587%>, <colorgram.py Color: Rgb(r=222, g=232, b=225), 2.7463331080568665%>, <colorgram.py Color: Rgb(r=207, g=160, b=80), 2.2689493409374846%>, <colorgram.py Color: Rgb(r=54, g=89, b=130), 2.0684993715792834%>, <colorgram.py Color: Rgb(r=146, g=91, b=40), 1.428928001712112%>, <colorgram.py Color: Rgb(r=140, g=26, b=49), 1.2102672074501746%>, <colorgram.py Color: Rgb(r=222, g=205, b=106), 1.1696732662227076%>, <colorgram.py Color: Rgb(r=132, g=177, b=203), 0.9431996517527429%>, <colorgram.py Color: Rgb(r=45, g=55, b=104), 0.7526895531304089%>, <colorgram.py Color: Rgb(r=158, g=46, b=84), 0.7512169796880582%>, <colorgram.py Color: Rgb(r=167, g=160, b=38), 0.6225631466080211%>, <colorgram.py Color: Rgb(r=129, g=189, b=143), 0.5989119809311556%>, <colorgram.py Color: Rgb(r=84, g=20, b=45), 0.5793185731843231%>, <colorgram.py Color: Rgb(r=38, g=42, b=67), 0.47090444397303916%>, <colorgram.py Color: Rgb(r=187, g=93, b=106), 0.44354730179959106%>, <colorgram.py Color: Rgb(r=189, g=138, b=166), 0.4104389422374068%>, <colorgram.py Color: Rgb(r=85, g=119, b=180), 0.2673702513494704%>, <colorgram.py Color: Rgb(r=59, g=39, b=32), 0.1885712102565722%>, <colorgram.py Color: Rgb(r=79, g=153, b=165), 0.18314723141058056%>, <colorgram.py Color: Rgb(r=88, g=157, b=91), 0.18288544057638487%>, <colorgram.py Color: Rgb(r=195, g=80, b=72), 0.16368471908084584%>, <colorgram.py Color: Rgb(r=80, g=73, b=44), 0.10229476846196003%>, <colorgram.py Color: Rgb(r=45, g=74, b=78), 0.10145212921439271%>, <colorgram.py Color: Rgb(r=161, g=202, b=218), 0.046934187993143375%>, <colorgram.py Color: Rgb(r=58, g=130, b=121), 0.04211560045122923%>, <colorgram.py Color: Rgb(r=220, g=183, b=167), 0.0287642679072498%>, <colorgram.py Color: Rgb(r=217, g=176, b=188), 0.023626622786159675%>, <colorgram.py Color: Rgb(r=166, g=207, b=163), 0.01996973207098884%>]\n"
     ]
    }
   ],
   "source": [
    "# Project: Create a Hirst Painting\n",
    "import colorgram\n",
    "colors = colorgram.extract('media/hirst_painting_fixed.jpg', 30)\n",
    "print(colors)"
   ]
  },
  {
   "cell_type": "code",
   "execution_count": null,
   "id": "c223c849",
   "metadata": {},
   "outputs": [
    {
     "data": {
      "text/plain": [
       "[(233, 233, 232),\n",
       " (231, 233, 237),\n",
       " (236, 232, 234),\n",
       " (222, 232, 225),\n",
       " (207, 160, 80),\n",
       " (54, 89, 130),\n",
       " (146, 91, 40),\n",
       " (140, 26, 49),\n",
       " (222, 205, 106),\n",
       " (132, 177, 203),\n",
       " (45, 55, 104),\n",
       " (158, 46, 84),\n",
       " (167, 160, 38),\n",
       " (129, 189, 143),\n",
       " (84, 20, 45),\n",
       " (38, 42, 67),\n",
       " (187, 93, 106),\n",
       " (189, 138, 166),\n",
       " (85, 119, 180),\n",
       " (59, 39, 32),\n",
       " (79, 153, 165),\n",
       " (88, 157, 91),\n",
       " (195, 80, 72),\n",
       " (80, 73, 44),\n",
       " (45, 74, 78),\n",
       " (161, 202, 218),\n",
       " (58, 130, 121),\n",
       " (220, 183, 167),\n",
       " (217, 176, 188),\n",
       " (166, 207, 163)]"
      ]
     },
     "execution_count": 45,
     "metadata": {},
     "output_type": "execute_result"
    }
   ],
   "source": [
    "rgb_colors = []\n",
    "for color in colors:\n",
    "    r = color.rgb.r\n",
    "    g = color.rgb.g\n",
    "    b = color.rgb.b\n",
    "    rgb_colors.append((r, g, b)) # add tuple to the list\n",
    "\n",
    "rgb_colors\n"
   ]
  },
  {
   "cell_type": "code",
   "execution_count": null,
   "id": "cabef7e0",
   "metadata": {},
   "outputs": [],
   "source": [
    "# now use turtle\n",
    "import turtle as turtle_module\n",
    "import random \n",
    "\n",
    "turtle_module.colormode(255)\n",
    "tim = turtle_module.Turtle()\n",
    "tim.speed(\"fastest\")\n",
    "tim.penup()\n",
    "tim.hideturtle()\n",
    "tim.setheading(225)\n",
    "tim.forward(300)\n",
    "tim.setheading(0)\n",
    "\n",
    "num_of_dots = 100\n",
    "for dot_count in range(1, num_of_dots + 1):\n",
    "    tim.dot(20, random.choice(rgb_colors))\n",
    "    tim.forward(50)\n",
    "    if dot_count % 10 == 0:\n",
    "        tim.setheading(90)\n",
    "        tim.forward(50)\n",
    "        tim.setheading(180)\n",
    "        tim.forward(500)\n",
    "        tim.setheading(0)\n",
    "\n",
    "screen = turtle_module.Screen()\n",
    "screen.exitonclick()"
   ]
  },
  {
   "cell_type": "markdown",
   "id": "9eafc375",
   "metadata": {},
   "source": [
    "## Instances, State, and High-order Functions\n"
   ]
  },
  {
   "cell_type": "code",
   "execution_count": null,
   "id": "a44d2271",
   "metadata": {},
   "outputs": [],
   "source": [
    "from turtle import Turtle, Screen\n",
    "\n",
    "tim = Turtle()\n",
    "screen = Screen()\n",
    "\n",
    "def move_forwards():\n",
    "    tim.forward(10)\n",
    "\n",
    "screen.listen()\n",
    "screen.onkey(key=\"space\", fun=move_forwards) # when we pass a function to a paramter, you dont need to put the paranthesis\n",
    "screen.exitonclick()"
   ]
  },
  {
   "cell_type": "code",
   "execution_count": null,
   "id": "fa1d1c58",
   "metadata": {},
   "outputs": [],
   "source": [
    "# Create Etch-A-Sketch\n",
    "tim = Turtle()\n",
    "screen = Screen()\n",
    "\n",
    "def move_forwards():\n",
    "    tim.forward(10)\n",
    "\n",
    "def move_backwards():\n",
    "    tim.backward(10)\n",
    "\n",
    "def turn_left():\n",
    "    new_heading = tim.heading() + 10\n",
    "    tim.setheading(new_heading)\n",
    "\n",
    "def turn_right():\n",
    "    new_heading = tim.heading() - 10\n",
    "    tim.setheading(new_heading)\n",
    "\n",
    "def clear() :\n",
    "    tim.clear()\n",
    "    tim.penup()\n",
    "    tim.home()\n",
    "screen.listen()\n",
    "screen.onkey(key=\"w\", fun=move_forwards)\n",
    "screen.onkey(key=\"s\", fun=move_backwards)\n",
    "screen.onkey(key=\"a\", fun=turn_left)\n",
    "screen.onkey(key=\"d\", fun=turn_right)\n",
    "screen.onkey(key=\"c\", fun=clear)\n",
    "\n",
    "screen.exitonclick()"
   ]
  },
  {
   "cell_type": "code",
   "execution_count": null,
   "id": "6ad87df0",
   "metadata": {},
   "outputs": [
    {
     "name": "stdout",
     "output_type": "stream",
     "text": [
      "You have lost! The yellow turtle is the winnder!\n"
     ]
    }
   ],
   "source": [
    "# Make the turtle race\n",
    "\n",
    "import random\n",
    "is_race_on = False\n",
    "screen = Screen()\n",
    "screen.setup(width=500, height=400)\n",
    "user_bet = screen.textinput(title=\"Make your bet\", prompt=\"Which turtle will win the race? Enter a color: \")\n",
    "colors = [\"red\", \"orange\", \"yellow\", \"green\", \"blue\", \"purple\"]\n",
    "turtles = []\n",
    "\n",
    "incrementer = 0\n",
    "for color in colors:\n",
    "    turt = Turtle(shape=\"turtle\")\n",
    "    turt.color(color)\n",
    "    turt.penup()\n",
    "    turt.goto(x=-230, y= -100 + incrementer)\n",
    "    incrementer += 45\n",
    "    turtles.append(turt)\n",
    "\n",
    "if user_bet:\n",
    "    is_race_on = True\n",
    "\n",
    "while is_race_on:\n",
    "    for turtle in turtles:\n",
    "        if turtle.xcor() > 230:\n",
    "            is_race_on = False\n",
    "            winning_turtle = turtle.pencolor()\n",
    "            if winning_turtle == user_bet:\n",
    "                print(f\"You have won! The {winning_turtle} turtle is the winner!\")\n",
    "            else:\n",
    "                print(f\"You have lost! The {winning_turtle} turtle is the winner!\")    \n",
    "        rand_dist = random.randint(0, 10)\n",
    "        turtle.forward(rand_dist)\n",
    "\n",
    "\n",
    "screen.exitonclick()"
   ]
  },
  {
   "cell_type": "markdown",
   "id": "7eade922",
   "metadata": {},
   "source": [
    "## Snake Game Application\n",
    "\n",
    "We will use our skills to build the snake game using everything we learned in this course."
   ]
  },
  {
   "cell_type": "code",
   "execution_count": null,
   "id": "c38659a9",
   "metadata": {},
   "outputs": [
    {
     "ename": "Terminator",
     "evalue": "",
     "output_type": "error",
     "traceback": [
      "\u001b[31m---------------------------------------------------------------------------\u001b[39m",
      "\u001b[31mTerminator\u001b[39m                                Traceback (most recent call last)",
      "\u001b[36mCell\u001b[39m\u001b[36m \u001b[39m\u001b[32mIn[93]\u001b[39m\u001b[32m, line 22\u001b[39m\n\u001b[32m     20\u001b[39m game_is_on = \u001b[38;5;28;01mTrue\u001b[39;00m\n\u001b[32m     21\u001b[39m \u001b[38;5;28;01mwhile\u001b[39;00m game_is_on: \n\u001b[32m---> \u001b[39m\u001b[32m22\u001b[39m     \u001b[43mscreen\u001b[49m\u001b[43m.\u001b[49m\u001b[43mupdate\u001b[49m\u001b[43m(\u001b[49m\u001b[43m)\u001b[49m \u001b[38;5;66;03m# updates after every segment moves\u001b[39;00m\n\u001b[32m     23\u001b[39m     time.sleep(\u001b[32m0.1\u001b[39m)\n\u001b[32m     24\u001b[39m     \u001b[38;5;28;01mfor\u001b[39;00m segment_num \u001b[38;5;129;01min\u001b[39;00m \u001b[38;5;28mrange\u001b[39m(\u001b[38;5;28mlen\u001b[39m(segments) - \u001b[32m1\u001b[39m, \u001b[32m0\u001b[39m, -\u001b[32m1\u001b[39m): \u001b[38;5;66;03m# we go from last to first\u001b[39;00m\n",
      "\u001b[36mFile \u001b[39m\u001b[32mc:\\Users\\Adullah\\miniconda3\\Lib\\turtle.py:1295\u001b[39m, in \u001b[36mTurtleScreen.update\u001b[39m\u001b[34m(self)\u001b[39m\n\u001b[32m   1293\u001b[39m \u001b[38;5;28mself\u001b[39m._tracing = \u001b[38;5;28;01mTrue\u001b[39;00m\n\u001b[32m   1294\u001b[39m \u001b[38;5;28;01mfor\u001b[39;00m t \u001b[38;5;129;01min\u001b[39;00m \u001b[38;5;28mself\u001b[39m.turtles():\n\u001b[32m-> \u001b[39m\u001b[32m1295\u001b[39m     \u001b[43mt\u001b[49m\u001b[43m.\u001b[49m\u001b[43m_update_data\u001b[49m\u001b[43m(\u001b[49m\u001b[43m)\u001b[49m\n\u001b[32m   1296\u001b[39m     t._drawturtle()\n\u001b[32m   1297\u001b[39m \u001b[38;5;28mself\u001b[39m._tracing = tracing\n",
      "\u001b[36mFile \u001b[39m\u001b[32mc:\\Users\\Adullah\\miniconda3\\Lib\\turtle.py:2654\u001b[39m, in \u001b[36mRawTurtle._update_data\u001b[39m\u001b[34m(self)\u001b[39m\n\u001b[32m   2653\u001b[39m \u001b[38;5;28;01mdef\u001b[39;00m\u001b[38;5;250m \u001b[39m\u001b[34m_update_data\u001b[39m(\u001b[38;5;28mself\u001b[39m):\n\u001b[32m-> \u001b[39m\u001b[32m2654\u001b[39m     \u001b[38;5;28;43mself\u001b[39;49m\u001b[43m.\u001b[49m\u001b[43mscreen\u001b[49m\u001b[43m.\u001b[49m\u001b[43m_incrementudc\u001b[49m\u001b[43m(\u001b[49m\u001b[43m)\u001b[49m\n\u001b[32m   2655\u001b[39m     \u001b[38;5;28;01mif\u001b[39;00m \u001b[38;5;28mself\u001b[39m.screen._updatecounter != \u001b[32m0\u001b[39m:\n\u001b[32m   2656\u001b[39m         \u001b[38;5;28;01mreturn\u001b[39;00m\n",
      "\u001b[36mFile \u001b[39m\u001b[32mc:\\Users\\Adullah\\miniconda3\\Lib\\turtle.py:1284\u001b[39m, in \u001b[36mTurtleScreen._incrementudc\u001b[39m\u001b[34m(self)\u001b[39m\n\u001b[32m   1282\u001b[39m \u001b[38;5;28;01mif\u001b[39;00m \u001b[38;5;129;01mnot\u001b[39;00m TurtleScreen._RUNNING:\n\u001b[32m   1283\u001b[39m     TurtleScreen._RUNNING = \u001b[38;5;28;01mTrue\u001b[39;00m\n\u001b[32m-> \u001b[39m\u001b[32m1284\u001b[39m     \u001b[38;5;28;01mraise\u001b[39;00m Terminator\n\u001b[32m   1285\u001b[39m \u001b[38;5;28;01mif\u001b[39;00m \u001b[38;5;28mself\u001b[39m._tracing > \u001b[32m0\u001b[39m:\n\u001b[32m   1286\u001b[39m     \u001b[38;5;28mself\u001b[39m._updatecounter += \u001b[32m1\u001b[39m\n",
      "\u001b[31mTerminator\u001b[39m: "
     ]
    }
   ],
   "source": [
    "from turtle import Turtle, Screen\n",
    "import time\n",
    "screen = Screen()\n",
    "screen.setup(width=600, height=600)\n",
    "screen.bgcolor(\"black\")\n",
    "screen.title(\"My Snake Game\")\n",
    "screen.tracer(0)\n",
    "\n",
    "shift = 0\n",
    "segments = []\n",
    "for _ in range(3):\n",
    "    new_segment = Turtle(\"square\")\n",
    "    new_segment.color(\"white\")\n",
    "    new_segment.penup()\n",
    "    new_segment.goto(x= 0 - shift, y=0)\n",
    "    shift -= 20\n",
    "    segments.append(new_segment)\n",
    "\n",
    "game_is_on = True\n",
    "while game_is_on: \n",
    "    screen.update() # updates after every segment moves\n",
    "    time.sleep(0.1)\n",
    "    for segment_num in range(len(segments) - 1, 0, -1): # we go from last to first\n",
    "        new_x = segments[segment_num - 1].xcor()\n",
    "        new_y = segments[segment_num - 1].ycor()\n",
    "        segments[segment_num].goto(new_x, new_y)\n",
    "    segments[0].forward(20)\n",
    "\n",
    "screen.exitonclick()\n"
   ]
  },
  {
   "cell_type": "code",
   "execution_count": 17,
   "id": "f33b79eb",
   "metadata": {},
   "outputs": [],
   "source": [
    "\n",
    "from turtle import Turtle, Screen\n",
    "STARTING_POSITIONS = [(0,0), (-20, 0), (-40, 0)]\n",
    "MOVE_DISTANCE = 20\n",
    "UP = 90\n",
    "DOWN = 270\n",
    "LEFT = 180\n",
    "RIGHT = 0\n",
    "class Snake:\n",
    "    def __init__(self):\n",
    "        self.segments = []\n",
    "        self.create_snake()\n",
    "        self.head = self.segments[0]\n",
    "\n",
    "    def create_snake(self):\n",
    "        for position in STARTING_POSITIONS:\n",
    "            self.add_segment(position)\n",
    "\n",
    "    def add_segment(self, position):\n",
    "        new_segment = Turtle(\"square\")\n",
    "        new_segment.color(\"white\")\n",
    "        new_segment.penup()\n",
    "        new_segment.goto(position)\n",
    "        self.segments.append(new_segment)\n",
    "\n",
    "    def extend(self):\n",
    "        # add a new segment to the snake\n",
    "        self.add_segment(self.segments[-1].position())\n",
    "\n",
    "\n",
    "    def move(self):\n",
    "        for segment_num in range(len(self.segments) - 1, 0, -1): # we go from last to first\n",
    "            new_x = self.segments[segment_num - 1].xcor()\n",
    "            new_y = self.segments[segment_num - 1].ycor()\n",
    "            self.segments[segment_num].goto(new_x, new_y)\n",
    "        self.segments[0].forward(MOVE_DISTANCE)\n",
    "\n",
    "    def reset(self):\n",
    "        for segment in self.segments:\n",
    "            segment.goto(1000,1000)\n",
    "        self.segments.clear()\n",
    "        self.create_snake()\n",
    "        self.head = self.segments[0]\n",
    "\n",
    "    def up(self):\n",
    "        if self.head.heading() != DOWN:\n",
    "            self.head.setheading(UP)\n",
    "    def down(self):\n",
    "        if self.head.heading() != UP:\n",
    "            self.head.setheading(DOWN)\n",
    "    def left(self):\n",
    "        if self.head.heading() != RIGHT:\n",
    "            self.head.setheading(LEFT)\n",
    "    def right(self):\n",
    "        if self.head.heading() != LEFT:\n",
    "            self.head.setheading(RIGHT)\n",
    "        "
   ]
  },
  {
   "cell_type": "code",
   "execution_count": 5,
   "id": "197ed859",
   "metadata": {},
   "outputs": [
    {
     "name": "stdout",
     "output_type": "stream",
     "text": [
      "3\n"
     ]
    },
    {
     "ename": "TclError",
     "evalue": "invalid command name \".!canvas\"",
     "output_type": "error",
     "traceback": [
      "\u001b[31m---------------------------------------------------------------------------\u001b[39m",
      "\u001b[31mTclError\u001b[39m                                  Traceback (most recent call last)",
      "\u001b[36mCell\u001b[39m\u001b[36m \u001b[39m\u001b[32mIn[5]\u001b[39m\u001b[32m, line 24\u001b[39m\n\u001b[32m     22\u001b[39m     screen.update()\n\u001b[32m     23\u001b[39m     time.sleep(\u001b[32m0.1\u001b[39m)\n\u001b[32m---> \u001b[39m\u001b[32m24\u001b[39m     \u001b[43msnake\u001b[49m\u001b[43m.\u001b[49m\u001b[43mmove\u001b[49m\u001b[43m(\u001b[49m\u001b[43m)\u001b[49m\n\u001b[32m     27\u001b[39m screen.exitonclick()\n",
      "\u001b[36mCell\u001b[39m\u001b[36m \u001b[39m\u001b[32mIn[2]\u001b[39m\u001b[32m, line 21\u001b[39m, in \u001b[36mSnake.move\u001b[39m\u001b[34m(self)\u001b[39m\n\u001b[32m     19\u001b[39m     new_x = \u001b[38;5;28mself\u001b[39m.segments[segment_num - \u001b[32m1\u001b[39m].xcor()\n\u001b[32m     20\u001b[39m     new_y = \u001b[38;5;28mself\u001b[39m.segments[segment_num - \u001b[32m1\u001b[39m].ycor()\n\u001b[32m---> \u001b[39m\u001b[32m21\u001b[39m     \u001b[38;5;28;43mself\u001b[39;49m\u001b[43m.\u001b[49m\u001b[43msegments\u001b[49m\u001b[43m[\u001b[49m\u001b[43msegment_num\u001b[49m\u001b[43m]\u001b[49m\u001b[43m.\u001b[49m\u001b[43mgoto\u001b[49m\u001b[43m(\u001b[49m\u001b[43mnew_x\u001b[49m\u001b[43m,\u001b[49m\u001b[43m \u001b[49m\u001b[43mnew_y\u001b[49m\u001b[43m)\u001b[49m\n\u001b[32m     22\u001b[39m \u001b[38;5;28mself\u001b[39m.segments[\u001b[32m0\u001b[39m].forward(MOVE_DISTANCE)\n",
      "\u001b[36mFile \u001b[39m\u001b[32mc:\\Users\\Adullah\\miniconda3\\Lib\\turtle.py:1775\u001b[39m, in \u001b[36mTNavigator.goto\u001b[39m\u001b[34m(self, x, y)\u001b[39m\n\u001b[32m   1773\u001b[39m     \u001b[38;5;28mself\u001b[39m._goto(Vec2D(*x))\n\u001b[32m   1774\u001b[39m \u001b[38;5;28;01melse\u001b[39;00m:\n\u001b[32m-> \u001b[39m\u001b[32m1775\u001b[39m     \u001b[38;5;28;43mself\u001b[39;49m\u001b[43m.\u001b[49m\u001b[43m_goto\u001b[49m\u001b[43m(\u001b[49m\u001b[43mVec2D\u001b[49m\u001b[43m(\u001b[49m\u001b[43mx\u001b[49m\u001b[43m,\u001b[49m\u001b[43m \u001b[49m\u001b[43my\u001b[49m\u001b[43m)\u001b[49m\u001b[43m)\u001b[49m\n",
      "\u001b[36mFile \u001b[39m\u001b[32mc:\\Users\\Adullah\\miniconda3\\Lib\\turtle.py:3230\u001b[39m, in \u001b[36mRawTurtle._goto\u001b[39m\u001b[34m(self, end)\u001b[39m\n\u001b[32m   3222\u001b[39m go_modes = ( \u001b[38;5;28mself\u001b[39m._drawing,\n\u001b[32m   3223\u001b[39m              \u001b[38;5;28mself\u001b[39m._pencolor,\n\u001b[32m   3224\u001b[39m              \u001b[38;5;28mself\u001b[39m._pensize,\n\u001b[32m   3225\u001b[39m              \u001b[38;5;28misinstance\u001b[39m(\u001b[38;5;28mself\u001b[39m._fillpath, \u001b[38;5;28mlist\u001b[39m))\n\u001b[32m   3226\u001b[39m screen = \u001b[38;5;28mself\u001b[39m.screen\n\u001b[32m   3227\u001b[39m undo_entry = (\u001b[33m\"\u001b[39m\u001b[33mgo\u001b[39m\u001b[33m\"\u001b[39m, \u001b[38;5;28mself\u001b[39m._position, end, go_modes,\n\u001b[32m   3228\u001b[39m               (\u001b[38;5;28mself\u001b[39m.currentLineItem,\n\u001b[32m   3229\u001b[39m               \u001b[38;5;28mself\u001b[39m.currentLine[:],\n\u001b[32m-> \u001b[39m\u001b[32m3230\u001b[39m               \u001b[43mscreen\u001b[49m\u001b[43m.\u001b[49m\u001b[43m_pointlist\u001b[49m\u001b[43m(\u001b[49m\u001b[38;5;28;43mself\u001b[39;49m\u001b[43m.\u001b[49m\u001b[43mcurrentLineItem\u001b[49m\u001b[43m)\u001b[49m,\n\u001b[32m   3231\u001b[39m               \u001b[38;5;28mself\u001b[39m.items[:])\n\u001b[32m   3232\u001b[39m               )\n\u001b[32m   3233\u001b[39m \u001b[38;5;28;01mif\u001b[39;00m \u001b[38;5;28mself\u001b[39m.undobuffer:\n\u001b[32m   3234\u001b[39m     \u001b[38;5;28mself\u001b[39m.undobuffer.push(undo_entry)\n",
      "\u001b[36mFile \u001b[39m\u001b[32mc:\\Users\\Adullah\\miniconda3\\Lib\\turtle.py:745\u001b[39m, in \u001b[36mTurtleScreenBase._pointlist\u001b[39m\u001b[34m(self, item)\u001b[39m\n\u001b[32m    737\u001b[39m \u001b[38;5;28;01mdef\u001b[39;00m\u001b[38;5;250m \u001b[39m\u001b[34m_pointlist\u001b[39m(\u001b[38;5;28mself\u001b[39m, item):\n\u001b[32m    738\u001b[39m \u001b[38;5;250m    \u001b[39m\u001b[33;03m\"\"\"returns list of coordinate-pairs of points of item\u001b[39;00m\n\u001b[32m    739\u001b[39m \u001b[33;03m    Example (for insiders):\u001b[39;00m\n\u001b[32m    740\u001b[39m \u001b[33;03m    >>> from turtle import *\u001b[39;00m\n\u001b[32m   (...)\u001b[39m\u001b[32m    743\u001b[39m \u001b[33;03m    (9.9999999999999982, 0.0)]\u001b[39;00m\n\u001b[32m    744\u001b[39m \u001b[33;03m    >>> \"\"\"\u001b[39;00m\n\u001b[32m--> \u001b[39m\u001b[32m745\u001b[39m     cl = \u001b[38;5;28;43mself\u001b[39;49m\u001b[43m.\u001b[49m\u001b[43mcv\u001b[49m\u001b[43m.\u001b[49m\u001b[43mcoords\u001b[49m\u001b[43m(\u001b[49m\u001b[43mitem\u001b[49m\u001b[43m)\u001b[49m\n\u001b[32m    746\u001b[39m     pl = [(cl[i], -cl[i+\u001b[32m1\u001b[39m]) \u001b[38;5;28;01mfor\u001b[39;00m i \u001b[38;5;129;01min\u001b[39;00m \u001b[38;5;28mrange\u001b[39m(\u001b[32m0\u001b[39m, \u001b[38;5;28mlen\u001b[39m(cl), \u001b[32m2\u001b[39m)]\n\u001b[32m    747\u001b[39m     \u001b[38;5;28;01mreturn\u001b[39;00m  pl\n",
      "\u001b[36mFile \u001b[39m\u001b[32m<string>:1\u001b[39m, in \u001b[36mcoords\u001b[39m\u001b[34m(self, *args, **kw)\u001b[39m\n",
      "\u001b[36mFile \u001b[39m\u001b[32mc:\\Users\\Adullah\\miniconda3\\Lib\\tkinter\\__init__.py:2840\u001b[39m, in \u001b[36mCanvas.coords\u001b[39m\u001b[34m(self, *args)\u001b[39m\n\u001b[32m   2836\u001b[39m \u001b[38;5;250m\u001b[39m\u001b[33;03m\"\"\"Return a list of coordinates for the item given in ARGS.\"\"\"\u001b[39;00m\n\u001b[32m   2837\u001b[39m args = _flatten(args)\n\u001b[32m   2838\u001b[39m \u001b[38;5;28;01mreturn\u001b[39;00m [\u001b[38;5;28mself\u001b[39m.tk.getdouble(x) \u001b[38;5;28;01mfor\u001b[39;00m x \u001b[38;5;129;01min\u001b[39;00m\n\u001b[32m   2839\u001b[39m                    \u001b[38;5;28mself\u001b[39m.tk.splitlist(\n\u001b[32m-> \u001b[39m\u001b[32m2840\u001b[39m            \u001b[38;5;28;43mself\u001b[39;49m\u001b[43m.\u001b[49m\u001b[43mtk\u001b[49m\u001b[43m.\u001b[49m\u001b[43mcall\u001b[49m\u001b[43m(\u001b[49m\u001b[43m(\u001b[49m\u001b[38;5;28;43mself\u001b[39;49m\u001b[43m.\u001b[49m\u001b[43m_w\u001b[49m\u001b[43m,\u001b[49m\u001b[43m \u001b[49m\u001b[33;43m'\u001b[39;49m\u001b[33;43mcoords\u001b[39;49m\u001b[33;43m'\u001b[39;49m\u001b[43m)\u001b[49m\u001b[43m \u001b[49m\u001b[43m+\u001b[49m\u001b[43m \u001b[49m\u001b[43margs\u001b[49m\u001b[43m)\u001b[49m)]\n",
      "\u001b[31mTclError\u001b[39m: invalid command name \".!canvas\""
     ]
    }
   ],
   "source": [
    "import time\n",
    "from turtle import Turtle, Screen\n",
    "\n",
    "screen = Screen()\n",
    "screen.setup(width=600, height=600)\n",
    "screen.bgcolor(\"black\")\n",
    "screen.title(\"My Snake Game\")\n",
    "screen.tracer(0)\n",
    "\n",
    "snake = Snake()\n",
    "\n",
    "print(len(snake.segments))\n",
    "\n",
    "screen.listen()\n",
    "screen.onkey(snake.up, \"Up\")\n",
    "screen.onkey(snake.down,\"Down\")\n",
    "screen.onkey(snake.left, \"Left\")\n",
    "screen.onkey(snake.right, \"Right\")\n",
    "\n",
    "game_is_on = True\n",
    "while game_is_on:\n",
    "    screen.update()\n",
    "    time.sleep(0.1)\n",
    "    snake.move()\n",
    "\n",
    "\n",
    "screen.exitonclick()\n"
   ]
  },
  {
   "cell_type": "markdown",
   "id": "62e938f3",
   "metadata": {},
   "source": [
    "## Inheritance\n",
    "\n",
    "We will be learning what inheritance means in object oriented programming."
   ]
  },
  {
   "cell_type": "code",
   "execution_count": 5,
   "id": "73d7d139",
   "metadata": {},
   "outputs": [
    {
     "name": "stdout",
     "output_type": "stream",
     "text": [
      "Inhale, exhale\n",
      "Doing this underwater\n",
      "None\n",
      "Moving in water.\n",
      "None\n",
      "2\n"
     ]
    }
   ],
   "source": [
    "class Animal():\n",
    "    def __init__(self):\n",
    "        self.num_eyes = 2\n",
    "    def breathe(self):\n",
    "        print(\"Inhale, exhale\")\n",
    "\n",
    "class Fish(Animal):\n",
    "    def __init__(self):\n",
    "        super().__init__() # this inherit all the attribute and methods of the animal class\n",
    "\n",
    "    def breathe(self):\n",
    "        super().breathe() # as you can see, it inherits everything from animal's breathe but also building more things with breathe\n",
    "        print(\"Doing this underwater\")\n",
    "    \n",
    "    def swim(self):\n",
    "        print(\"Moving in water.\")\n",
    "\n",
    "fish_1 = Fish()\n",
    "print(fish_1.breathe())\n",
    "print(fish_1.swim())\n",
    "print(fish_1.num_eyes)"
   ]
  },
  {
   "cell_type": "markdown",
   "id": "11ecdcfb",
   "metadata": {},
   "source": [
    "Continuing on with our snake game project that we have been working on."
   ]
  },
  {
   "cell_type": "code",
   "execution_count": 2,
   "id": "ace57842",
   "metadata": {},
   "outputs": [],
   "source": [
    "from turtle import Turtle\n",
    "import random\n",
    "class Food(Turtle):\n",
    "    def __init__(self):\n",
    "        super().__init__()\n",
    "        self.shape(\"circle\")\n",
    "        self.penup()\n",
    "        self.shapesize(stretch_len=0.5, stretch_wid=0.5) # 10 by 10 circle\n",
    "        self.color(\"blue\") \n",
    "        self.speed(\"fastest\")\n",
    "        self.refresh()\n",
    "\n",
    "    def refresh(self):\n",
    "        random_x = random.randint(-280, 280)\n",
    "        random_y = random.randint(-280, 280)\n",
    "        self.goto(random_x, random_y)"
   ]
  },
  {
   "cell_type": "markdown",
   "id": "13d79da8",
   "metadata": {},
   "source": [
    "Let's copy what we wrote above to here."
   ]
  },
  {
   "cell_type": "code",
   "execution_count": 13,
   "id": "add7332b",
   "metadata": {},
   "outputs": [],
   "source": [
    "\n",
    "ALIGNMENT = \"center\"\n",
    "FONT = (\"Courier\", 24, \"normal\")\n",
    "\n",
    "class Scoreboard(Turtle):\n",
    "    def __init__(self):\n",
    "        super().__init__()\n",
    "        self.score = 0\n",
    "        self.high_score = 0\n",
    "        self.color(\"white\")\n",
    "        self.penup()\n",
    "        self.goto(0, 270)\n",
    "        self.update_scoreboard()\n",
    "        self.hideturtle()\n",
    "\n",
    "    def update_scoreboard(self):\n",
    "        self.clear()\n",
    "        self.write(f\"Score: {self.score}, High score: {self.high_score}\", align=ALIGNMENT, font=FONT)\n",
    "\n",
    "    # def game_over(self):\n",
    "    #     self.goto(0, 0)\n",
    "    #     self.write(f\"GAME OVER\", align=ALIGNMENT, font=FONT)\n",
    "\n",
    "    def reset(self): # make sure that the order matters here\n",
    "        if self.score > self.high_score:\n",
    "            self.high_score = self.score\n",
    "        self.score = 0\n",
    "\n",
    "        self.update_scoreboard()\n",
    "\n",
    "    def increase_score(self):\n",
    "        self.score += 1\n",
    "        self.update_scoreboard()\n",
    "        "
   ]
  },
  {
   "cell_type": "code",
   "execution_count": 20,
   "id": "30cd7142",
   "metadata": {},
   "outputs": [
    {
     "name": "stdout",
     "output_type": "stream",
     "text": [
      "3\n"
     ]
    },
    {
     "ename": "TclError",
     "evalue": "invalid command name \".!canvas\"",
     "output_type": "error",
     "traceback": [
      "\u001b[31m---------------------------------------------------------------------------\u001b[39m",
      "\u001b[31mTclError\u001b[39m                                  Traceback (most recent call last)",
      "\u001b[36mCell\u001b[39m\u001b[36m \u001b[39m\u001b[32mIn[20]\u001b[39m\u001b[32m, line 26\u001b[39m\n\u001b[32m     24\u001b[39m screen.update()\n\u001b[32m     25\u001b[39m time.sleep(\u001b[32m0.1\u001b[39m)\n\u001b[32m---> \u001b[39m\u001b[32m26\u001b[39m \u001b[43msnake\u001b[49m\u001b[43m.\u001b[49m\u001b[43mmove\u001b[49m\u001b[43m(\u001b[49m\u001b[43m)\u001b[49m\n\u001b[32m     28\u001b[39m \u001b[38;5;66;03m# detect collision with food \u001b[39;00m\n\u001b[32m     29\u001b[39m \u001b[38;5;28;01mif\u001b[39;00m snake.head.distance(food) < \u001b[32m15\u001b[39m:\n",
      "\u001b[36mCell\u001b[39m\u001b[36m \u001b[39m\u001b[32mIn[17]\u001b[39m\u001b[32m, line 34\u001b[39m, in \u001b[36mSnake.move\u001b[39m\u001b[34m(self)\u001b[39m\n\u001b[32m     32\u001b[39m     new_x = \u001b[38;5;28mself\u001b[39m.segments[segment_num - \u001b[32m1\u001b[39m].xcor()\n\u001b[32m     33\u001b[39m     new_y = \u001b[38;5;28mself\u001b[39m.segments[segment_num - \u001b[32m1\u001b[39m].ycor()\n\u001b[32m---> \u001b[39m\u001b[32m34\u001b[39m     \u001b[38;5;28;43mself\u001b[39;49m\u001b[43m.\u001b[49m\u001b[43msegments\u001b[49m\u001b[43m[\u001b[49m\u001b[43msegment_num\u001b[49m\u001b[43m]\u001b[49m\u001b[43m.\u001b[49m\u001b[43mgoto\u001b[49m\u001b[43m(\u001b[49m\u001b[43mnew_x\u001b[49m\u001b[43m,\u001b[49m\u001b[43m \u001b[49m\u001b[43mnew_y\u001b[49m\u001b[43m)\u001b[49m\n\u001b[32m     35\u001b[39m \u001b[38;5;28mself\u001b[39m.segments[\u001b[32m0\u001b[39m].forward(MOVE_DISTANCE)\n",
      "\u001b[36mFile \u001b[39m\u001b[32m/Library/Frameworks/Python.framework/Versions/3.13/lib/python3.13/turtle.py:1774\u001b[39m, in \u001b[36mTNavigator.goto\u001b[39m\u001b[34m(self, x, y)\u001b[39m\n\u001b[32m   1772\u001b[39m     \u001b[38;5;28mself\u001b[39m._goto(Vec2D(*x))\n\u001b[32m   1773\u001b[39m \u001b[38;5;28;01melse\u001b[39;00m:\n\u001b[32m-> \u001b[39m\u001b[32m1774\u001b[39m     \u001b[38;5;28;43mself\u001b[39;49m\u001b[43m.\u001b[49m\u001b[43m_goto\u001b[49m\u001b[43m(\u001b[49m\u001b[43mVec2D\u001b[49m\u001b[43m(\u001b[49m\u001b[43mx\u001b[49m\u001b[43m,\u001b[49m\u001b[43m \u001b[49m\u001b[43my\u001b[49m\u001b[43m)\u001b[49m\u001b[43m)\u001b[49m\n",
      "\u001b[36mFile \u001b[39m\u001b[32m/Library/Frameworks/Python.framework/Versions/3.13/lib/python3.13/turtle.py:3199\u001b[39m, in \u001b[36mRawTurtle._goto\u001b[39m\u001b[34m(self, end)\u001b[39m\n\u001b[32m   3191\u001b[39m go_modes = ( \u001b[38;5;28mself\u001b[39m._drawing,\n\u001b[32m   3192\u001b[39m              \u001b[38;5;28mself\u001b[39m._pencolor,\n\u001b[32m   3193\u001b[39m              \u001b[38;5;28mself\u001b[39m._pensize,\n\u001b[32m   3194\u001b[39m              \u001b[38;5;28misinstance\u001b[39m(\u001b[38;5;28mself\u001b[39m._fillpath, \u001b[38;5;28mlist\u001b[39m))\n\u001b[32m   3195\u001b[39m screen = \u001b[38;5;28mself\u001b[39m.screen\n\u001b[32m   3196\u001b[39m undo_entry = (\u001b[33m\"\u001b[39m\u001b[33mgo\u001b[39m\u001b[33m\"\u001b[39m, \u001b[38;5;28mself\u001b[39m._position, end, go_modes,\n\u001b[32m   3197\u001b[39m               (\u001b[38;5;28mself\u001b[39m.currentLineItem,\n\u001b[32m   3198\u001b[39m               \u001b[38;5;28mself\u001b[39m.currentLine[:],\n\u001b[32m-> \u001b[39m\u001b[32m3199\u001b[39m               \u001b[43mscreen\u001b[49m\u001b[43m.\u001b[49m\u001b[43m_pointlist\u001b[49m\u001b[43m(\u001b[49m\u001b[38;5;28;43mself\u001b[39;49m\u001b[43m.\u001b[49m\u001b[43mcurrentLineItem\u001b[49m\u001b[43m)\u001b[49m,\n\u001b[32m   3200\u001b[39m               \u001b[38;5;28mself\u001b[39m.items[:])\n\u001b[32m   3201\u001b[39m               )\n\u001b[32m   3202\u001b[39m \u001b[38;5;28;01mif\u001b[39;00m \u001b[38;5;28mself\u001b[39m.undobuffer:\n\u001b[32m   3203\u001b[39m     \u001b[38;5;28mself\u001b[39m.undobuffer.push(undo_entry)\n",
      "\u001b[36mFile \u001b[39m\u001b[32m/Library/Frameworks/Python.framework/Versions/3.13/lib/python3.13/turtle.py:744\u001b[39m, in \u001b[36mTurtleScreenBase._pointlist\u001b[39m\u001b[34m(self, item)\u001b[39m\n\u001b[32m    736\u001b[39m \u001b[38;5;28;01mdef\u001b[39;00m\u001b[38;5;250m \u001b[39m\u001b[34m_pointlist\u001b[39m(\u001b[38;5;28mself\u001b[39m, item):\n\u001b[32m    737\u001b[39m \u001b[38;5;250m    \u001b[39m\u001b[33;03m\"\"\"returns list of coordinate-pairs of points of item\u001b[39;00m\n\u001b[32m    738\u001b[39m \u001b[33;03m    Example (for insiders):\u001b[39;00m\n\u001b[32m    739\u001b[39m \u001b[33;03m    >>> from turtle import *\u001b[39;00m\n\u001b[32m   (...)\u001b[39m\u001b[32m    742\u001b[39m \u001b[33;03m    (9.9999999999999982, 0.0)]\u001b[39;00m\n\u001b[32m    743\u001b[39m \u001b[33;03m    >>> \"\"\"\u001b[39;00m\n\u001b[32m--> \u001b[39m\u001b[32m744\u001b[39m     cl = \u001b[38;5;28;43mself\u001b[39;49m\u001b[43m.\u001b[49m\u001b[43mcv\u001b[49m\u001b[43m.\u001b[49m\u001b[43mcoords\u001b[49m\u001b[43m(\u001b[49m\u001b[43mitem\u001b[49m\u001b[43m)\u001b[49m\n\u001b[32m    745\u001b[39m     pl = [(cl[i], -cl[i+\u001b[32m1\u001b[39m]) \u001b[38;5;28;01mfor\u001b[39;00m i \u001b[38;5;129;01min\u001b[39;00m \u001b[38;5;28mrange\u001b[39m(\u001b[32m0\u001b[39m, \u001b[38;5;28mlen\u001b[39m(cl), \u001b[32m2\u001b[39m)]\n\u001b[32m    746\u001b[39m     \u001b[38;5;28;01mreturn\u001b[39;00m  pl\n",
      "\u001b[36mFile \u001b[39m\u001b[32m<string>:1\u001b[39m, in \u001b[36mcoords\u001b[39m\u001b[34m(self, *args, **kw)\u001b[39m\n",
      "\u001b[36mFile \u001b[39m\u001b[32m/Library/Frameworks/Python.framework/Versions/3.13/lib/python3.13/tkinter/__init__.py:2966\u001b[39m, in \u001b[36mCanvas.coords\u001b[39m\u001b[34m(self, *args)\u001b[39m\n\u001b[32m   2962\u001b[39m \u001b[38;5;250m\u001b[39m\u001b[33;03m\"\"\"Return a list of coordinates for the item given in ARGS.\"\"\"\u001b[39;00m\n\u001b[32m   2963\u001b[39m args = _flatten(args)\n\u001b[32m   2964\u001b[39m \u001b[38;5;28;01mreturn\u001b[39;00m [\u001b[38;5;28mself\u001b[39m.tk.getdouble(x) \u001b[38;5;28;01mfor\u001b[39;00m x \u001b[38;5;129;01min\u001b[39;00m\n\u001b[32m   2965\u001b[39m                    \u001b[38;5;28mself\u001b[39m.tk.splitlist(\n\u001b[32m-> \u001b[39m\u001b[32m2966\u001b[39m            \u001b[38;5;28;43mself\u001b[39;49m\u001b[43m.\u001b[49m\u001b[43mtk\u001b[49m\u001b[43m.\u001b[49m\u001b[43mcall\u001b[49m\u001b[43m(\u001b[49m\u001b[43m(\u001b[49m\u001b[38;5;28;43mself\u001b[39;49m\u001b[43m.\u001b[49m\u001b[43m_w\u001b[49m\u001b[43m,\u001b[49m\u001b[43m \u001b[49m\u001b[33;43m'\u001b[39;49m\u001b[33;43mcoords\u001b[39;49m\u001b[33;43m'\u001b[39;49m\u001b[43m)\u001b[49m\u001b[43m \u001b[49m\u001b[43m+\u001b[49m\u001b[43m \u001b[49m\u001b[43margs\u001b[49m\u001b[43m)\u001b[49m)]\n",
      "\u001b[31mTclError\u001b[39m: invalid command name \".!canvas\""
     ]
    }
   ],
   "source": [
    "import time\n",
    "from turtle import Turtle, Screen\n",
    "\n",
    "screen = Screen()\n",
    "screen.setup(width=600, height=600)\n",
    "screen.bgcolor(\"black\")\n",
    "screen.title(\"My Snake Game\")\n",
    "screen.tracer(0)\n",
    "\n",
    "snake = Snake()\n",
    "food = Food()\n",
    "scoreboard = Scoreboard()\n",
    "\n",
    "print(len(snake.segments))\n",
    "\n",
    "screen.listen()\n",
    "screen.onkey(snake.up, \"Up\")\n",
    "screen.onkey(snake.down,\"Down\")\n",
    "screen.onkey(snake.left, \"Left\")\n",
    "screen.onkey(snake.right, \"Right\")\n",
    "\n",
    "game_is_on = True\n",
    "while game_is_on:\n",
    "    screen.update()\n",
    "    time.sleep(0.1)\n",
    "    snake.move()\n",
    "\n",
    "    # detect collision with food \n",
    "    if snake.head.distance(food) < 15:\n",
    "        food.refresh()\n",
    "        snake.extend()\n",
    "        scoreboard.increase_score()\n",
    "\n",
    "    # detect collision with wall\n",
    "    if snake.head.xcor() > 280 or snake.head.xcor() < -280 or snake.head.ycor() > 280 or snake.head.ycor() < -280:\n",
    "        scoreboard.reset()\n",
    "        snake.reset()\n",
    "\n",
    "    # detection with body\n",
    "    for segment in snake.segments[1:]: # as you can see, we are using slicing here\n",
    "        if snake.head.distance(segment) < 10:\n",
    "            scoreboard.reset()\n",
    "            snake.reset()\n",
    "\n",
    "screen.exitonclick()"
   ]
  },
  {
   "cell_type": "markdown",
   "id": "d43cc4d9",
   "metadata": {},
   "source": [
    "## Slicing\n",
    "\n",
    "As you can see above, we learned a little bit about slicing: dividing lists into smaller parts in python."
   ]
  },
  {
   "cell_type": "code",
   "execution_count": null,
   "id": "f0861777",
   "metadata": {},
   "outputs": [
    {
     "name": "stdout",
     "output_type": "stream",
     "text": [
      "['c', 'd', 'e']\n",
      "['c', 'd', 'e', 'f', 'g']\n",
      "['c', 'e']\n",
      "['g', 'f', 'e', 'd', 'c', 'b', 'a']\n"
     ]
    }
   ],
   "source": [
    "# for example\n",
    "piano_keys = [\"a\", \"b\", \"c\", \"d\", \"e\", \"f\", \"g\"]\n",
    "\n",
    "print(piano_keys[2:5]) # begins and includes 2 but does not include 5\n",
    "\n",
    "print(piano_keys[2:]) # includes 2 and onwards\n",
    "\n",
    "print(piano_keys[2:5:2]) # includes 2 but does not include 5, but increments by 2 each time\n",
    "\n",
    "print(piano_keys[::-1]) # this reverses the list for us as you can see\n",
    "\n",
    "\n",
    "# all of the above also works on tuples"
   ]
  },
  {
   "cell_type": "markdown",
   "id": "be50be4c",
   "metadata": {},
   "source": [
    "## File System\n",
    "\n",
    "Let's talk about the file system to learn more about it."
   ]
  },
  {
   "cell_type": "code",
   "execution_count": 23,
   "id": "496be591",
   "metadata": {},
   "outputs": [
    {
     "name": "stdout",
     "output_type": "stream",
     "text": [
      "hello, my name is Abdullah Yassine\n"
     ]
    }
   ],
   "source": [
    "file = open(\"Garbage_data/file1.txt\") # open a file using this\n",
    "contents = file.read() # returns the contents in string\n",
    "print(contents)\n",
    "file.close() # close the file to free up resources"
   ]
  },
  {
   "cell_type": "code",
   "execution_count": 24,
   "id": "d12623ac",
   "metadata": {},
   "outputs": [
    {
     "name": "stdout",
     "output_type": "stream",
     "text": [
      "hello, my name is Abdullah Yassine\n"
     ]
    }
   ],
   "source": [
    "with open(\"Garbage_data/file1.txt\") as file:\n",
    "    contents = file.read()\n",
    "    print(contents)\n",
    "    # dont need to close it, after indentation, it closes files automatically"
   ]
  },
  {
   "cell_type": "code",
   "execution_count": null,
   "id": "f39e0c6a",
   "metadata": {},
   "outputs": [],
   "source": [
    "with open(\"Garbage_data/file1.txt\", mode=\"a\") as file:\n",
    "    file.write(\"\\nNew text.\") # it writes a new line\n",
    "\n",
    "with open(\"Garbage_data/file2.txt\", mode=\"a\") as f: # as you can, it creates a new file if it does not exist\n",
    "    f.write(\"This is a new file\")\n"
   ]
  },
  {
   "cell_type": "markdown",
   "id": "915600ea",
   "metadata": {},
   "source": [
    "Now, let's continue on with the snake game and use this information that we just learned to save our high score so that when we run our program again, it fetches the score from this file."
   ]
  },
  {
   "cell_type": "code",
   "execution_count": 28,
   "id": "5a3642da",
   "metadata": {},
   "outputs": [],
   "source": [
    "\n",
    "ALIGNMENT = \"center\"\n",
    "FONT = (\"Courier\", 24, \"normal\")\n",
    "\n",
    "class Scoreboard(Turtle):\n",
    "    def __init__(self):\n",
    "        super().__init__()\n",
    "        self.score = 0\n",
    "        with open(\"Garbage_data/snake_game_data.txt\") as file:\n",
    "            self.high_score = int(file.read())\n",
    "        self.color(\"white\")\n",
    "        self.penup()\n",
    "        self.goto(0, 270)\n",
    "        self.update_scoreboard()\n",
    "        self.hideturtle()\n",
    "\n",
    "    def update_scoreboard(self):\n",
    "        self.clear()\n",
    "        self.write(f\"Score: {self.score}, High score: {self.high_score}\", align=ALIGNMENT, font=FONT)\n",
    "\n",
    "\n",
    "    def reset(self):\n",
    "        if self.score > self.high_score:\n",
    "            self.high_score = self.score\n",
    "            with open(\"Garbage_data/snake_game_data.txt\", mode=\"w\") as file:\n",
    "                file.write(f\"{self.high_score}\") # convert it to a string as you can see\n",
    "        self.score = 0\n",
    "\n",
    "        self.update_scoreboard()\n",
    "\n",
    "    def increase_score(self):\n",
    "        self.score += 1\n",
    "        self.update_scoreboard()\n",
    "        "
   ]
  },
  {
   "cell_type": "code",
   "execution_count": 36,
   "id": "3781a02a",
   "metadata": {},
   "outputs": [
    {
     "name": "stdout",
     "output_type": "stream",
     "text": [
      "3\n"
     ]
    },
    {
     "ename": "TclError",
     "evalue": "invalid command name \".!canvas\"",
     "output_type": "error",
     "traceback": [
      "\u001b[31m---------------------------------------------------------------------------\u001b[39m",
      "\u001b[31mTclError\u001b[39m                                  Traceback (most recent call last)",
      "\u001b[36mCell\u001b[39m\u001b[36m \u001b[39m\u001b[32mIn[36]\u001b[39m\u001b[32m, line 26\u001b[39m\n\u001b[32m     24\u001b[39m screen.update()\n\u001b[32m     25\u001b[39m time.sleep(\u001b[32m0.1\u001b[39m)\n\u001b[32m---> \u001b[39m\u001b[32m26\u001b[39m \u001b[43msnake\u001b[49m\u001b[43m.\u001b[49m\u001b[43mmove\u001b[49m\u001b[43m(\u001b[49m\u001b[43m)\u001b[49m\n\u001b[32m     28\u001b[39m \u001b[38;5;66;03m# detect collision with food \u001b[39;00m\n\u001b[32m     29\u001b[39m \u001b[38;5;28;01mif\u001b[39;00m snake.head.distance(food) < \u001b[32m15\u001b[39m:\n",
      "\u001b[36mCell\u001b[39m\u001b[36m \u001b[39m\u001b[32mIn[17]\u001b[39m\u001b[32m, line 34\u001b[39m, in \u001b[36mSnake.move\u001b[39m\u001b[34m(self)\u001b[39m\n\u001b[32m     32\u001b[39m     new_x = \u001b[38;5;28mself\u001b[39m.segments[segment_num - \u001b[32m1\u001b[39m].xcor()\n\u001b[32m     33\u001b[39m     new_y = \u001b[38;5;28mself\u001b[39m.segments[segment_num - \u001b[32m1\u001b[39m].ycor()\n\u001b[32m---> \u001b[39m\u001b[32m34\u001b[39m     \u001b[38;5;28;43mself\u001b[39;49m\u001b[43m.\u001b[49m\u001b[43msegments\u001b[49m\u001b[43m[\u001b[49m\u001b[43msegment_num\u001b[49m\u001b[43m]\u001b[49m\u001b[43m.\u001b[49m\u001b[43mgoto\u001b[49m\u001b[43m(\u001b[49m\u001b[43mnew_x\u001b[49m\u001b[43m,\u001b[49m\u001b[43m \u001b[49m\u001b[43mnew_y\u001b[49m\u001b[43m)\u001b[49m\n\u001b[32m     35\u001b[39m \u001b[38;5;28mself\u001b[39m.segments[\u001b[32m0\u001b[39m].forward(MOVE_DISTANCE)\n",
      "\u001b[36mFile \u001b[39m\u001b[32m/Library/Frameworks/Python.framework/Versions/3.13/lib/python3.13/turtle.py:1774\u001b[39m, in \u001b[36mTNavigator.goto\u001b[39m\u001b[34m(self, x, y)\u001b[39m\n\u001b[32m   1772\u001b[39m     \u001b[38;5;28mself\u001b[39m._goto(Vec2D(*x))\n\u001b[32m   1773\u001b[39m \u001b[38;5;28;01melse\u001b[39;00m:\n\u001b[32m-> \u001b[39m\u001b[32m1774\u001b[39m     \u001b[38;5;28;43mself\u001b[39;49m\u001b[43m.\u001b[49m\u001b[43m_goto\u001b[49m\u001b[43m(\u001b[49m\u001b[43mVec2D\u001b[49m\u001b[43m(\u001b[49m\u001b[43mx\u001b[49m\u001b[43m,\u001b[49m\u001b[43m \u001b[49m\u001b[43my\u001b[49m\u001b[43m)\u001b[49m\u001b[43m)\u001b[49m\n",
      "\u001b[36mFile \u001b[39m\u001b[32m/Library/Frameworks/Python.framework/Versions/3.13/lib/python3.13/turtle.py:3199\u001b[39m, in \u001b[36mRawTurtle._goto\u001b[39m\u001b[34m(self, end)\u001b[39m\n\u001b[32m   3191\u001b[39m go_modes = ( \u001b[38;5;28mself\u001b[39m._drawing,\n\u001b[32m   3192\u001b[39m              \u001b[38;5;28mself\u001b[39m._pencolor,\n\u001b[32m   3193\u001b[39m              \u001b[38;5;28mself\u001b[39m._pensize,\n\u001b[32m   3194\u001b[39m              \u001b[38;5;28misinstance\u001b[39m(\u001b[38;5;28mself\u001b[39m._fillpath, \u001b[38;5;28mlist\u001b[39m))\n\u001b[32m   3195\u001b[39m screen = \u001b[38;5;28mself\u001b[39m.screen\n\u001b[32m   3196\u001b[39m undo_entry = (\u001b[33m\"\u001b[39m\u001b[33mgo\u001b[39m\u001b[33m\"\u001b[39m, \u001b[38;5;28mself\u001b[39m._position, end, go_modes,\n\u001b[32m   3197\u001b[39m               (\u001b[38;5;28mself\u001b[39m.currentLineItem,\n\u001b[32m   3198\u001b[39m               \u001b[38;5;28mself\u001b[39m.currentLine[:],\n\u001b[32m-> \u001b[39m\u001b[32m3199\u001b[39m               \u001b[43mscreen\u001b[49m\u001b[43m.\u001b[49m\u001b[43m_pointlist\u001b[49m\u001b[43m(\u001b[49m\u001b[38;5;28;43mself\u001b[39;49m\u001b[43m.\u001b[49m\u001b[43mcurrentLineItem\u001b[49m\u001b[43m)\u001b[49m,\n\u001b[32m   3200\u001b[39m               \u001b[38;5;28mself\u001b[39m.items[:])\n\u001b[32m   3201\u001b[39m               )\n\u001b[32m   3202\u001b[39m \u001b[38;5;28;01mif\u001b[39;00m \u001b[38;5;28mself\u001b[39m.undobuffer:\n\u001b[32m   3203\u001b[39m     \u001b[38;5;28mself\u001b[39m.undobuffer.push(undo_entry)\n",
      "\u001b[36mFile \u001b[39m\u001b[32m/Library/Frameworks/Python.framework/Versions/3.13/lib/python3.13/turtle.py:744\u001b[39m, in \u001b[36mTurtleScreenBase._pointlist\u001b[39m\u001b[34m(self, item)\u001b[39m\n\u001b[32m    736\u001b[39m \u001b[38;5;28;01mdef\u001b[39;00m\u001b[38;5;250m \u001b[39m\u001b[34m_pointlist\u001b[39m(\u001b[38;5;28mself\u001b[39m, item):\n\u001b[32m    737\u001b[39m \u001b[38;5;250m    \u001b[39m\u001b[33;03m\"\"\"returns list of coordinate-pairs of points of item\u001b[39;00m\n\u001b[32m    738\u001b[39m \u001b[33;03m    Example (for insiders):\u001b[39;00m\n\u001b[32m    739\u001b[39m \u001b[33;03m    >>> from turtle import *\u001b[39;00m\n\u001b[32m   (...)\u001b[39m\u001b[32m    742\u001b[39m \u001b[33;03m    (9.9999999999999982, 0.0)]\u001b[39;00m\n\u001b[32m    743\u001b[39m \u001b[33;03m    >>> \"\"\"\u001b[39;00m\n\u001b[32m--> \u001b[39m\u001b[32m744\u001b[39m     cl = \u001b[38;5;28;43mself\u001b[39;49m\u001b[43m.\u001b[49m\u001b[43mcv\u001b[49m\u001b[43m.\u001b[49m\u001b[43mcoords\u001b[49m\u001b[43m(\u001b[49m\u001b[43mitem\u001b[49m\u001b[43m)\u001b[49m\n\u001b[32m    745\u001b[39m     pl = [(cl[i], -cl[i+\u001b[32m1\u001b[39m]) \u001b[38;5;28;01mfor\u001b[39;00m i \u001b[38;5;129;01min\u001b[39;00m \u001b[38;5;28mrange\u001b[39m(\u001b[32m0\u001b[39m, \u001b[38;5;28mlen\u001b[39m(cl), \u001b[32m2\u001b[39m)]\n\u001b[32m    746\u001b[39m     \u001b[38;5;28;01mreturn\u001b[39;00m  pl\n",
      "\u001b[36mFile \u001b[39m\u001b[32m<string>:1\u001b[39m, in \u001b[36mcoords\u001b[39m\u001b[34m(self, *args, **kw)\u001b[39m\n",
      "\u001b[36mFile \u001b[39m\u001b[32m/Library/Frameworks/Python.framework/Versions/3.13/lib/python3.13/tkinter/__init__.py:2966\u001b[39m, in \u001b[36mCanvas.coords\u001b[39m\u001b[34m(self, *args)\u001b[39m\n\u001b[32m   2962\u001b[39m \u001b[38;5;250m\u001b[39m\u001b[33;03m\"\"\"Return a list of coordinates for the item given in ARGS.\"\"\"\u001b[39;00m\n\u001b[32m   2963\u001b[39m args = _flatten(args)\n\u001b[32m   2964\u001b[39m \u001b[38;5;28;01mreturn\u001b[39;00m [\u001b[38;5;28mself\u001b[39m.tk.getdouble(x) \u001b[38;5;28;01mfor\u001b[39;00m x \u001b[38;5;129;01min\u001b[39;00m\n\u001b[32m   2965\u001b[39m                    \u001b[38;5;28mself\u001b[39m.tk.splitlist(\n\u001b[32m-> \u001b[39m\u001b[32m2966\u001b[39m            \u001b[38;5;28;43mself\u001b[39;49m\u001b[43m.\u001b[49m\u001b[43mtk\u001b[49m\u001b[43m.\u001b[49m\u001b[43mcall\u001b[49m\u001b[43m(\u001b[49m\u001b[43m(\u001b[49m\u001b[38;5;28;43mself\u001b[39;49m\u001b[43m.\u001b[49m\u001b[43m_w\u001b[49m\u001b[43m,\u001b[49m\u001b[43m \u001b[49m\u001b[33;43m'\u001b[39;49m\u001b[33;43mcoords\u001b[39;49m\u001b[33;43m'\u001b[39;49m\u001b[43m)\u001b[49m\u001b[43m \u001b[49m\u001b[43m+\u001b[49m\u001b[43m \u001b[49m\u001b[43margs\u001b[49m\u001b[43m)\u001b[49m)]\n",
      "\u001b[31mTclError\u001b[39m: invalid command name \".!canvas\""
     ]
    }
   ],
   "source": [
    "import time\n",
    "from turtle import Turtle, Screen\n",
    "\n",
    "screen = Screen()\n",
    "screen.setup(width=600, height=600)\n",
    "screen.bgcolor(\"black\")\n",
    "screen.title(\"My Snake Game\")\n",
    "screen.tracer(0)\n",
    "\n",
    "snake = Snake()\n",
    "food = Food()\n",
    "scoreboard = Scoreboard()\n",
    "\n",
    "print(len(snake.segments))\n",
    "\n",
    "screen.listen()\n",
    "screen.onkey(snake.up, \"Up\")\n",
    "screen.onkey(snake.down,\"Down\")\n",
    "screen.onkey(snake.left, \"Left\")\n",
    "screen.onkey(snake.right, \"Right\")\n",
    "\n",
    "game_is_on = True\n",
    "while game_is_on:\n",
    "    screen.update()\n",
    "    time.sleep(0.1)\n",
    "    snake.move()\n",
    "\n",
    "    # detect collision with food \n",
    "    if snake.head.distance(food) < 15:\n",
    "        food.refresh()\n",
    "        snake.extend()\n",
    "        scoreboard.increase_score()\n",
    "\n",
    "    # detect collision with wall\n",
    "    if snake.head.xcor() > 280 or snake.head.xcor() < -280 or snake.head.ycor() > 280 or snake.head.ycor() < -280:\n",
    "        scoreboard.reset()\n",
    "        snake.reset()\n",
    "\n",
    "    # detection with body\n",
    "    for segment in snake.segments[1:]: # as you can see, we are using slicing here\n",
    "        if snake.head.distance(segment) < 10:\n",
    "            scoreboard.reset()\n",
    "            snake.reset()\n",
    "\n",
    "screen.exitonclick()"
   ]
  },
  {
   "cell_type": "code",
   "execution_count": 54,
   "id": "e8ffe69b",
   "metadata": {},
   "outputs": [],
   "source": [
    "with open(\"Garbage_data/Mail_Merge_Challenge/Input/names/invited_names.txt\") as file:\n",
    "    names_list = file.readlines()\n",
    "    for name in names_list:\n",
    "        new_name = name.replace(\"\\n\", \"\")\n",
    "        with open(\"Garbage_data/Mail_Merge_Challenge/Input/starting_letter.txt\") as file2:\n",
    "            mail_contents = file2.read()\n",
    "            mail_specific = mail_contents.replace(\"[name]\", new_name)\n",
    "            with open(f\"Garbage_data/Mail_Merge_Challenge/Output/{new_name}.txt\", mode=\"w\") as mail_file:\n",
    "                mail_file.write(mail_specific)\n",
    "            "
   ]
  },
  {
   "cell_type": "code",
   "execution_count": null,
   "id": "d4717b38",
   "metadata": {},
   "outputs": [],
   "source": []
  }
 ],
 "metadata": {
  "kernelspec": {
   "display_name": "Python 3",
   "language": "python",
   "name": "python3"
  },
  "language_info": {
   "codemirror_mode": {
    "name": "ipython",
    "version": 3
   },
   "file_extension": ".py",
   "mimetype": "text/x-python",
   "name": "python",
   "nbconvert_exporter": "python",
   "pygments_lexer": "ipython3",
   "version": "3.13.2"
  }
 },
 "nbformat": 4,
 "nbformat_minor": 5
}
