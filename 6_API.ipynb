{
 "cells": [
  {
   "cell_type": "markdown",
   "id": "0b92ee61",
   "metadata": {},
   "source": [
    "What are APIs? Here is a [youtube video](https://www.youtube.com/watch?v=bxuYDT-BWaI) that describes what APIs are in detail. Here is also a [wikipedia page](https://en.wikipedia.org/wiki/API) that describes what they are in detail."
   ]
  },
  {
   "cell_type": "code",
   "execution_count": 5,
   "id": "3919adf1",
   "metadata": {},
   "outputs": [
    {
     "name": "stdout",
     "output_type": "stream",
     "text": [
      "<Response [200]>\n",
      "<class 'requests.models.Response'>\n",
      "200\n"
     ]
    }
   ],
   "source": [
    "import requests\n",
    "\n",
    "response = requests.get(url=\"http://api.open-notify.org/iss-now.json\") #function : accepts a url as endpoint, data returns\n",
    "print(response)\n",
    "print(type(response)) # It is an object of istance Response\n",
    "print(response.status_code)"
   ]
  },
  {
   "cell_type": "code",
   "execution_count": null,
   "id": "fec42492",
   "metadata": {},
   "outputs": [],
   "source": [
    "if response.status_code == 404:\n",
    "    raise Exception(\"That resource does not exist.\")\n",
    "elif response.status_code == 401:\n",
    "    raise Exception(\"You are authorized to access this.\")\n"
   ]
  }
 ],
 "metadata": {
  "kernelspec": {
   "display_name": "Python 3",
   "language": "python",
   "name": "python3"
  },
  "language_info": {
   "codemirror_mode": {
    "name": "ipython",
    "version": 3
   },
   "file_extension": ".py",
   "mimetype": "text/x-python",
   "name": "python",
   "nbconvert_exporter": "python",
   "pygments_lexer": "ipython3",
   "version": "3.13.2"
  }
 },
 "nbformat": 4,
 "nbformat_minor": 5
}
