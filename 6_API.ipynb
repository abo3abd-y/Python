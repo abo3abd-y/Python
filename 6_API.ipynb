{
 "cells": [
  {
   "cell_type": "markdown",
   "id": "0b92ee61",
   "metadata": {},
   "source": [
    "What are APIs? Here is a [youtube video](https://www.youtube.com/watch?v=bxuYDT-BWaI) that describes what APIs are in detail. Here is also a [wikipedia page](https://en.wikipedia.org/wiki/API) that describes what they are in detail."
   ]
  },
  {
   "cell_type": "code",
   "execution_count": 5,
   "id": "3919adf1",
   "metadata": {},
   "outputs": [
    {
     "name": "stdout",
     "output_type": "stream",
     "text": [
      "<Response [200]>\n",
      "<class 'requests.models.Response'>\n",
      "200\n"
     ]
    }
   ],
   "source": [
    "import requests\n",
    "\n",
    "response = requests.get(url=\"http://api.open-notify.org/iss-now.json\") #function : accepts a url as endpoint, data returns\n",
    "print(response)\n",
    "print(type(response)) # It is an object of istance Response\n",
    "print(response.status_code)"
   ]
  },
  {
   "cell_type": "code",
   "execution_count": null,
   "id": "fec42492",
   "metadata": {},
   "outputs": [],
   "source": [
    "if response.status_code == 404:\n",
    "    raise Exception(\"That resource does not exist.\")\n",
    "elif response.status_code == 401:\n",
    "    raise Exception(\"You are authorized to access this.\")\n"
   ]
  },
  {
   "cell_type": "code",
   "execution_count": null,
   "id": "4bee7b8e",
   "metadata": {},
   "outputs": [],
   "source": [
    "response.raise_for_status() # or, a much better solutuion, is to use this to raise exceptions in a much better wya"
   ]
  },
  {
   "cell_type": "code",
   "execution_count": 12,
   "id": "3413479d",
   "metadata": {},
   "outputs": [
    {
     "name": "stdout",
     "output_type": "stream",
     "text": [
      "{'timestamp': 1749943354, 'message': 'success', 'iss_position': {'latitude': '3.2216', 'longitude': '-118.6595'}}\n",
      "<class 'dict'>\n"
     ]
    }
   ],
   "source": [
    "data = response.json()\n",
    "print(data)\n",
    "print(type(data))"
   ]
  },
  {
   "cell_type": "code",
   "execution_count": 13,
   "id": "cfd89c6e",
   "metadata": {},
   "outputs": [],
   "source": [
    "longitude = data[\"iss_position\"][\"longitude\"]\n",
    "latitude = data[\"iss_position\"][\"latitude\"]\n",
    "iss_position = (longitude, latitude)"
   ]
  },
  {
   "cell_type": "code",
   "execution_count": 14,
   "id": "c81ea872",
   "metadata": {},
   "outputs": [
    {
     "data": {
      "text/plain": [
       "('-118.6595', '3.2216')"
      ]
     },
     "execution_count": 14,
     "metadata": {},
     "output_type": "execute_result"
    }
   ],
   "source": [
    "iss_position"
   ]
  },
  {
   "cell_type": "markdown",
   "id": "279f3653",
   "metadata": {},
   "source": [
    "Let's get some random Kanye quotes."
   ]
  },
  {
   "cell_type": "code",
   "execution_count": 17,
   "id": "9c1a3b40",
   "metadata": {},
   "outputs": [
    {
     "data": {
      "text/plain": [
       "'I leave my emojis bart Simpson color'"
      ]
     },
     "execution_count": 17,
     "metadata": {},
     "output_type": "execute_result"
    }
   ],
   "source": [
    "response = requests.get(\"https://api.kanye.rest\")\n",
    "data = response.json()\n",
    "data['quote']"
   ]
  },
  {
   "cell_type": "code",
   "execution_count": 18,
   "id": "56c82679",
   "metadata": {},
   "outputs": [],
   "source": [
    "import requests\n",
    "def get_quote():\n",
    "    quote = requests.get(\"https://api.kanye.rest\").json()['quote']\n",
    "    print(quote)\n"
   ]
  },
  {
   "cell_type": "code",
   "execution_count": 23,
   "id": "1ce5ec9f",
   "metadata": {},
   "outputs": [
    {
     "name": "stdout",
     "output_type": "stream",
     "text": [
      "We will heal. We will cure.\n"
     ]
    }
   ],
   "source": [
    "get_quote()"
   ]
  },
  {
   "cell_type": "markdown",
   "id": "87263125",
   "metadata": {},
   "source": [
    "A lot of APIs also have a lot of parameters that you could give that should give you different outputs for different parameters.\n",
    "\n",
    "Remember, not all APIs have parameters; only some of them do."
   ]
  },
  {
   "cell_type": "code",
   "execution_count": null,
   "id": "f6f6d7f5",
   "metadata": {},
   "outputs": [],
   "source": [
    "import requests\n",
    "from datetime import datetime\n",
    "\n",
    "parameters = {\n",
    "    \"lat\" : \"39.729431\",\n",
    "    \"lng\" : \"-104.831917\",\n",
    "    \"formatted\" : 0\n",
    "}\n",
    "\n",
    "response = requests.get(\"https://api.sunrise-sunset.org/json\", params=parameters) # we are providing our arguments in keyword params using dict\n",
    "response.raise_for_status()\n",
    "\n",
    "data = response.json()\n",
    "\n",
    "sunrise = data[\"results\"][\"sunrise\"]\n",
    "sunset = data[\"results\"][\"sunset\"]\n",
    "\n",
    "print(sunrise)\n",
    "print(sunset)\n",
    "\n",
    "sunrise_hour = sunrise.split(\"T\")[1].split(\":\")[0]\n",
    "sunset_hour = sunset.split(\"T\")[1].split(\":\")[0]\n",
    "\n",
    "time_now = datetime.now()\n"
   ]
  },
  {
   "cell_type": "code",
   "execution_count": null,
   "id": "463f7e14",
   "metadata": {},
   "outputs": [],
   "source": []
  }
 ],
 "metadata": {
  "kernelspec": {
   "display_name": "Python 3",
   "language": "python",
   "name": "python3"
  },
  "language_info": {
   "codemirror_mode": {
    "name": "ipython",
    "version": 3
   },
   "file_extension": ".py",
   "mimetype": "text/x-python",
   "name": "python",
   "nbconvert_exporter": "python",
   "pygments_lexer": "ipython3",
   "version": "3.13.2"
  }
 },
 "nbformat": 4,
 "nbformat_minor": 5
}
