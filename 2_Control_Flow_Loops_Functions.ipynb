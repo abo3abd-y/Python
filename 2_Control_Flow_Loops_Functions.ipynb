{
 "cells": [
  {
   "cell_type": "markdown",
   "id": "034996f7",
   "metadata": {},
   "source": [
    "## 2. If statements and modulo operator\n",
    "\n",
    "We are going to talk about the modulo operator which is a lot in programming. This operator `%` is supposed to give you the remainder after a division. So, the result is always an integer."
   ]
  },
  {
   "cell_type": "code",
   "execution_count": 3,
   "id": "c6960e76",
   "metadata": {},
   "outputs": [
    {
     "data": {
      "text/plain": [
       "1"
      ]
     },
     "execution_count": 3,
     "metadata": {},
     "output_type": "execute_result"
    }
   ],
   "source": [
    "10 % 3"
   ]
  },
  {
   "cell_type": "markdown",
   "id": "7dcb1b46",
   "metadata": {},
   "source": [
    "So, the above number is 1 because the remainder of 10 divided by 3 is 1."
   ]
  },
  {
   "cell_type": "code",
   "execution_count": 4,
   "id": "0368fc3e",
   "metadata": {},
   "outputs": [
    {
     "data": {
      "text/plain": [
       "True"
      ]
     },
     "execution_count": 4,
     "metadata": {},
     "output_type": "execute_result"
    }
   ],
   "source": [
    "10 % 2 == 0"
   ]
  },
  {
   "cell_type": "markdown",
   "id": "296fe650",
   "metadata": {},
   "source": [
    "As you can see, this is very useful because it could tell whether or not the number if even or not. If the remainder after dividing by 2 is 0, then the number is even, otherwise it is an odd number.\n",
    "\n",
    "\n",
    "### - Nested If statements\n",
    "\n",
    "We can use nested if statements if we had multiple complicated conditions that we need to check."
   ]
  },
  {
   "cell_type": "code",
   "execution_count": 6,
   "id": "2cd8d02e",
   "metadata": {},
   "outputs": [
    {
     "name": "stdout",
     "output_type": "stream",
     "text": [
      "You can ride the rollercoster!\n",
      "Adult tickets cost $12\n",
      "Bill charge of $3 is added to your total bill.\n",
      "Your total charge today is $15\n"
     ]
    }
   ],
   "source": [
    "height = 0\n",
    "height = int(input(\"How tall are you in centimeters?\"))\n",
    "\n",
    "if height >= 120:\n",
    "    print(\"You can ride the rollercoster!\")\n",
    "    age = int(input(\"How old are you?\"))\n",
    "    bill = 0\n",
    "    if age <= 12:\n",
    "        print(\"Child tickets cost $5\")\n",
    "        bill = 5\n",
    "    elif age <= 18:\n",
    "        print(\"Youth tickets cost $7\")\n",
    "        bill = 7\n",
    "    else:\n",
    "        print(\"Adult tickets cost $12\")\n",
    "        bill = 12\n",
    "\n",
    "    wants_photo = input(\"Do you want a photo taken: type Y for yes and N for no.\")\n",
    "    if wants_photo == 'Y':\n",
    "        bill += 3\n",
    "        print(\"Bill charge of $3 is added to your total bill.\")\n",
    "    else:\n",
    "        print(\"No photo charge is added to your total bill.\")\n",
    "\n",
    "    \n",
    "    print(f\"Your total charge today is ${bill}\")\n",
    "\n",
    "else:\n",
    "    print(\"Sorry, you are not tall enough to play this game.\")\n"
   ]
  },
  {
   "cell_type": "markdown",
   "id": "72513027",
   "metadata": {},
   "source": [
    "Now, let's practice those nested if statements on a pizza challenge like the following."
   ]
  },
  {
   "cell_type": "code",
   "execution_count": 7,
   "id": "9590ab57",
   "metadata": {},
   "outputs": [
    {
     "name": "stdout",
     "output_type": "stream",
     "text": [
      "Welcome to Python Pizza Deliveries.\n",
      "Large pizzas cost $25 with no additional toppings on them.\n",
      "Pepporonis on medium or large pizzas cost an additional $3\n",
      "Extra cheese on any pizza size is $1\n",
      "Your total for today is $29\n"
     ]
    }
   ],
   "source": [
    "print(\"Welcome to Python Pizza Deliveries.\")\n",
    "size = input(\"What size pizza do you want? S, M, and L\")\n",
    "pepperoni = input(\"Do you want pepporoni on your pizza? Y or N:\")\n",
    "extra_cheese = input(\"Do you want extra cheese on your pizza? Y or N:\")\n",
    "\n",
    "total = 0\n",
    "\n",
    "if size == \"S\":\n",
    "    print(\"Small pizas cost $15 with no additional toppings on them.\")\n",
    "    total += 15\n",
    "elif size == \"M\":\n",
    "    print(\"Medium pizazs cost $20 dollars with no additional toppings on them.\")\n",
    "    total += 20\n",
    "elif size == \"L\":\n",
    "    print(\"Large pizzas cost $25 with no additional toppings on them.\")\n",
    "    total += 25\n",
    "else:\n",
    "    print(\"Please input a valid pizza size next time.\")\n",
    "\n",
    "if pepperoni == \"Y\" and size == \"S\":\n",
    "    print(\"Pepporonis on small pizzas cost an additional $2\")\n",
    "    total += 2\n",
    "elif pepperoni == \"Y\" and (size == \"M\" or size == \"L\"):\n",
    "    print(\"Pepporonis on medium or large pizzas cost an additional $3\")\n",
    "    total += 3\n",
    "else:\n",
    "    print(\"Invalid letter for the input or you ordered an invalid pizza size.\")\n",
    "\n",
    "if extra_cheese == \"Y\":\n",
    "    print(\"Extra cheese on any pizza size is $1\")\n",
    "    total += 1\n",
    "\n",
    "if total == 0:\n",
    "    print(\"Invalid pizza size\")\n",
    "else:\n",
    "    print(f\"Your total for today is ${total}\")"
   ]
  },
  {
   "cell_type": "markdown",
   "id": "72b19e09",
   "metadata": {},
   "source": [
    "### Logical operators\n",
    "\n",
    "Logical operators basically mix together different conditions on the same line of code so you do not have to write them in different lines of code."
   ]
  },
  {
   "cell_type": "code",
   "execution_count": null,
   "id": "b01abbe3",
   "metadata": {},
   "outputs": [
    {
     "name": "stdout",
     "output_type": "stream",
     "text": [
      "Number is bigger than 5 but smaller than 15\n",
      "Either the number is bigger than 5 or it is bigger than 1000, or both.\n",
      "Number is bigger than 5 but smaller than 15\n"
     ]
    }
   ],
   "source": [
    "number = 10\n",
    "\n",
    "if number > 5 and number < 15:\n",
    "    print(\"Number is bigger than 5 but smaller than 15\")\n",
    "\n",
    "if number > 5 or number > 1000:\n",
    "    print(\"Either the number is bigger than 5 or it is bigger than 1000, or both.\")\n",
    "\n",
    "\n",
    "\n",
    "# you can actually do it this way\n",
    "\n",
    "if 5 < number < 15: # you can shorten this way\n",
    "    print(\"Number is bigger than 5 but smaller than 15\")\n",
    "\n",
    "\n"
   ]
  },
  {
   "cell_type": "markdown",
   "id": "a6c3bb35",
   "metadata": {},
   "source": [
    "## Randomization and Lists\n",
    "In the following cells, we will be learning more about randomization and lists."
   ]
  },
  {
   "cell_type": "code",
   "execution_count": 26,
   "id": "3ae8b2eb",
   "metadata": {},
   "outputs": [
    {
     "name": "stdout",
     "output_type": "stream",
     "text": [
      "the random number generated is 8\n",
      "0.09274198047646043\n",
      "3.0096698251501\n",
      "3.1126631752493292\n"
     ]
    }
   ],
   "source": [
    "import random # random, in this case, is a python file called random, and randint is just a function\n",
    "\n",
    "rand_number = random.randint(1, 10) # this is a function from random that basically gives you random number from 1 to 10, inclusive of both ends.\n",
    "\n",
    "print(f\"the random number generated is {rand_number}\")\n",
    "\n",
    "another_random = random.random() # this generates a number from 0 to 0.999... where it is inclusive for both sides. It never reaches the number 1\n",
    "print(another_random)\n",
    "\n",
    "\n",
    "shifted_random = random.random() * 10\n",
    "print(shifted_random)\n",
    "\n",
    "floating_random = random.uniform(1, 10) # inclusive of both ends, but it is floating point number\n",
    "print(floating_random)"
   ]
  },
  {
   "cell_type": "markdown",
   "id": "fe400e2d",
   "metadata": {},
   "source": [
    "Now, let's practice! We will generate a heads/tails game."
   ]
  },
  {
   "cell_type": "code",
   "execution_count": null,
   "id": "b80a56e5",
   "metadata": {},
   "outputs": [
    {
     "name": "stdout",
     "output_type": "stream",
     "text": [
      "0\n",
      "You got heads!\n"
     ]
    }
   ],
   "source": [
    "heads_or_tails = round(random.random() * 10)\n",
    "\n",
    "\n",
    "if 0 <= heads_or_tails <= 5 :\n",
    "    print(\"You got heads!\")\n",
    "else:\n",
    "    print(\"You got tails!\")"
   ]
  },
  {
   "cell_type": "markdown",
   "id": "b0f87243",
   "metadata": {},
   "source": [
    "### Lists\n",
    "Lists are easy to understand; it is a collection of items grouped together instead of seperately like you would see in a variable.\n",
    "\n",
    "Lists are ordered and the order in the list matters a lot and this is what distinguishes lists from other types of arrays,"
   ]
  },
  {
   "cell_type": "code",
   "execution_count": 46,
   "id": "65d2272f",
   "metadata": {},
   "outputs": [
    {
     "name": "stdout",
     "output_type": "stream",
     "text": [
      "Alabama\n",
      "Arizona\n",
      "Colorado\n",
      "California\n",
      "New Mexico\n",
      "Washington State\n",
      "['New Mexico', 'Arizona', 'California', 'Colorado', 'Washington State', 'Florida', 'Texas']\n"
     ]
    }
   ],
   "source": [
    "states_of_america = [\"Alabama\", \"Arizona\", \"California\", \"Colorado\"]\n",
    "print(states_of_america[0])\n",
    "print(states_of_america[1])\n",
    "print(states_of_america[-1]) # negative indices start from the end of the list\n",
    "print(states_of_america[-2])\n",
    "\n",
    "\n",
    "states_of_america[0] = \"New Mexico\" # that is how you reassign stuff in an index\n",
    "print(states_of_america[0])\n",
    "\n",
    "\n",
    "\n",
    "states_of_america.append(\"Washington State\") # this is how you can add a single item to the end of the list\n",
    "print(states_of_america[-1])\n",
    "\n",
    "\n",
    "states_of_america.extend([\"Florida\", \"Texas\"]) # you can append a bunch of items using this function\n",
    "print(states_of_america)"
   ]
  },
  {
   "cell_type": "markdown",
   "id": "3e52dc2d",
   "metadata": {},
   "source": [
    "Code challenge about lists: who is going to pay the resturant bill."
   ]
  },
  {
   "cell_type": "code",
   "execution_count": 59,
   "id": "270f7c6b",
   "metadata": {},
   "outputs": [
    {
     "name": "stdout",
     "output_type": "stream",
     "text": [
      "The person who is going to be paying for the bill is: Charlie\n"
     ]
    }
   ],
   "source": [
    "friends = [\"Alice\", \"Bob\", \"Charlie\", \"David\", \"Emanuel\"]\n",
    "index_pay = round(random.random() * len(friends))\n",
    "print(f\"The person who is going to be paying for the bill is: {friends[index_pay]}\")"
   ]
  },
  {
   "cell_type": "code",
   "execution_count": 60,
   "id": "be3c6759",
   "metadata": {},
   "outputs": [
    {
     "name": "stdout",
     "output_type": "stream",
     "text": [
      "Charlie\n"
     ]
    }
   ],
   "source": [
    "#another way\n",
    "print(random.choice(friends))"
   ]
  },
  {
   "cell_type": "markdown",
   "id": "259915ae",
   "metadata": {},
   "source": [
    "### Beginning with Python loops\n",
    "Here, we will be learning python loops."
   ]
  },
  {
   "cell_type": "code",
   "execution_count": null,
   "id": "3dc563f0",
   "metadata": {},
   "outputs": [
    {
     "name": "stdout",
     "output_type": "stream",
     "text": [
      "Apple\n",
      "Peach\n",
      "Pear\n"
     ]
    }
   ],
   "source": [
    "fruits = [\"Apple\", \"Peach\", \"Pear\"]\n",
    "for fruit in fruits: # one way to create a for loop in python \n",
    "    print(fruit)\n",
    "\n",
    "\n"
   ]
  },
  {
   "cell_type": "markdown",
   "id": "47b0ca00",
   "metadata": {},
   "source": [
    "Little excercise with loops that I just introduced."
   ]
  },
  {
   "cell_type": "code",
   "execution_count": 62,
   "id": "26eff528",
   "metadata": {},
   "outputs": [
    {
     "name": "stdout",
     "output_type": "stream",
     "text": [
      "201\n"
     ]
    }
   ],
   "source": [
    "student_scores = [150, 149, 130, 111, 120, 102, 150, 201]\n",
    "highest_score = 0\n",
    "for score in student_scores:\n",
    "    if score > highest_score:\n",
    "        highest_score = score\n",
    "\n",
    "print(highest_score)"
   ]
  },
  {
   "cell_type": "code",
   "execution_count": null,
   "id": "153216b3",
   "metadata": {},
   "outputs": [
    {
     "name": "stdout",
     "output_type": "stream",
     "text": [
      "201\n"
     ]
    }
   ],
   "source": [
    "# or you can just do this\n",
    "print(max(student_scores)) # but the purpose of doing the previous example is to practice for loops that we just learned"
   ]
  },
  {
   "cell_type": "code",
   "execution_count": null,
   "id": "76a4f526",
   "metadata": {},
   "outputs": [
    {
     "name": "stdout",
     "output_type": "stream",
     "text": [
      "150\n",
      "149\n",
      "130\n",
      "111\n",
      "120\n",
      "102\n",
      "150\n",
      "201\n"
     ]
    }
   ],
   "source": [
    "for i in range(0, len(student_scores)): # another way of creating for loops; 0 is included but the end number is not included\n",
    "    print(student_scores[i])"
   ]
  },
  {
   "cell_type": "code",
   "execution_count": null,
   "id": "4bc64913",
   "metadata": {},
   "outputs": [
    {
     "name": "stdout",
     "output_type": "stream",
     "text": [
      "150\n",
      "130\n",
      "120\n",
      "150\n"
     ]
    }
   ],
   "source": [
    "for i in range(0, len(student_scores), 2): # instead of just incrementing by 1 in each iteration, it increments by 2 in each iteration\n",
    "    print(student_scores[i])"
   ]
  },
  {
   "cell_type": "markdown",
   "id": "715bc488",
   "metadata": {},
   "source": [
    "## Functions\n",
    "Now comes an important concept in programming, called functions."
   ]
  },
  {
   "cell_type": "code",
   "execution_count": null,
   "id": "aaab043c",
   "metadata": {},
   "outputs": [
    {
     "name": "stdout",
     "output_type": "stream",
     "text": [
      "Hello\n",
      "Bye\n"
     ]
    }
   ],
   "source": [
    "def my_function(): # this is defining the function\n",
    "    print(\"Hello\")\n",
    "    print(\"Bye\")\n",
    "\n",
    "my_function() # this is calling the function\n"
   ]
  },
  {
   "cell_type": "markdown",
   "id": "f98a3df7",
   "metadata": {},
   "source": [
    "Indentation is important in Python. We are going to demonstrate its importance here and how it affects the piece of code that you are writing.\n",
    "\n",
    "\n",
    "Now, let's talk about another type of loop, while loops. While loops run the same way as for loops, except that they stop executing when the condition that they rely on becomes false."
   ]
  },
  {
   "cell_type": "code",
   "execution_count": 1,
   "id": "2b39241b",
   "metadata": {},
   "outputs": [
    {
     "name": "stdout",
     "output_type": "stream",
     "text": [
      "We are at the following order: 10\n",
      "We are at the following order: 9\n",
      "We are at the following order: 8\n",
      "We are at the following order: 7\n",
      "We are at the following order: 6\n",
      "We are at the following order: 5\n",
      "We are at the following order: 4\n",
      "We are at the following order: 3\n",
      "We are at the following order: 2\n",
      "We are at the following order: 1\n",
      "We are at the following order: 0\n"
     ]
    }
   ],
   "source": [
    "counting_down = 10\n",
    "\n",
    "while counting_down >= 0:\n",
    "    print(f\"We are at the following order: {counting_down}\")\n",
    "    counting_down -= 1"
   ]
  },
  {
   "cell_type": "markdown",
   "id": "48118ae3",
   "metadata": {},
   "source": [
    "Next, we are going to practice the things that we have been learning so far by building the coding equivalent of hangman which I will develop in a seperate python file called `2_hangman.py` which you can check out in the current working directory."
   ]
  },
  {
   "cell_type": "markdown",
   "id": "d263b610",
   "metadata": {},
   "source": [
    "Now, let's practise more about functions and functions with paramters which have not covered just yet."
   ]
  },
  {
   "cell_type": "code",
   "execution_count": 2,
   "id": "c47a5e39",
   "metadata": {},
   "outputs": [
    {
     "name": "stdout",
     "output_type": "stream",
     "text": [
      "Hello there\n",
      "How are you doing today!\n",
      "This is has been going very well for us!\n"
     ]
    }
   ],
   "source": [
    "# as a refresher\n",
    "def greet():\n",
    "    print(\"Hello there\")\n",
    "    print(\"How are you doing today!\")\n",
    "    print(\"This is has been going very well for us!\")\n",
    "\n",
    "greet()"
   ]
  },
  {
   "cell_type": "code",
   "execution_count": 4,
   "id": "bc0202e1",
   "metadata": {},
   "outputs": [
    {
     "name": "stdout",
     "output_type": "stream",
     "text": [
      "Hello, abdullah!\n",
      "How do you do, abdullah?\n"
     ]
    }
   ],
   "source": [
    "# now, lets add parameters to our functions\n",
    "def greet_with_name (name):\n",
    "    print(f\"Hello, {name}!\")\n",
    "    print(f\"How do you do, {name}?\")\n",
    "\n",
    "greet_with_name(\"abdullah\")"
   ]
  },
  {
   "cell_type": "markdown",
   "id": "a5a6a4d2",
   "metadata": {},
   "source": [
    "What's the difference between positional and keyword arguments?"
   ]
  },
  {
   "cell_type": "code",
   "execution_count": 8,
   "id": "24d6726c",
   "metadata": {},
   "outputs": [
    {
     "name": "stdout",
     "output_type": "stream",
     "text": [
      "Hello, Abdullah!\n",
      "What is it like in New York?\n",
      "Hello, New York!\n",
      "What is it like in Abdullah?\n"
     ]
    }
   ],
   "source": [
    "def greet_with(name, location):\n",
    "    print(f\"Hello, {name}!\")\n",
    "    print(f\"What is it like in {location}?\")\n",
    "\n",
    "greet_with(\"Abdullah\", \"New York\")\n",
    "greet_with(\"New York\", \"Abdullah\") # as you can see, the position of those arguments matter a lot and so be careful"
   ]
  },
  {
   "cell_type": "markdown",
   "id": "11baae43",
   "metadata": {},
   "source": [
    "The following called the *keyword arguments* because we are using the assignment operator to manually assign those values."
   ]
  },
  {
   "cell_type": "code",
   "execution_count": 10,
   "id": "a1286e33",
   "metadata": {},
   "outputs": [
    {
     "name": "stdout",
     "output_type": "stream",
     "text": [
      "Hello, Abdullah!\n",
      "What is it like in New York?\n"
     ]
    }
   ],
   "source": [
    "greet_with(location= \"New York\", name=\"Abdullah\") # as you can see, you can actually use the parameters' names so that you can manually assign their values using assignment operator"
   ]
  },
  {
   "cell_type": "markdown",
   "id": "ac4d4302",
   "metadata": {},
   "source": [
    "Now, let's implement the Caesar Cipher using those function lessons that we have been learning."
   ]
  },
  {
   "cell_type": "code",
   "execution_count": null,
   "id": "60a277bf",
   "metadata": {},
   "outputs": [
    {
     "ename": "TypeError",
     "evalue": "can only concatenate str (not \"int\") to str",
     "output_type": "error",
     "traceback": [
      "\u001b[31m---------------------------------------------------------------------------\u001b[39m",
      "\u001b[31mTypeError\u001b[39m                                 Traceback (most recent call last)",
      "\u001b[36mCell\u001b[39m\u001b[36m \u001b[39m\u001b[32mIn[14]\u001b[39m\u001b[32m, line 2\u001b[39m\n\u001b[32m      1\u001b[39m message = \u001b[33m\"\u001b[39m\u001b[33mhello\u001b[39m\u001b[33m\"\u001b[39m\n\u001b[32m----> \u001b[39m\u001b[32m2\u001b[39m \u001b[43mmessage\u001b[49m\u001b[43m[\u001b[49m\u001b[32;43m0\u001b[39;49m\u001b[43m]\u001b[49m\u001b[43m \u001b[49m\u001b[43m+\u001b[49m\u001b[43m \u001b[49m\u001b[32;43m1\u001b[39;49m\n",
      "\u001b[31mTypeError\u001b[39m: can only concatenate str (not \"int\") to str"
     ]
    }
   ],
   "source": []
  },
  {
   "cell_type": "code",
   "execution_count": null,
   "id": "8739bf1a",
   "metadata": {},
   "outputs": [
    {
     "name": "stdout",
     "output_type": "stream",
     "text": [
      "Here is the orignal, unshifted word: hello, world!\n",
      "The shifted word is: olssv, dvysk!\n"
     ]
    }
   ],
   "source": [
    "import string\n",
    "user_phrase = input(\"Enter the word or phrase you would like me to cipher using the Caesar Cipher: \")\n",
    "shift = int(input(\"Type the shift number: \"))\n",
    "\n",
    "alphabet = list(string.ascii_lowercase)\n",
    "\n",
    "\n",
    "def find_index(letter): # the reason why i created this function instead of using the built in .index function is because we still have not learned about error handling\n",
    "    index=  0\n",
    "    for ordered_letter in alphabet:\n",
    "        if ordered_letter == letter:\n",
    "            return index\n",
    "        index += 1\n",
    "    return -1\n",
    "\n",
    "def shift_phrase(user_phrase, shift):\n",
    "    shifted_word = \"\"\n",
    "    for letter in user_phrase:\n",
    "        index = find_index(letter)\n",
    "        if index == -1:\n",
    "            shifted_word += letter\n",
    "        else:\n",
    "            shifted_letter = alphabet[(index + shift) % len(alphabet)]\n",
    "            shifted_word += shifted_letter\n",
    "\n",
    "    return shifted_word\n",
    "\n",
    "shifted_word = shift_phrase(user_phrase, shift)\n",
    "print(f\"Here is the orignal, unshifted word: {user_phrase}\")\n",
    "print(f\"The shifted word is: {shifted_word}\")\n",
    "\n",
    "\n",
    "\n"
   ]
  },
  {
   "cell_type": "markdown",
   "id": "fab93ef6",
   "metadata": {},
   "source": [
    "### Dictionaries and Nesting.\n",
    "\n",
    "Dicationaries is a really big part of python that you must learn."
   ]
  },
  {
   "cell_type": "code",
   "execution_count": 2,
   "id": "2828a28c",
   "metadata": {},
   "outputs": [
    {
     "name": "stdout",
     "output_type": "stream",
     "text": [
      "Error code\n"
     ]
    }
   ],
   "source": [
    "programming_dictionary = {\n",
    "    \"Bug\" : \"Error code\",\n",
    "    \"Function\" : \"A piece of code or a group of coding lines that are ran together when called upon\"\n",
    "    }\n",
    "\n",
    "# print(programming_dictionary[0]) # this will give you an error\n",
    "\n",
    "print(programming_dictionary[\"Bug\"]) # as you can see, we provided the key to the dictionary in double quotes. This will give you the value given the key\n"
   ]
  },
  {
   "cell_type": "markdown",
   "id": "95f428a8",
   "metadata": {},
   "source": [
    "The key in the dictionary must be surrounded by double quotes. Otherwise, it's gotta be in integer."
   ]
  },
  {
   "cell_type": "code",
   "execution_count": 3,
   "id": "78fbd4e6",
   "metadata": {},
   "outputs": [
    {
     "data": {
      "text/plain": [
       "{'Bug': 'Error code',\n",
       " 'Function': 'A piece of code or a group of coding lines that are ran together when called upon',\n",
       " 123: 'This is an integer key with this value attached to it'}"
      ]
     },
     "execution_count": 3,
     "metadata": {},
     "output_type": "execute_result"
    }
   ],
   "source": [
    "programming_dictionary[123] = \"This is an integer key with this value attached to it\"\n",
    "programming_dictionary"
   ]
  },
  {
   "cell_type": "code",
   "execution_count": 4,
   "id": "4db3e081",
   "metadata": {},
   "outputs": [],
   "source": [
    "# you can also have empty dictionaries\n",
    "empty_dict = {}\n",
    "\n",
    "# we can also wipe out full dictionaries\n",
    "programming_dictionary = {}"
   ]
  },
  {
   "cell_type": "code",
   "execution_count": 5,
   "id": "23a3327e",
   "metadata": {},
   "outputs": [
    {
     "name": "stdout",
     "output_type": "stream",
     "text": [
      "{}\n"
     ]
    }
   ],
   "source": [
    "print(programming_dictionary)"
   ]
  },
  {
   "cell_type": "code",
   "execution_count": null,
   "id": "c0c8f6fc",
   "metadata": {},
   "outputs": [
    {
     "name": "stdout",
     "output_type": "stream",
     "text": [
      "{'Just something': 'Here is something'}\n",
      "{'Just something': 'Here is another something'}\n"
     ]
    }
   ],
   "source": [
    "empty_dict[\"Just something\"] = \"Here is something\"\n",
    "print(empty_dict)\n",
    "empty_dict[\"Just something\"] = \"Here is another something\" # as you can see, we can also edit dictionaries\n",
    "print(empty_dict)"
   ]
  },
  {
   "cell_type": "code",
   "execution_count": 7,
   "id": "2ab55b59",
   "metadata": {},
   "outputs": [
    {
     "name": "stdout",
     "output_type": "stream",
     "text": [
      "{'Bug': 'Error code', 'Function': 'A piece of code or a group of coding lines that are ran together when called upon'}\n"
     ]
    }
   ],
   "source": [
    "programming_dictionary = {\n",
    "    \"Bug\" : \"Error code\",\n",
    "    \"Function\" : \"A piece of code or a group of coding lines that are ran together when called upon\"\n",
    "    }\n",
    "print(programming_dictionary)"
   ]
  },
  {
   "cell_type": "code",
   "execution_count": 8,
   "id": "27314dd6",
   "metadata": {},
   "outputs": [
    {
     "name": "stdout",
     "output_type": "stream",
     "text": [
      "Bug\n",
      "Error code\n",
      "Function\n",
      "A piece of code or a group of coding lines that are ran together when called upon\n"
     ]
    }
   ],
   "source": [
    "# how do you loop through dictionaries?\n",
    "for key in programming_dictionary:\n",
    "    print(key)\n",
    "    print(programming_dictionary[key])"
   ]
  },
  {
   "cell_type": "markdown",
   "id": "597011d3",
   "metadata": {},
   "source": [
    "### Nesting Loops and Dictionaries\n",
    "We can also have lists inside dictionaries. Also, we can have dictionaries inside dictionaries."
   ]
  },
  {
   "cell_type": "code",
   "execution_count": null,
   "id": "c1a61bf4",
   "metadata": {},
   "outputs": [
    {
     "name": "stdout",
     "output_type": "stream",
     "text": [
      "Lille\n",
      "Lille\n"
     ]
    }
   ],
   "source": [
    "capitals = {\n",
    "    \"France\" : \"Paris\",\n",
    "    \"Germany\" : \"Berlin\"\n",
    "}\n",
    "\n",
    "# travel log\n",
    "travel_log = {\n",
    "    \"France\" : [\"Paris\", \"Lille\", \"Dijon\"],\n",
    "    \"Germany\" : [\"Stuttgart\", \"Berlin\"]\n",
    "}\n",
    "\n",
    "# print lille\n",
    "print(travel_log[\"France\"][1]) # this is how you do it\n",
    "\n",
    "\n",
    "# how about dictionaries inside dictionaries and lists inside of them? how to do that?\n",
    "\n",
    "another_travel_log = {\n",
    "    \"France\" : {\n",
    "        \"num_times_visited\" : 8,\n",
    "        \"cities_visited\" : [\"Paris\", \"Lille\", \"Dijon\"]\n",
    "    },\n",
    "    \"Germany\" : [\"Stuttgart\", \"Berlin\"]\n",
    "}\n",
    "\n",
    "print(another_travel_log[\"France\"][\"cities_visited\"][1]) # this is also how you can print lille"
   ]
  },
  {
   "cell_type": "markdown",
   "id": "cd5c4e90",
   "metadata": {},
   "source": [
    "### Functions with outputs\n",
    "\n",
    "Those are kind of functions that return values when called."
   ]
  },
  {
   "cell_type": "code",
   "execution_count": null,
   "id": "76f42d1c",
   "metadata": {},
   "outputs": [
    {
     "name": "stdout",
     "output_type": "stream",
     "text": [
      "Abdullah Yassine\n",
      "Michael Jackson\n"
     ]
    }
   ],
   "source": [
    "def format_change (f_name, l_name):\n",
    "    together = f\"{f_name} {l_name}\".title()\n",
    "    return together\n",
    "\n",
    "\n",
    "together = format_change(\"ABDULLAH\", \"YASSINE\")\n",
    "print(together)\n",
    "print(format_change(\"mICHAEL\", \"JACKSON\")) # as you can see, it returns the values and then it prints it out automatically"
   ]
  },
  {
   "cell_type": "markdown",
   "id": "ed8a336d",
   "metadata": {},
   "source": [
    "How about multiple return values? How does that work in functions?\n",
    "\n",
    "\n",
    "Docstrings are comments that you put inside functions to explain what those functions do."
   ]
  },
  {
   "cell_type": "code",
   "execution_count": 16,
   "id": "3879b5b1",
   "metadata": {},
   "outputs": [
    {
     "data": {
      "text/plain": [
       "'Abdullah Yassine'"
      ]
     },
     "execution_count": 16,
     "metadata": {},
     "output_type": "execute_result"
    }
   ],
   "source": [
    "def another_format_change (f_name, l_name):\n",
    "    \"\"\"\n",
    "    \n",
    "    Takes a first and last name and format it to return the title case version of the name\n",
    "\n",
    "    \"\"\"\n",
    "    if f_name == \"\" or l_name == \"\":\n",
    "        return # this is an empty return value and terminates the function early depending on these conditions\n",
    "    \n",
    "    formatted_f_name = f_name.title()\n",
    "    formatted_l_name = l_name.title()\n",
    "\n",
    "    return f\"{formatted_f_name} {formatted_l_name}\"\n",
    "\n",
    "another_format_change(\"ABDULLAH\", \"YASSINE\")\n",
    "\n",
    "\n"
   ]
  },
  {
   "cell_type": "code",
   "execution_count": null,
   "id": "eff294dc",
   "metadata": {},
   "outputs": [
    {
     "name": "stdout",
     "output_type": "stream",
     "text": [
      "True\n"
     ]
    }
   ],
   "source": [
    "# just for fun, let's create a function that checks whether the input is a prime number or not\n",
    "from math import floor\n",
    "def is_prime(num): # this is a pretty simple functiont that you could use to determine whether a number is prime or not. true if it is and false if its not\n",
    "\n",
    "    divisor = floor(num / 2)\n",
    "    while divisor > 1 :\n",
    "        if num % divisor == 0:\n",
    "            return False\n",
    "        divisor -= 1\n",
    "    return True\n",
    "\n",
    "\n",
    "print(is_prime(23))"
   ]
  },
  {
   "cell_type": "markdown",
   "id": "92f8c31a",
   "metadata": {},
   "source": [
    "How to modify global variables in python inside functions?"
   ]
  },
  {
   "cell_type": "code",
   "execution_count": null,
   "id": "1a3a79e6",
   "metadata": {},
   "outputs": [
    {
     "name": "stdout",
     "output_type": "stream",
     "text": [
      "The enemies are 2\n",
      "The enemies are 3\n"
     ]
    }
   ],
   "source": [
    "enemies = 1\n",
    "\n",
    "def increase_enemies () :\n",
    "    global enemies # YOU do not want this to happen and use this often but this is for educational purposes\n",
    "    enemies += 1\n",
    "    print(f\"The enemies are {enemies}\")\n",
    "\n",
    "# avoid modifying global variables because you do not know if they were created or not. You can read it and use it but do not change it\n",
    "# instead just use those return variables\n",
    "\n",
    "\n",
    "\n",
    "increase_enemies()\n",
    "increase_enemies()"
   ]
  },
  {
   "cell_type": "markdown",
   "id": "a91acd50",
   "metadata": {},
   "source": [
    "Now, let's create a guessing game."
   ]
  },
  {
   "cell_type": "code",
   "execution_count": 26,
   "id": "7150ea56",
   "metadata": {},
   "outputs": [
    {
     "name": "stdout",
     "output_type": "stream",
     "text": [
      "Welcome to the Number Guessing Game!\n",
      "I'm thinking of a number between 1 and 100.\n",
      "You have 10 attempts to guess the number.\n",
      "Too high\n",
      "Guess again.\n",
      "You have 9 attempts to guess the number.\n",
      "Too high\n",
      "Guess again.\n",
      "You have 8 attempts to guess the number.\n",
      "Too low\n",
      "Guess again.\n",
      "You have 7 attempts to guess the number.\n",
      "Too low\n",
      "Guess again.\n",
      "You have 6 attempts to guess the number.\n",
      "Too low\n",
      "Guess again.\n",
      "You have 5 attempts to guess the number.\n",
      "Too low\n",
      "Guess again.\n",
      "You have 4 attempts to guess the number.\n",
      "Too high\n",
      "Guess again.\n",
      "You have 3 attempts to guess the number.\n",
      "Too high\n",
      "Guess again.\n",
      "You have 2 attempts to guess the number.\n",
      "You got it! The answer was 24.\n"
     ]
    }
   ],
   "source": [
    "from random import randint\n",
    "\n",
    "print(\"Welcome to the Number Guessing Game!\")\n",
    "print(\"I'm thinking of a number between 1 and 100.\")\n",
    "mode = input(\"Choose a difficulty. Type 'easy' or 'hard': \")\n",
    "\n",
    "attempts = 0\n",
    "if mode == \"easy\":\n",
    "    attempts = 10\n",
    "elif mode == \"hard\":\n",
    "    attempts = 5\n",
    "else:\n",
    "    print(\"You input an invalid mode. Try again next time.\")\n",
    "\n",
    "computer_number = randint(1, 100)\n",
    "while attempts > 0:\n",
    "    print(f\"You have {attempts} attempts to guess the number.\")\n",
    "\n",
    "    guess = int(input(\"Make a guess: \"))\n",
    "    if guess == computer_number:\n",
    "        print(f\"You got it! The answer was {computer_number}.\")\n",
    "        break\n",
    "    elif guess < computer_number:\n",
    "        print(\"Too low\")\n",
    "    else:\n",
    "        print(\"Too high\")\n",
    "    \n",
    "    print(\"Guess again.\")\n",
    "    attempts -= 1\n"
   ]
  },
  {
   "cell_type": "markdown",
   "id": "54309f58",
   "metadata": {},
   "source": [
    "Let's talk about the `try` and `except` blocks in python which you can use to catch errors in your code before you they stop the program. It is a form of error handling in python and many other programming langauges."
   ]
  },
  {
   "cell_type": "code",
   "execution_count": 29,
   "id": "c4c52ff3",
   "metadata": {},
   "outputs": [
    {
     "name": "stdout",
     "output_type": "stream",
     "text": [
      "You have typed in an invalid number. Please try again and type a numerical value such as 15.\n"
     ]
    }
   ],
   "source": [
    "try:\n",
    "    age = int(input(\"How old are you?\")) # first, you provide the piece of code that could potentially produce an error\n",
    "except ValueError: # then, anticipate what kind of error that could be produced\n",
    "    # handle it here\n",
    "    print(\"You have typed in an invalid number. Please try again and type a numerical value such as 15.\")\n",
    "    # we can ask again here\n"
   ]
  },
  {
   "cell_type": "code",
   "execution_count": null,
   "id": "8cbfe7c3",
   "metadata": {},
   "outputs": [
    {
     "name": "stdout",
     "output_type": "stream",
     "text": [
      "Please input a numerical value because anything else won't be accepted.\n",
      "Please input a numerical value because anything else won't be accepted.\n",
      "Please input a numerical value because anything else won't be accepted.\n",
      "You are 12 years young!\n"
     ]
    }
   ],
   "source": [
    "while True: # this is a proper way of doing it\n",
    "    try:\n",
    "        age = int(input(\"How old are you?\"))\n",
    "        print(f\"You are {age} years young!\")\n",
    "        break\n",
    "    except ValueError:\n",
    "        print(\"Please input a numerical value because anything else won't be accepted.\")"
   ]
  },
  {
   "cell_type": "code",
   "execution_count": null,
   "id": "b010344d",
   "metadata": {},
   "outputs": [],
   "source": []
  }
 ],
 "metadata": {
  "kernelspec": {
   "display_name": "base",
   "language": "python",
   "name": "python3"
  },
  "language_info": {
   "codemirror_mode": {
    "name": "ipython",
    "version": 3
   },
   "file_extension": ".py",
   "mimetype": "text/x-python",
   "name": "python",
   "nbconvert_exporter": "python",
   "pygments_lexer": "ipython3",
   "version": "3.12.3"
  }
 },
 "nbformat": 4,
 "nbformat_minor": 5
}
