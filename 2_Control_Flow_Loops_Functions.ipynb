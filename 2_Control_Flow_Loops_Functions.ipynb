{
 "cells": [
  {
   "cell_type": "markdown",
   "id": "034996f7",
   "metadata": {},
   "source": [
    "## 2. If statements and modulo operator\n",
    "\n",
    "We are going to talk about the modulo operator which is a lot in programming. This operator `%` is supposed to give you the remainder after a division. So, the result is always an integer."
   ]
  },
  {
   "cell_type": "code",
   "execution_count": 3,
   "id": "c6960e76",
   "metadata": {},
   "outputs": [
    {
     "data": {
      "text/plain": [
       "1"
      ]
     },
     "execution_count": 3,
     "metadata": {},
     "output_type": "execute_result"
    }
   ],
   "source": [
    "10 % 3"
   ]
  },
  {
   "cell_type": "markdown",
   "id": "7dcb1b46",
   "metadata": {},
   "source": [
    "So, the above number is 1 because the remainder of 10 divided by 3 is 1."
   ]
  },
  {
   "cell_type": "code",
   "execution_count": 4,
   "id": "0368fc3e",
   "metadata": {},
   "outputs": [
    {
     "data": {
      "text/plain": [
       "True"
      ]
     },
     "execution_count": 4,
     "metadata": {},
     "output_type": "execute_result"
    }
   ],
   "source": [
    "10 % 2 == 0"
   ]
  },
  {
   "cell_type": "markdown",
   "id": "296fe650",
   "metadata": {},
   "source": [
    "As you can see, this is very useful because it could tell whether or not the number if even or not. If the remainder after dividing by 2 is 0, then the number is even, otherwise it is an odd number.\n",
    "\n",
    "\n",
    "### - Nested If statements\n",
    "\n",
    "We can use nested if statements if we had multiple complicated conditions that we need to check."
   ]
  },
  {
   "cell_type": "code",
   "execution_count": 6,
   "id": "2cd8d02e",
   "metadata": {},
   "outputs": [
    {
     "name": "stdout",
     "output_type": "stream",
     "text": [
      "You can ride the rollercoster!\n",
      "Adult tickets cost $12\n",
      "Bill charge of $3 is added to your total bill.\n",
      "Your total charge today is $15\n"
     ]
    }
   ],
   "source": [
    "height = 0\n",
    "height = int(input(\"How tall are you in centimeters?\"))\n",
    "\n",
    "if height >= 120:\n",
    "    print(\"You can ride the rollercoster!\")\n",
    "    age = int(input(\"How old are you?\"))\n",
    "    bill = 0\n",
    "    if age <= 12:\n",
    "        print(\"Child tickets cost $5\")\n",
    "        bill = 5\n",
    "    elif age <= 18:\n",
    "        print(\"Youth tickets cost $7\")\n",
    "        bill = 7\n",
    "    else:\n",
    "        print(\"Adult tickets cost $12\")\n",
    "        bill = 12\n",
    "\n",
    "    wants_photo = input(\"Do you want a photo taken: type Y for yes and N for no.\")\n",
    "    if wants_photo == 'Y':\n",
    "        bill += 3\n",
    "        print(\"Bill charge of $3 is added to your total bill.\")\n",
    "    else:\n",
    "        print(\"No photo charge is added to your total bill.\")\n",
    "\n",
    "    \n",
    "    print(f\"Your total charge today is ${bill}\")\n",
    "\n",
    "else:\n",
    "    print(\"Sorry, you are not tall enough to play this game.\")\n"
   ]
  },
  {
   "cell_type": "markdown",
   "id": "72513027",
   "metadata": {},
   "source": [
    "Now, let's practice those nested if statements on a pizza challenge like the following."
   ]
  },
  {
   "cell_type": "code",
   "execution_count": 7,
   "id": "9590ab57",
   "metadata": {},
   "outputs": [
    {
     "name": "stdout",
     "output_type": "stream",
     "text": [
      "Welcome to Python Pizza Deliveries.\n",
      "Large pizzas cost $25 with no additional toppings on them.\n",
      "Pepporonis on medium or large pizzas cost an additional $3\n",
      "Extra cheese on any pizza size is $1\n",
      "Your total for today is $29\n"
     ]
    }
   ],
   "source": [
    "print(\"Welcome to Python Pizza Deliveries.\")\n",
    "size = input(\"What size pizza do you want? S, M, and L\")\n",
    "pepperoni = input(\"Do you want pepporoni on your pizza? Y or N:\")\n",
    "extra_cheese = input(\"Do you want extra cheese on your pizza? Y or N:\")\n",
    "\n",
    "total = 0\n",
    "\n",
    "if size == \"S\":\n",
    "    print(\"Small pizas cost $15 with no additional toppings on them.\")\n",
    "    total += 15\n",
    "elif size == \"M\":\n",
    "    print(\"Medium pizazs cost $20 dollars with no additional toppings on them.\")\n",
    "    total += 20\n",
    "elif size == \"L\":\n",
    "    print(\"Large pizzas cost $25 with no additional toppings on them.\")\n",
    "    total += 25\n",
    "else:\n",
    "    print(\"Please input a valid pizza size next time.\")\n",
    "\n",
    "if pepperoni == \"Y\" and size == \"S\":\n",
    "    print(\"Pepporonis on small pizzas cost an additional $2\")\n",
    "    total += 2\n",
    "elif pepperoni == \"Y\" and (size == \"M\" or size == \"L\"):\n",
    "    print(\"Pepporonis on medium or large pizzas cost an additional $3\")\n",
    "    total += 3\n",
    "else:\n",
    "    print(\"Invalid letter for the input or you ordered an invalid pizza size.\")\n",
    "\n",
    "if extra_cheese == \"Y\":\n",
    "    print(\"Extra cheese on any pizza size is $1\")\n",
    "    total += 1\n",
    "\n",
    "if total == 0:\n",
    "    print(\"Invalid pizza size\")\n",
    "else:\n",
    "    print(f\"Your total for today is ${total}\")"
   ]
  },
  {
   "cell_type": "markdown",
   "id": "72b19e09",
   "metadata": {},
   "source": [
    "### Logical operators\n",
    "\n",
    "Logical operators basically mix together different conditions on the same line of code so you do not have to write them in different lines of code."
   ]
  },
  {
   "cell_type": "code",
   "execution_count": null,
   "id": "b01abbe3",
   "metadata": {},
   "outputs": [
    {
     "name": "stdout",
     "output_type": "stream",
     "text": [
      "Number is bigger than 5 but smaller than 15\n",
      "Either the number is bigger than 5 or it is bigger than 1000, or both.\n",
      "Number is bigger than 5 but smaller than 15\n"
     ]
    }
   ],
   "source": [
    "number = 10\n",
    "\n",
    "if number > 5 and number < 15:\n",
    "    print(\"Number is bigger than 5 but smaller than 15\")\n",
    "\n",
    "if number > 5 or number > 1000:\n",
    "    print(\"Either the number is bigger than 5 or it is bigger than 1000, or both.\")\n",
    "\n",
    "\n",
    "\n",
    "# you can actually do it this way\n",
    "\n",
    "if 5 < number < 15: # you can shorten this way\n",
    "    print(\"Number is bigger than 5 but smaller than 15\")\n",
    "\n",
    "\n"
   ]
  },
  {
   "cell_type": "markdown",
   "id": "a6c3bb35",
   "metadata": {},
   "source": [
    "## Randomization and Lists\n",
    "In the following cells, we will be learning more about randomization and lists."
   ]
  },
  {
   "cell_type": "code",
   "execution_count": 26,
   "id": "3ae8b2eb",
   "metadata": {},
   "outputs": [
    {
     "name": "stdout",
     "output_type": "stream",
     "text": [
      "the random number generated is 8\n",
      "0.09274198047646043\n",
      "3.0096698251501\n",
      "3.1126631752493292\n"
     ]
    }
   ],
   "source": [
    "import random # random, in this case, is a python file called random, and randint is just a function\n",
    "\n",
    "rand_number = random.randint(1, 10) # this is a function from random that basically gives you random number from 1 to 10, inclusive of both ends.\n",
    "\n",
    "print(f\"the random number generated is {rand_number}\")\n",
    "\n",
    "another_random = random.random() # this generates a number from 0 to 0.999... where it is inclusive for both sides. It never reaches the number 1\n",
    "print(another_random)\n",
    "\n",
    "\n",
    "shifted_random = random.random() * 10\n",
    "print(shifted_random)\n",
    "\n",
    "floating_random = random.uniform(1, 10) # inclusive of both ends, but it is floating point number\n",
    "print(floating_random)"
   ]
  },
  {
   "cell_type": "markdown",
   "id": "fe400e2d",
   "metadata": {},
   "source": [
    "Now, let's practice! We will generate a heads/tails game."
   ]
  },
  {
   "cell_type": "code",
   "execution_count": null,
   "id": "b80a56e5",
   "metadata": {},
   "outputs": [
    {
     "name": "stdout",
     "output_type": "stream",
     "text": [
      "0\n",
      "You got heads!\n"
     ]
    }
   ],
   "source": [
    "heads_or_tails = round(random.random() * 10)\n",
    "\n",
    "\n",
    "if 0 <= heads_or_tails <= 5 :\n",
    "    print(\"You got heads!\")\n",
    "else:\n",
    "    print(\"You got tails!\")"
   ]
  },
  {
   "cell_type": "markdown",
   "id": "b0f87243",
   "metadata": {},
   "source": [
    "### Lists\n",
    "Lists are easy to understand; it is a collection of items grouped together instead of seperately like you would see in a variable.\n",
    "\n",
    "Lists are ordered and the order in the list matters a lot and this is what distinguishes lists from other types of arrays,"
   ]
  },
  {
   "cell_type": "code",
   "execution_count": 46,
   "id": "65d2272f",
   "metadata": {},
   "outputs": [
    {
     "name": "stdout",
     "output_type": "stream",
     "text": [
      "Alabama\n",
      "Arizona\n",
      "Colorado\n",
      "California\n",
      "New Mexico\n",
      "Washington State\n",
      "['New Mexico', 'Arizona', 'California', 'Colorado', 'Washington State', 'Florida', 'Texas']\n"
     ]
    }
   ],
   "source": [
    "states_of_america = [\"Alabama\", \"Arizona\", \"California\", \"Colorado\"]\n",
    "print(states_of_america[0])\n",
    "print(states_of_america[1])\n",
    "print(states_of_america[-1]) # negative indices start from the end of the list\n",
    "print(states_of_america[-2])\n",
    "\n",
    "\n",
    "states_of_america[0] = \"New Mexico\" # that is how you reassign stuff in an index\n",
    "print(states_of_america[0])\n",
    "\n",
    "\n",
    "\n",
    "states_of_america.append(\"Washington State\") # this is how you can add a single item to the end of the list\n",
    "print(states_of_america[-1])\n",
    "\n",
    "\n",
    "states_of_america.extend([\"Florida\", \"Texas\"]) # you can append a bunch of items using this function\n",
    "print(states_of_america)"
   ]
  },
  {
   "cell_type": "markdown",
   "id": "3e52dc2d",
   "metadata": {},
   "source": [
    "Code challenge about lists: who is going to pay the resturant bill."
   ]
  },
  {
   "cell_type": "code",
   "execution_count": 59,
   "id": "270f7c6b",
   "metadata": {},
   "outputs": [
    {
     "name": "stdout",
     "output_type": "stream",
     "text": [
      "The person who is going to be paying for the bill is: Charlie\n"
     ]
    }
   ],
   "source": [
    "friends = [\"Alice\", \"Bob\", \"Charlie\", \"David\", \"Emanuel\"]\n",
    "index_pay = round(random.random() * len(friends))\n",
    "print(f\"The person who is going to be paying for the bill is: {friends[index_pay]}\")"
   ]
  },
  {
   "cell_type": "code",
   "execution_count": 60,
   "id": "be3c6759",
   "metadata": {},
   "outputs": [
    {
     "name": "stdout",
     "output_type": "stream",
     "text": [
      "Charlie\n"
     ]
    }
   ],
   "source": [
    "#another way\n",
    "print(random.choice(friends))"
   ]
  },
  {
   "cell_type": "markdown",
   "id": "259915ae",
   "metadata": {},
   "source": [
    "### Beginning with Python loops\n",
    "Here, we will be learning python loops."
   ]
  },
  {
   "cell_type": "code",
   "execution_count": null,
   "id": "3dc563f0",
   "metadata": {},
   "outputs": [
    {
     "name": "stdout",
     "output_type": "stream",
     "text": [
      "Apple\n",
      "Peach\n",
      "Pear\n"
     ]
    }
   ],
   "source": [
    "fruits = [\"Apple\", \"Peach\", \"Pear\"]\n",
    "for fruit in fruits: # one way to create a for loop in python \n",
    "    print(fruit)\n",
    "\n",
    "\n"
   ]
  },
  {
   "cell_type": "markdown",
   "id": "47b0ca00",
   "metadata": {},
   "source": [
    "Little excercise with loops that I just introduced."
   ]
  },
  {
   "cell_type": "code",
   "execution_count": 62,
   "id": "26eff528",
   "metadata": {},
   "outputs": [
    {
     "name": "stdout",
     "output_type": "stream",
     "text": [
      "201\n"
     ]
    }
   ],
   "source": [
    "student_scores = [150, 149, 130, 111, 120, 102, 150, 201]\n",
    "highest_score = 0\n",
    "for score in student_scores:\n",
    "    if score > highest_score:\n",
    "        highest_score = score\n",
    "\n",
    "print(highest_score)"
   ]
  },
  {
   "cell_type": "code",
   "execution_count": null,
   "id": "153216b3",
   "metadata": {},
   "outputs": [
    {
     "name": "stdout",
     "output_type": "stream",
     "text": [
      "201\n"
     ]
    }
   ],
   "source": [
    "# or you can just do this\n",
    "print(max(student_scores)) # but the purpose of doing the previous example is to practice for loops that we just learned"
   ]
  },
  {
   "cell_type": "code",
   "execution_count": null,
   "id": "76a4f526",
   "metadata": {},
   "outputs": [
    {
     "name": "stdout",
     "output_type": "stream",
     "text": [
      "150\n",
      "149\n",
      "130\n",
      "111\n",
      "120\n",
      "102\n",
      "150\n",
      "201\n"
     ]
    }
   ],
   "source": [
    "for i in range(0, len(student_scores)): # another way of creating for loops; 0 is included but the end number is not included\n",
    "    print(student_scores[i])"
   ]
  },
  {
   "cell_type": "code",
   "execution_count": null,
   "id": "4bc64913",
   "metadata": {},
   "outputs": [
    {
     "name": "stdout",
     "output_type": "stream",
     "text": [
      "150\n",
      "130\n",
      "120\n",
      "150\n"
     ]
    }
   ],
   "source": [
    "for i in range(0, len(student_scores), 2): # instead of just incrementing by 1 in each iteration, it increments by 2 in each iteration\n",
    "    print(student_scores[i])"
   ]
  },
  {
   "cell_type": "markdown",
   "id": "715bc488",
   "metadata": {},
   "source": [
    "## Functions\n",
    "Now comes an important concept in programming, called functions."
   ]
  },
  {
   "cell_type": "code",
   "execution_count": null,
   "id": "aaab043c",
   "metadata": {},
   "outputs": [
    {
     "name": "stdout",
     "output_type": "stream",
     "text": [
      "Hello\n",
      "Bye\n"
     ]
    }
   ],
   "source": [
    "def my_function(): # this is defining the function\n",
    "    print(\"Hello\")\n",
    "    print(\"Bye\")\n",
    "\n",
    "my_function() # this is calling the function\n"
   ]
  },
  {
   "cell_type": "markdown",
   "id": "f98a3df7",
   "metadata": {},
   "source": [
    "Indentation is important in Python."
   ]
  },
  {
   "cell_type": "code",
   "execution_count": null,
   "id": "2b39241b",
   "metadata": {},
   "outputs": [],
   "source": []
  }
 ],
 "metadata": {
  "kernelspec": {
   "display_name": "base",
   "language": "python",
   "name": "python3"
  },
  "language_info": {
   "codemirror_mode": {
    "name": "ipython",
    "version": 3
   },
   "file_extension": ".py",
   "mimetype": "text/x-python",
   "name": "python",
   "nbconvert_exporter": "python",
   "pygments_lexer": "ipython3",
   "version": "3.12.3"
  }
 },
 "nbformat": 4,
 "nbformat_minor": 5
}
