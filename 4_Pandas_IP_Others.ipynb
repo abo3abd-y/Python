{
 "cells": [
  {
   "cell_type": "markdown",
   "id": "8c8be2cd",
   "metadata": {},
   "source": [
    "# Working with data files using Pandas Library"
   ]
  },
  {
   "cell_type": "code",
   "execution_count": 7,
   "id": "e590e3f4",
   "metadata": {},
   "outputs": [
    {
     "name": "stdout",
     "output_type": "stream",
     "text": [
      "['day', 'temp', 'condition']\n",
      "['Monday', '12', 'Sunny']\n",
      "['Tuesday', '14', 'Rain']\n",
      "['Wednesday', '15', 'Rain']\n",
      "['Thursday', '14', 'Cloudy']\n",
      "['Friday', '21', 'Sunny']\n",
      "['Saturday', '22', 'Sunny']\n",
      "['Sunday', '24', 'Sunny']\n",
      "[12, 14, 15, 14, 21, 22, 24]\n"
     ]
    }
   ],
   "source": [
    "import csv\n",
    "\n",
    "with open(\"Garbage_data/weather_data.csv\") as file:\n",
    "    data = csv.reader(file) # returns an object\n",
    "    temperatures = []\n",
    "    for row in data:\n",
    "        if row[1] != \"temp\":\n",
    "            temperatures.append(int(row[1]))\n",
    "        print(row)\n",
    "    print(temperatures)\n",
    "    "
   ]
  },
  {
   "cell_type": "code",
   "execution_count": 35,
   "id": "eb02f554",
   "metadata": {},
   "outputs": [
    {
     "name": "stdout",
     "output_type": "stream",
     "text": [
      "         day  temp condition\n",
      "0     Monday    12     Sunny\n",
      "1    Tuesday    14      Rain\n",
      "2  Wednesday    15      Rain\n",
      "3   Thursday    14    Cloudy\n",
      "4     Friday    21     Sunny\n",
      "5   Saturday    22     Sunny\n",
      "6     Sunday    24     Sunny\n"
     ]
    }
   ],
   "source": [
    "import pandas as pd\n",
    "\n",
    "data = pd.read_csv(\"Garbage_data/weather_data.csv\")\n",
    "print(data)"
   ]
  },
  {
   "cell_type": "code",
   "execution_count": null,
   "id": "4e7c2003",
   "metadata": {},
   "outputs": [
    {
     "name": "stdout",
     "output_type": "stream",
     "text": [
      "0    12\n",
      "1    14\n",
      "2    15\n",
      "3    14\n",
      "4    21\n",
      "5    22\n",
      "6    24\n",
      "Name: temp, dtype: int64\n",
      "<class 'pandas.core.series.Series'>\n",
      "<class 'pandas.core.frame.DataFrame'>\n"
     ]
    }
   ],
   "source": [
    "print(data[\"temp\"])\n",
    "print(type(data[\"temp\"])) # Every column is an object of Series\n",
    "print(type(data)) # data is an object of DataFrame object"
   ]
  },
  {
   "cell_type": "code",
   "execution_count": null,
   "id": "da47d361",
   "metadata": {},
   "outputs": [
    {
     "name": "stdout",
     "output_type": "stream",
     "text": [
      "{'day': {0: 'Monday', 1: 'Tuesday', 2: 'Wednesday', 3: 'Thursday', 4: 'Friday', 5: 'Saturday', 6: 'Sunday'}, 'temp': {0: 12, 1: 14, 2: 15, 3: 14, 4: 21, 5: 22, 6: 24}, 'condition': {0: 'Sunny', 1: 'Rain', 2: 'Rain', 3: 'Cloudy', 4: 'Sunny', 5: 'Sunny', 6: 'Sunny'}}\n"
     ]
    }
   ],
   "source": [
    "data_dict = data.to_dict()\n",
    "print(data_dict) # you can even convert this into a dictionary"
   ]
  },
  {
   "cell_type": "code",
   "execution_count": 15,
   "id": "751ec5f9",
   "metadata": {},
   "outputs": [
    {
     "data": {
      "text/plain": [
       "[12, 14, 15, 14, 21, 22, 24]"
      ]
     },
     "execution_count": 15,
     "metadata": {},
     "output_type": "execute_result"
    }
   ],
   "source": [
    "temp_list = data[\"temp\"].to_list()\n",
    "temp_list"
   ]
  },
  {
   "cell_type": "code",
   "execution_count": 16,
   "id": "1429563b",
   "metadata": {},
   "outputs": [
    {
     "data": {
      "text/plain": [
       "17.428571428571427"
      ]
     },
     "execution_count": 16,
     "metadata": {},
     "output_type": "execute_result"
    }
   ],
   "source": [
    "# calc avg\n",
    "sum(temp_list) / len(temp_list)"
   ]
  },
  {
   "cell_type": "code",
   "execution_count": null,
   "id": "b1df9a55",
   "metadata": {},
   "outputs": [
    {
     "data": {
      "text/plain": [
       "np.float64(17.428571428571427)"
      ]
     },
     "execution_count": 17,
     "metadata": {},
     "output_type": "execute_result"
    }
   ],
   "source": [
    "# or you can do it this way\n",
    "data[\"temp\"].mean() # remember .mean is just a method part of series object"
   ]
  },
  {
   "cell_type": "code",
   "execution_count": null,
   "id": "6b2e54e8",
   "metadata": {},
   "outputs": [
    {
     "data": {
      "text/plain": [
       "np.int64(24)"
      ]
     },
     "execution_count": 18,
     "metadata": {},
     "output_type": "execute_result"
    }
   ],
   "source": [
    "# calc the max\n",
    "int(data[\"temp\"].max())"
   ]
  },
  {
   "cell_type": "code",
   "execution_count": null,
   "id": "662bf16c",
   "metadata": {},
   "outputs": [
    {
     "name": "stdout",
     "output_type": "stream",
     "text": [
      "0     Sunny\n",
      "1      Rain\n",
      "2      Rain\n",
      "3    Cloudy\n",
      "4     Sunny\n",
      "5     Sunny\n",
      "6     Sunny\n",
      "Name: condition, dtype: object\n",
      "0     Sunny\n",
      "1      Rain\n",
      "2      Rain\n",
      "3    Cloudy\n",
      "4     Sunny\n",
      "5     Sunny\n",
      "6     Sunny\n",
      "Name: condition, dtype: object\n"
     ]
    }
   ],
   "source": [
    "print(data[\"condition\"])\n",
    "print(data.condition) # as you can see, pandas converts each column into an attribute of Series class"
   ]
  },
  {
   "cell_type": "markdown",
   "id": "fcf2d69f",
   "metadata": {},
   "source": [
    "But how to get datas that are in the rows instead of columns?"
   ]
  },
  {
   "cell_type": "code",
   "execution_count": 23,
   "id": "0b203219",
   "metadata": {},
   "outputs": [
    {
     "data": {
      "text/html": [
       "<div>\n",
       "<style scoped>\n",
       "    .dataframe tbody tr th:only-of-type {\n",
       "        vertical-align: middle;\n",
       "    }\n",
       "\n",
       "    .dataframe tbody tr th {\n",
       "        vertical-align: top;\n",
       "    }\n",
       "\n",
       "    .dataframe thead th {\n",
       "        text-align: right;\n",
       "    }\n",
       "</style>\n",
       "<table border=\"1\" class=\"dataframe\">\n",
       "  <thead>\n",
       "    <tr style=\"text-align: right;\">\n",
       "      <th></th>\n",
       "      <th>day</th>\n",
       "      <th>temp</th>\n",
       "      <th>condition</th>\n",
       "    </tr>\n",
       "  </thead>\n",
       "  <tbody>\n",
       "    <tr>\n",
       "      <th>0</th>\n",
       "      <td>Monday</td>\n",
       "      <td>12</td>\n",
       "      <td>Sunny</td>\n",
       "    </tr>\n",
       "  </tbody>\n",
       "</table>\n",
       "</div>"
      ],
      "text/plain": [
       "      day  temp condition\n",
       "0  Monday    12     Sunny"
      ]
     },
     "execution_count": 23,
     "metadata": {},
     "output_type": "execute_result"
    }
   ],
   "source": [
    "type(data[data[\"day\"] == \"Monday\"]) # as you can see, it returns dataframe\n",
    "data[data[\"day\"] == \"Monday\"]"
   ]
  },
  {
   "cell_type": "code",
   "execution_count": 36,
   "id": "1a033961",
   "metadata": {},
   "outputs": [
    {
     "name": "stdout",
     "output_type": "stream",
     "text": [
      "0     True\n",
      "1    False\n",
      "2    False\n",
      "3    False\n",
      "4    False\n",
      "5    False\n",
      "6    False\n",
      "Name: day, dtype: bool\n",
      "<class 'pandas.core.series.Series'>\n"
     ]
    }
   ],
   "source": [
    "# but what does inside mean\n",
    "print(data[\"day\"] == \"Monday\") # as you can see, it returns a Series object of boolean values. When you put this inside a dataframe, it returns the row of dataframe objectv\n",
    "print(type(data[\"day\"] == \"Monday\")) # it returns a Series"
   ]
  },
  {
   "cell_type": "code",
   "execution_count": 29,
   "id": "71c6f2e0",
   "metadata": {},
   "outputs": [
    {
     "data": {
      "text/plain": [
       "0    Sunny\n",
       "Name: condition, dtype: object"
      ]
     },
     "execution_count": 29,
     "metadata": {},
     "output_type": "execute_result"
    }
   ],
   "source": [
    "monday = data[data.day == \"Monday\"]\n",
    "monday.condition"
   ]
  },
  {
   "cell_type": "code",
   "execution_count": 31,
   "id": "78052d2b",
   "metadata": {},
   "outputs": [
    {
     "name": "stdout",
     "output_type": "stream",
     "text": [
      "<class 'numpy.int64'>\n",
      "53.6\n"
     ]
    }
   ],
   "source": [
    "monday_temp = monday.temp[0] # extract the actual value from the series object\n",
    "print(type(monday_temp)) \n",
    "monday_temp_f = monday_temp * 9/5  + 32\n",
    "print(monday_temp_f)"
   ]
  },
  {
   "cell_type": "code",
   "execution_count": null,
   "id": "a34d4f58",
   "metadata": {},
   "outputs": [
    {
     "name": "stdout",
     "output_type": "stream",
     "text": [
      "  students  scores\n",
      "0      Amy      76\n",
      "1    James      56\n",
      "2   Angela      65\n"
     ]
    }
   ],
   "source": [
    "# Create a dataframe from scratch\n",
    "data_dict = {\n",
    "    \"students\" : [\"Amy\", \"James\", \"Angela\"],\n",
    "    \"scores\" : [76, 56, 65]\n",
    "}\n",
    "data = pd.DataFrame(data_dict)\n",
    "print(data) # we created a dataframe"
   ]
  },
  {
   "cell_type": "code",
   "execution_count": 33,
   "id": "c1070d40",
   "metadata": {},
   "outputs": [],
   "source": [
    "# now, we can actually \n",
    "data.to_csv(\"Garbage_data/new_data.csv\") # conver it into a csv file called new_data.csv"
   ]
  },
  {
   "cell_type": "markdown",
   "id": "fd5ad788",
   "metadata": {},
   "source": [
    "Now, let's apply what we have learned in `pandas` to a file that talks about squirrals that I got from [this link](https://data.cityofnewyork.us/Environment/2018-Central-Park-Squirrel-Census-Squirrel-Data/vfnx-vebw/about_data)."
   ]
  },
  {
   "cell_type": "code",
   "execution_count": 59,
   "id": "8cf20c26",
   "metadata": {},
   "outputs": [],
   "source": [
    "import pandas as pd\n",
    "data = pd.read_csv(\"Garbage_data/2018_Central_Park_Squirrel_Census_-_Squirrel_Data_20250605.csv\") # again, this return a DataFrame object"
   ]
  },
  {
   "cell_type": "code",
   "execution_count": 60,
   "id": "36a9cac7",
   "metadata": {},
   "outputs": [
    {
     "data": {
      "text/plain": [
       "pandas.core.frame.DataFrame"
      ]
     },
     "execution_count": 60,
     "metadata": {},
     "output_type": "execute_result"
    }
   ],
   "source": [
    "type(data[data[\"Primary Fur Color\"] == \"Cinnamon\"])"
   ]
  },
  {
   "cell_type": "code",
   "execution_count": 55,
   "id": "167d8f66",
   "metadata": {},
   "outputs": [],
   "source": [
    "count = []\n",
    "colors = [\"Gray\", \"Cinnamon\", \"Black\"]\n",
    "for color in colors:\n",
    "    count.append(len(data[data[\"Primary Fur Color\"] == color]))"
   ]
  },
  {
   "cell_type": "code",
   "execution_count": 57,
   "id": "af775c1e",
   "metadata": {},
   "outputs": [
    {
     "data": {
      "text/html": [
       "<div>\n",
       "<style scoped>\n",
       "    .dataframe tbody tr th:only-of-type {\n",
       "        vertical-align: middle;\n",
       "    }\n",
       "\n",
       "    .dataframe tbody tr th {\n",
       "        vertical-align: top;\n",
       "    }\n",
       "\n",
       "    .dataframe thead th {\n",
       "        text-align: right;\n",
       "    }\n",
       "</style>\n",
       "<table border=\"1\" class=\"dataframe\">\n",
       "  <thead>\n",
       "    <tr style=\"text-align: right;\">\n",
       "      <th></th>\n",
       "      <th>Fur Color</th>\n",
       "      <th>Count</th>\n",
       "    </tr>\n",
       "  </thead>\n",
       "  <tbody>\n",
       "    <tr>\n",
       "      <th>0</th>\n",
       "      <td>Gray</td>\n",
       "      <td>2473</td>\n",
       "    </tr>\n",
       "    <tr>\n",
       "      <th>1</th>\n",
       "      <td>Cinnamon</td>\n",
       "      <td>392</td>\n",
       "    </tr>\n",
       "    <tr>\n",
       "      <th>2</th>\n",
       "      <td>Black</td>\n",
       "      <td>103</td>\n",
       "    </tr>\n",
       "  </tbody>\n",
       "</table>\n",
       "</div>"
      ],
      "text/plain": [
       "  Fur Color  Count\n",
       "0      Gray   2473\n",
       "1  Cinnamon    392\n",
       "2     Black    103"
      ]
     },
     "execution_count": 57,
     "metadata": {},
     "output_type": "execute_result"
    }
   ],
   "source": [
    "summary_dict = {\n",
    "    \"Fur Color\" : colors,\n",
    "    \"Count\" : count\n",
    "}\n",
    "summary_data = pd.DataFrame(summary_dict)\n",
    "summary_data"
   ]
  },
  {
   "cell_type": "code",
   "execution_count": 58,
   "id": "d28fc986",
   "metadata": {},
   "outputs": [],
   "source": [
    "summary_data.to_csv(\"Garbage_data/squiral_summary.csv\")"
   ]
  },
  {
   "cell_type": "markdown",
   "id": "658d93fb",
   "metadata": {},
   "source": [
    "Now, let's apply what we have learned to a project which is a game that tests your knowledge on US states."
   ]
  },
  {
   "cell_type": "code",
   "execution_count": null,
   "id": "bebfc646",
   "metadata": {},
   "outputs": [],
   "source": [
    "import pandas as pd\n",
    "import turtle as tr\n",
    "\n",
    "screen = tr.Screen()\n",
    "screen.title(\"US States Game\")\n",
    "image = \"Garbage_data/blank_states_img.gif\"\n",
    "screen.addshape(image)\n",
    "\n",
    "tr.shape(image)\n",
    "\n",
    "data = pd.read_csv(\"Garbage_data/50_states.csv\")\n",
    "all_states = data.state.to_list()\n",
    "\n",
    "guessed_states = []\n",
    "while len(guessed_states) < 50:\n",
    "\n",
    "    answer_state = screen.textinput(title=f\"{len(guessed_states)}/50\", \n",
    "                                    prompt=\"What's another state's name?\").title() # answer stored here\n",
    "\n",
    "\n",
    "    if answer_state == \"Exit\" :\n",
    "        missing_states = []\n",
    "        for state in all_states:\n",
    "            if state not in guessed_states:\n",
    "                missing_states.append(state)\n",
    "\n",
    "        new_data = pd.DataFrame(missing_states)\n",
    "        new_data.to_csv(\"Garbage_data/states_to_learn.csv\")\n",
    "        break\n",
    "\n",
    "    if answer_state in all_states : # checks to see if something is inside another list ; only works in lists\n",
    "        guessed_states.append(answer_state)\n",
    "        t = tr.Turtle()\n",
    "        t.hideturtle()\n",
    "        t.penup()\n",
    "        state_data = data[data.state == answer_state] # pull out the row (DataFrame)\n",
    "        t.goto(x=state_data.x.item(), y=state_data.y.item())\n",
    "        t.write(state_data.state.item()) # item() is a method in Series that grabs the first element\n",
    "\n",
    "# States that are missed turned into .csv file\n"
   ]
  },
  {
   "cell_type": "markdown",
   "id": "26ec27c6",
   "metadata": {},
   "source": [
    "Here is a little lesson on `Series.item()`."
   ]
  },
  {
   "cell_type": "code",
   "execution_count": 66,
   "id": "d81bbc4f",
   "metadata": {},
   "outputs": [],
   "source": [
    "import pandas as pd\n",
    "data = pd.read_csv(\"Garbage_data/50_states.csv\")\n",
    "# data[\"state\"].item() # produces an error: the result must be of size 1"
   ]
  },
  {
   "cell_type": "markdown",
   "id": "ea0c1c6f",
   "metadata": {},
   "source": [
    "## List and Dictionary Comprehension\n",
    "\n",
    "We are going to be learning more about lists and dictionaries.\n",
    "\n",
    "What is a list comprehension? This is something only unique to the python language. It is a way to create a new list out of another list with less typing than usual."
   ]
  },
  {
   "cell_type": "code",
   "execution_count": null,
   "id": "6beb0410",
   "metadata": {},
   "outputs": [
    {
     "data": {
      "text/plain": [
       "[2, 3, 4]"
      ]
     },
     "execution_count": 67,
     "metadata": {},
     "output_type": "execute_result"
    }
   ],
   "source": [
    "numbers = [1, 2, 3]\n",
    "new_numbers = [n + 1 for n in numbers] # this is how to use it\n",
    "new_numbers"
   ]
  },
  {
   "cell_type": "code",
   "execution_count": 69,
   "id": "7610adba",
   "metadata": {},
   "outputs": [
    {
     "data": {
      "text/plain": [
       "['A', 'n', 'g', 'e', 'l', 'a']"
      ]
     },
     "execution_count": 69,
     "metadata": {},
     "output_type": "execute_result"
    }
   ],
   "source": [
    "name = \"Angela\"\n",
    "letters_list = [letter for letter in name] # this also works in strings, not just lists\n",
    "letters_list"
   ]
  },
  {
   "cell_type": "code",
   "execution_count": 70,
   "id": "0514db71",
   "metadata": {},
   "outputs": [
    {
     "data": {
      "text/plain": [
       "[2, 4, 6, 8]"
      ]
     },
     "execution_count": 70,
     "metadata": {},
     "output_type": "execute_result"
    }
   ],
   "source": [
    "range_list = [new_item * 2 for new_item in range(1,5)]\n",
    "range_list"
   ]
  },
  {
   "cell_type": "code",
   "execution_count": 72,
   "id": "7d8cb6c0",
   "metadata": {},
   "outputs": [
    {
     "data": {
      "text/plain": [
       "range"
      ]
     },
     "execution_count": 72,
     "metadata": {},
     "output_type": "execute_result"
    }
   ],
   "source": [
    "type(range(1,5))"
   ]
  },
  {
   "cell_type": "code",
   "execution_count": null,
   "id": "72f707e7",
   "metadata": {},
   "outputs": [
    {
     "data": {
      "text/plain": [
       "['Alex', 'Beth', 'Dave']"
      ]
     },
     "execution_count": 73,
     "metadata": {},
     "output_type": "execute_result"
    }
   ],
   "source": [
    "names = [\"Alex\", \"Beth\", \"Caroline\", \"Dave\", \"Eleanor\", \"Freddie\"]\n",
    "short_names = [n for n in names if len(n) < 5] # as you can see, we can also add conditions here\n",
    "short_names"
   ]
  },
  {
   "cell_type": "code",
   "execution_count": 75,
   "id": "b2359642",
   "metadata": {},
   "outputs": [
    {
     "data": {
      "text/plain": [
       "['CAROLINE', 'ELEANOR', 'FREDDIE']"
      ]
     },
     "execution_count": 75,
     "metadata": {},
     "output_type": "execute_result"
    }
   ],
   "source": [
    "uppercase_long_names = [n.upper() for n in names if len(n) > 5]\n",
    "uppercase_long_names"
   ]
  },
  {
   "cell_type": "markdown",
   "id": "890282b5",
   "metadata": {},
   "source": [
    "Now, we are going to learn about dictionary comprehension."
   ]
  },
  {
   "cell_type": "code",
   "execution_count": 86,
   "id": "9d4fcfd2",
   "metadata": {},
   "outputs": [
    {
     "data": {
      "text/plain": [
       "{'Alex': 53,\n",
       " 'Beth': 80,\n",
       " 'Caroline': 10,\n",
       " 'Dave': 40,\n",
       " 'Eleanor': 91,\n",
       " 'Freddie': 13}"
      ]
     },
     "execution_count": 86,
     "metadata": {},
     "output_type": "execute_result"
    }
   ],
   "source": [
    "import random\n",
    "student_grades = {student : random.randint(0, 100) for student in names} # names here could be any sort of iterable: list, string, tuple, etc.\n",
    "student_grades"
   ]
  },
  {
   "cell_type": "code",
   "execution_count": 87,
   "id": "6a89e250",
   "metadata": {},
   "outputs": [
    {
     "name": "stdout",
     "output_type": "stream",
     "text": [
      "dict_items([('Alex', 53), ('Beth', 80), ('Caroline', 10), ('Dave', 40), ('Eleanor', 91), ('Freddie', 13)])\n",
      "<class 'dict_items'>\n"
     ]
    }
   ],
   "source": [
    "# remember\n",
    "print(student_grades.items())\n",
    "print(type(student_grades.items()))\n"
   ]
  },
  {
   "cell_type": "code",
   "execution_count": 88,
   "id": "26401285",
   "metadata": {},
   "outputs": [
    {
     "data": {
      "text/plain": [
       "{'Beth': 80, 'Eleanor': 91}"
      ]
     },
     "execution_count": 88,
     "metadata": {},
     "output_type": "execute_result"
    }
   ],
   "source": [
    "passed_students = {student : grade for (student, grade) in student_grades.items() if grade >= 60}\n",
    "passed_students"
   ]
  },
  {
   "cell_type": "markdown",
   "id": "daf043a3",
   "metadata": {},
   "source": [
    "How to iterate over Pandas datatypes?"
   ]
  },
  {
   "cell_type": "code",
   "execution_count": null,
   "id": "188ec157",
   "metadata": {},
   "outputs": [
    {
     "name": "stdout",
     "output_type": "stream",
     "text": [
      "['Angela', 'James', 'Lily']\n",
      "[56, 76, 98]\n",
      "students\n",
      "0    Angela\n",
      "1     James\n",
      "2      Lily\n",
      "Name: students, dtype: object\n",
      "scores\n",
      "0    56\n",
      "1    76\n",
      "2    98\n",
      "Name: scores, dtype: int64\n",
      "0\n",
      "students    Angela\n",
      "scores          56\n",
      "Name: 0, dtype: object\n",
      "<class 'pandas.core.series.Series'>\n",
      "Angela\n",
      "56\n",
      "1\n",
      "students    James\n",
      "scores         76\n",
      "Name: 1, dtype: object\n",
      "<class 'pandas.core.series.Series'>\n",
      "James\n",
      "76\n",
      "2\n",
      "students    Lily\n",
      "scores        98\n",
      "Name: 2, dtype: object\n",
      "<class 'pandas.core.series.Series'>\n",
      "Lily\n",
      "98\n"
     ]
    }
   ],
   "source": [
    "student_dict = {\n",
    "    \"students\" : [\"Angela\", \"James\", \"Lily\"],\n",
    "    \"scores\" : [56, 76, 98]\n",
    "}\n",
    "\n",
    "for (key, value) in student_dict.items():\n",
    "    print(value)\n",
    "\n",
    "\n",
    "import pandas as pd\n",
    "\n",
    "student_df = pd.DataFrame(student_dict)\n",
    "\n",
    "# loop through\n",
    "for (key, value) in student_df.items():\n",
    "    print(key)\n",
    "    print(value)\n",
    "\n",
    "\n",
    "# loop through rows and not columns\n",
    "for (index, row) in student_df.iterrows():\n",
    "    print(index)\n",
    "    print(row)\n",
    "\n",
    "\n",
    "    print(row.students) # since row is a series, we can just access it like this\n",
    "    print(row.scores)"
   ]
  },
  {
   "cell_type": "markdown",
   "id": "c588825b",
   "metadata": {},
   "source": [
    "Now, let's do our project using NATO alphabet."
   ]
  },
  {
   "cell_type": "code",
   "execution_count": null,
   "id": "a1b41937",
   "metadata": {},
   "outputs": [],
   "source": []
  }
 ],
 "metadata": {
  "kernelspec": {
   "display_name": "Python 3",
   "language": "python",
   "name": "python3"
  },
  "language_info": {
   "codemirror_mode": {
    "name": "ipython",
    "version": 3
   },
   "file_extension": ".py",
   "mimetype": "text/x-python",
   "name": "python",
   "nbconvert_exporter": "python",
   "pygments_lexer": "ipython3",
   "version": "3.13.2"
  }
 },
 "nbformat": 4,
 "nbformat_minor": 5
}
